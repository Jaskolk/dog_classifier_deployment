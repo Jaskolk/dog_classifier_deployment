{
 "cells": [
  {
   "cell_type": "code",
   "execution_count": 1,
   "metadata": {
    "colab": {},
    "colab_type": "code",
    "id": "1olBH0o06Vnb"
   },
   "outputs": [],
   "source": [
    "from fastai.vision.all import *\n",
    "from fastai.vision.widgets import *"
   ]
  },
  {
   "cell_type": "markdown",
   "metadata": {},
   "source": [
    "## I am an online dog classifier\n",
    "I have been trained to differentiate between 4 types of dogs:   goldendoodles, huskies, chihuahas and terriers\n",
    "\n",
    "All you have to do is click the upload button to show me a picture of a dog and then click the classify button"
   ]
  },
  {
   "cell_type": "code",
   "execution_count": 2,
   "metadata": {
    "colab": {},
    "colab_type": "code",
    "id": "FezQgTdK5C01"
   },
   "outputs": [],
   "source": [
    "path = Path()\n",
    "learn_inf = load_learner(path/'export.pkl', cpu=True)\n",
    "btn_upload = widgets.FileUpload()\n",
    "out_pl = widgets.Output()\n",
    "lbl_pred = widgets.Label()\n",
    "btn_run = widgets.Button(description='Classify image')"
   ]
  },
  {
   "cell_type": "code",
   "execution_count": 7,
   "metadata": {
    "colab": {},
    "colab_type": "code",
    "id": "Wq5CElb65wom"
   },
   "outputs": [],
   "source": [
    "def on_click_classify(change):\n",
    "    img = PILImage.create(btn_upload.data[-1])\n",
    "    out_pl.clear_output()\n",
    "    with out_pl: display(img.to_thumb(256,256))\n",
    "    pred,pred_idx,probs = learn_inf.predict(img)\n",
    "    lbl_pred.value = f'Prediction: {pred}; Probability: {probs[pred_idx]:.04f}'\n",
    "    lbl_pred"
   ]
  },
  {
   "cell_type": "code",
   "execution_count": 8,
   "metadata": {
    "colab": {},
    "colab_type": "code",
    "id": "z2Z15fCt6fIo"
   },
   "outputs": [],
   "source": [
    "btn_run.on_click(on_click_classify)"
   ]
  },
  {
   "cell_type": "code",
   "execution_count": 9,
   "metadata": {
    "colab": {},
    "colab_type": "code",
    "id": "JJ7T0MaU6Vpk"
   },
   "outputs": [],
   "source": [
    "#hide\n",
    "#Putting back btn_upload to a widget for next cell\n",
    "#btn_upload = widgets.FileUpload()"
   ]
  },
  {
   "cell_type": "code",
   "execution_count": 14,
   "metadata": {},
   "outputs": [
    {
     "data": {
      "application/vnd.jupyter.widget-view+json": {
       "model_id": "d0c28ea6de7340d4b697608dab720b33",
       "version_major": 2,
       "version_minor": 0
      },
      "text/plain": [
       "VBox(children=(Label(value='This is a simple online dog breed classifier'), HBox(children=(FileUpload(value={'…"
      ]
     },
     "metadata": {},
     "output_type": "display_data"
    },
    {
     "data": {
      "text/html": [],
      "text/plain": [
       "<IPython.core.display.HTML object>"
      ]
     },
     "metadata": {},
     "output_type": "display_data"
    },
    {
     "data": {
      "text/html": [],
      "text/plain": [
       "<IPython.core.display.HTML object>"
      ]
     },
     "metadata": {},
     "output_type": "display_data"
    }
   ],
   "source": [
    "#hide_output\n",
    "display(VBox([widgets.Label('This is a simple online dog breed classifier'),\n",
    "              HBox([btn_upload, widgets.Label('Click the upload button to select an image of a dog for analysis!')]), \n",
    "              HBox([btn_run, widgets.Label('Click the classisfy button analyze the image')]),\n",
    "              out_pl,\n",
    "              lbl_pred]))"
   ]
  },
  {
   "cell_type": "code",
   "execution_count": 10,
   "metadata": {
    "colab": {
     "base_uri": "https://localhost:8080/",
     "height": 378,
     "referenced_widgets": [
      "e2772dec3b0a4b55b0ff3a922426d93b",
      "5bf3d35882184636a92eff79943be1df",
      "a8653ed4a53d4048933e0be554b4d969",
      "47cd3d7cdfc6483cbc3c58732306a50e",
      "c6fb44fa24704191bb0f7ae9020ba388",
      "c23b242608e1480081629d766cd4d21d",
      "0c4103c8a1b048fca9560cc46917e675",
      "e71960be600d400cb29a8dca752249ae",
      "7ebc3f7020544ac6b0a470fe009a5354",
      "546fae3a1a5049449845aa9ffffb6727",
      "71c13e5e6d644d0d8710d2ab9d542c3d",
      "25c8af20218d4de89426ee92c0bc4011",
      "f353f631cfe242c7b90175e6f9c0f633",
      "a4d904e04679445aac8ba9c483425a4b",
      "ccfaeb6971934904b77423d4d2d49769",
      "bc3cc6f8c1a64736b61770f5ed641176",
      "4c8449839f594c85afff4be4dbbee98b",
      "acaa99e04ca34ce1ae3e0899684d5087",
      "e21e78619c0e4e88809560224e89b1d3"
     ]
    },
    "colab_type": "code",
    "id": "fLKP_Zcm6Vpl",
    "outputId": "6fe8b045-cd49-476d-e659-30906c9438ec"
   },
   "outputs": [
    {
     "data": {
      "application/vnd.jupyter.widget-view+json": {
       "model_id": "c1f051a739a248af854fc4b9383a0d9d",
       "version_major": 2,
       "version_minor": 0
      },
      "text/plain": [
       "VBox(children=(Label(value='This is a simple online dog breed classifier'), Label(value='Click the upload butt…"
      ]
     },
     "metadata": {},
     "output_type": "display_data"
    }
   ],
   "source": [
    "#hide_output\n",
    "#display(VBox([widgets.Label('This is a simple online dog breed classifier'),\n",
    "#              widgets.Label('Click the upload button to select an image of a dog for analysis!'), \n",
    "#              btn_upload,\n",
    "#              btn_run,\n",
    "#              out_pl,\n",
    "#              lbl_pred]))"
   ]
  },
  {
   "cell_type": "code",
   "execution_count": null,
   "metadata": {
    "colab": {},
    "colab_type": "code",
    "id": "geIX0fXvdni8"
   },
   "outputs": [],
   "source": []
  }
 ],
 "metadata": {
  "accelerator": "GPU",
  "colab": {
   "name": "02_production.ipynb",
   "provenance": []
  },
  "jupytext": {
   "split_at_heading": true
  },
  "kernelspec": {
   "display_name": "Python 3",
   "language": "python",
   "name": "python3"
  },
  "language_info": {
   "codemirror_mode": {
    "name": "ipython",
    "version": 3
   },
   "file_extension": ".py",
   "mimetype": "text/x-python",
   "name": "python",
   "nbconvert_exporter": "python",
   "pygments_lexer": "ipython3",
   "version": "3.6.12"
  },
  "toc": {
   "base_numbering": 1,
   "nav_menu": {},
   "number_sections": false,
   "sideBar": true,
   "skip_h1_title": true,
   "title_cell": "Table of Contents",
   "title_sidebar": "Contents",
   "toc_cell": false,
   "toc_position": {},
   "toc_section_display": true,
   "toc_window_display": false
  },
  "widgets": {
   "application/vnd.jupyter.widget-state+json": {
    "0c4103c8a1b048fca9560cc46917e675": {
     "model_module": "@jupyter-widgets/output",
     "model_name": "OutputModel",
     "state": {
      "_dom_classes": [],
      "_model_module": "@jupyter-widgets/output",
      "_model_module_version": "1.0.0",
      "_model_name": "OutputModel",
      "_view_count": null,
      "_view_module": "@jupyter-widgets/output",
      "_view_module_version": "1.0.0",
      "_view_name": "OutputView",
      "layout": "IPY_MODEL_e21e78619c0e4e88809560224e89b1d3",
      "msg_id": "",
      "outputs": [
       {
        "image/png": "iVBORw0KGgoAAAANSUhEUgAAAPsAAADJCAIAAABqotNXAAEAAElEQVR4nIT9aY8lSZYejB1bfXe/e+yZWVmVtXRNT3OmqSFeLi8oiMQL/R/9A30V9FME6asAQYRIaoYUODM93V291JJrbHf33XbTB4uIyl4GdAQCNyJuuPt1e+zYOc95zjH0f/k//58AwHnkABnnvUcesPceY4wQwshjDAQBQYCRRwgZRwDAe++tc96C884ZDGCMYhQbqdq2IRhXVRHHsbV23H2YTuZRlBDKoigxxrXd4BCOouhY10KLzWazP2zr9jiZTP63/+0//vW/+z+crlbVtAKtVFfLvu3qXXvc319/iCgpiyLPc+/9bre7ubk5HA7b7197jIx1J2fnUttByDhN/8Vf//xwOLx///bLL159+eWX1+9f77c7Sslhtxk9nJ1dvPrqJ1Fa/j//X//vfdMD5YCYUAZTQjHBGDA4Z7XVyjmnPCWEIISstd57SimlFAAIIc65JEmOxyPGeDqdNk1jjOEJklI2TYMoK4qiqbumaZIsj3hivXPOe++9Qxa8c845kHLUWkdRZKTx3hPChmGgiBZF5a0zxllrrfXIee89AEjfw4+HAwBADsBlWYYQEEIwAUIIISiMIGcZQgghBADOOWu9tdZaK6UEj/3j4RyE83sswXkAQAgRQiilnDFCSFEUBBAhBGOMAbnHo64b771zTmstlRFCSCmVcdZa55z14L0PpyKEIEyU6jAGSil7PCglGOMoihD24YqUYkppuJb36PEOnXPOWXj88eGX1vqnm/HeK0G8t86F52attc6FB0sAeYQQJYAseOQBARBABsB7C4AfHyjCHhAAAgAE2AMhBJz34D0FbMEjSzH13jqDnHMIQZIkBAPGGAAoJrPpYrFYNE3XNM3paR7F6TBKY6zW+ng8HttmGDrO+XK5XCwW0+m8zHOEkGjaoa/HtjZjJ7p2bLumaZCzx8MhjaMkSQhhp6uT1WKJ+kEIeTgex3HsR9n2A2r79+/fP3/+PM/Tw27/zTffPLs4H/vh9esf8iStD7s4Tte3d7MVYoRSSi1CXd/zOMWEEBxG1GFACCFvHSFcSgkAGOMAemOMlDLLMmOMMcY5hzEehkEppZTymEqpATBCSIxKa40xDWCy1imlnAWEAuLBWss5BwBKqTfeOUcIYYxxwoehw0AwppRSQhByD9NFGwLIw8cHgnC5AOvHI4zgA46fjgAX+DOHCyf60+NpVgBCD7Pi8QwIIUqpcy5YhHAD/g+OhzeH96A/f4V/9orOOQD8RycMz+HBdjzezz/zoeDjxxJeUIQQRsh5QIDgx8/z4/8/fVQE4L1H4BECH35PEPLIe0CAwSBrLSEkiTlB2HuPwDHOTuZnjLG66aMoKcuJ0lYpI6Qyph9HIYQYBmGMitOoKIrZbKbkWCQx45x4NzR1vV+PbWfVEFEihWy79ri3SZIURZEkGSHk8vLqcDwKqREQwAQwlVodDoeiKObzOeBD13VRFE2n09evoe/7+nAghCFMEYvTNBXGKwfrzQERhow1hBCMATzy1nsAhxgnWmtCCOdcaw0AGONxHMMKJoSI4xgA2rYNZqxteqUUIQQw1F2rtSaEWeMPwxEw8i48fYwZTZKIMda2dTD27qPDgkUIYYQpxRhTAAALYXaFFQYAHnH/ZOYxgAdACDACAj4gHoUJ+QBqBx8h6U8P9zDcj+j5GEnOOYcAPSDhR+Ryzp1zxhhrLULq4c3eBKw/XerhPP7PXvfhDQFg4YYfZ8jDFHp6Lo+r5NMLFF48XQIh9IjzP5hhCKGAaooxII+AeGcdIPDOIUDOW+8BAfLgACPvHWBADgHyyBoAQOAQADgPyJFwSkq804yQIssxATmMzjmGSTWZ3t2tCWGnpyeE8uPmvun6cZQOvBBKKR2WvzhOz04vTk/OV/OZlONhszdapUnk81w0db3fLRczisAarVvZt61R6oAPWttFVhrnrQOCMGdxFDmpdNN2681WG7NYLChBN/d3MadnZ2e/+c1vlFJD2+3IdrE6n1QVYfGo7M3tBqx32DmPLPLIA6CHwbZCCaHiOEaIBFzGMU+SjFLOWGStT9PcGGOMmM0WaZp++/3vESJpmiPKpLRRRPOssN4pVTPKGYucc8Y4TGmWFkVRHI97hBDnnGHinEOISCmttRhj550xBmOHMaUYc04RQk7ZB5T/Ee49BuQBMEAYcowAI0DeI+cgDP2P0HGP88T/sdV9Qh78obW21mIMCCGMsf8RQ8AYC2cL9i64Uk/wCqD3T1fxiOB/DvN/ZNof3KGwWD3B/Qnx1loAePJ5vPfBSfsjxP8p7iklxDoHDjkA5z32YLz1DhAhAA57BM4jBMh5wB48IKc+/n/0YAMcpwQcixiJOQUAjcE7550BTJq2z7ICE/b2zYe7zVprezw0LOJ1Xe+Pxzjhs9ni1aeffvnll4vFgmPvMVhn9Nj19UH2XRLTF8+v6uMBeYc9aK2sdWEMhl6Mh26Q4th2ORCHkFT6UDejNqcX57vdvizLoqju725aMAhhSmnMI2es0Vr0w/JsynjaS72YzbUD65ED5Jzz4AFwMGSj7LU1zDuPgDCKEMqKfL5ceO/jOC6qMoqirusc+JOz05OTE22s974oCiC4aTrGWFEU2jjOuQMf3GjvPeCwJJBR9Bjj2WxGEXbOaW23263VZrvZgffOOmstxhZRSgkPkHryWH6EPsIIIQQ+GPhHoOBg4/+MsXyy8cgB/MmS7v8M4oNTjlBYNMhHAMLWgvfUGBN8dUIIccR7A4AxBMPxBMp/Fu5PV3+C+yN8w+V/jBycCy6ifZpIT3CHP7HxT58doYeViWKMALD3FmEPznlwyHnvHQBBDnyYzwgAPHgEwW4gBAAYEEIeIYwQwkAQ8pzGBGHw1rmHxVsp1dSD90hZ9/3rd7/+9W8QkKqqjk3rnGvbTkoZxcwYo7UliCop1Xg0WholjBhk33XtgWMU5RlY553RUnVNq7VJstQ71HXdgGLnnPagnLMehNJtPwpl1vfbUfTWmr/4+quLi4vN3e3+sD07O/fmwyg1J7Rr2/nSRjwxFk6Wy/vtATmvDBjt9EeYyNPEO/DOg0fTyYwQUpblarUaxzHP8xC/1nUtpmIxX86m86+++pqxKI5jB2CtTZIkjlNlNGNsEKOSmnOe5znhTEo9DENZZYSQ+XwebLzWdr1eW23ev39vlBnHseu6oRdyHDvRWGt5mnyEkMdwyyMABE9A94FrAATIOvU08I8esPszXu8D9MMn/RHxT+ALNv7RxPpwwieQYYwIwSEeNcY4xAHAIusteXKNEAp3+M+i/ulyAdMP/wXsccY9wD3cg7WPsQQQgB9P+z+38QQQRuAQwt4jDyiMrXfIu+C1IcDIeYQBe48AJYw+nueRzwEUAhdCkfdeKaW1Rs4j55VSd5ut9Xi33b+/vrlfbwlhbT+0bau1tuAZi+IotdaN46iU6rsxi+SHN6/Xd3cxp5MqyyK+321v3r2JowgAhByGYVBKewTOQl3XhFlCqdIOC6OsGZVzHiFM377/gDEYY5bL5Xw+zatSyCHP883dphsEpfS4P0ymh7zCWupJWSnjtXGDskIqoYxxDybk4mJ5PB43mw1C6Pz8nHNOKT07O5NSpmlaluUwDNPpNLAffd9X5TzLMu+98S7P8zwvvPfamPfv3wNGURTleVkUBeHMGJNl2XI18d6XZQk2LNlosVggD1dXV1abYRiOx3q9Xt/f3K7X667r/hkXHCgNgMLg0eMXBkDeIUAIEPIAzkHgOj527j863MfIgz+x8Q7QE3yfAPT0I8aYUEwp5Zx7rMPa4pEBoMEDQQg8+p8Z+ccwMnxMhBAC9xHen9gu9BgfYITcj1b8x9UP/hTx4QXFyFtwBMAij8EF0CMPyAdnHSGwCAH2KHg1EYufToQxxuTh1Fo4zrgxZlTaak0IAQCtdTce4jjd7g+Hfc153DTN3e19kmdJGlspnXNpms4X0+fPn5+enkYxu7/+Xg0dcqo71pubt2IcYkYnVXXz/gPnXPTCGOMRICDGW2lsezxwzpu+44N0zhnvtXMcY0w5Qt4Dvl3fM4oX8+l8eWK19IhobQFw0zTNsaY8FlIX1fzF1ZUwbhSqHeUotQ74A7w6O/GYrHd7j8lsuYrjWCmVFmWS+yiKZvM5a9skLwDg9evX+/1hMeGcR4GhS5PCWZBSWe8A8GQync1mURQZY5Q1nPOiKADpR3ZSOecIYVVVMULjOA4EwDAMm83mejqtqvJwOLy7uftnoBI8eIwQQYg8eTU+mH9APwLa/ZHvHqz7j3BHfwj6P0I//Ohhh9/bPwI9MYSCJ0QDEAfee+MfPWyEEXj7P4M7PBls731AfAinH28BhTmAgHxk2on3YWo/2Pg/OvNTaEH7vqWUI4IRAueMdRb5QBEA8ggTwAAIASAHDgB5gjzGD24hAkeAxFHMGFv3Q9d11lpGI0YjIUTXDl3XK+BNN2z3x0EK50BqExjVPM8xxnmefvnV5//qX/3Ny5cvsjxBCK1mU+Idx17JeG3kzbvtYb8NK773nkVJmmbXN3f7Y/fik09L4/btjiAipDk0+34cpJTT+Wx3OEZR9PKTF588v9pubt9/uOGcaiW6rkuy/Pj9D+03v1udnX748IHGyctPXzWD6Po2LyZXV1fC+Lv7tUckTjMptDXtfLb0n6IoiuIoddYZ7cSolsslQkgKnaVFmvimafKsVNJU1dQYgzHNc44xxhhXVYUIXp2cSCV9YPQ5p9YghAjnTrs4YoAxSzk457TknFptqqpwxlprOadpGs+n1dWzi7ZtP9xuAeCXv/yl1jrLsuvr60CVBnIwxAbwQL1bY4wH85RPcM4BOGutNurRCj4u1PghIiOEhAjmyTpqrY0xcRxTTAJNTgl98moYI1pr5zTGwBgL/o+yJo5jYwwyASvaBdcBgDGGccgYPIS5T9MJ4OOJ5B//BE8U5+PE9gghBOTxJskfmHOPw6cghBhjAMA587imeYQQTeLYGGOURRjlWZojrKzTWmOMvffYOwSeYsQp54wQQsA6xmgcxwghbY1zTmvtLORZ2bZtK0bvJSFkFHKzP2w2m9nJhRCiH4d+HKzxgKGoyjzNhBBKCec4pZQxQpBX46C1FtuNM4YzQiA+Xa6QNT94e39zCwAOMLOACac8Bef7QXa9GKWRdsA8KZLcAmoGWbd9URRv33/47LPPVqenw9C9f/193zWMYkKQVujs4qrpWkyoUGMac+fN5cWZkBqxmEesLJMkSazzLEoO9THiFQAELpJzLqUMOH4i6Rlj4fkWRYEx5iwu8ihJEsIZxphSTKIIGFVtSyihcQwYQGspR8YYQQ8Q8caAc8YYY5QxJmAdnEcIUYYznqQxL8tcSvnsk8/quo4i5h94bnN7e1uWeVFUYYzDMGutlVKUUim1s8Z77x6NsfcWAcEEnjh45+wT7AghH7seHzv0f2IyfzScj+Bzj6s/gAspMBN8gaeToD905Z+iAu89Qj/a+B/9pT9YZB4pIPc0J/8I7mGW/jhj/+CvCBBClBP8SGoi5LxDDqxBzlOCrdPWGOw9IMooTpIo4ZEZBOc8iiKMMbFmHKSSylqZ5IVD2FovlDTaNU1zv95uNttkMj/Wx7br+mFQylRFOZtNOeeckXFkRZlFESfIW6sBIef18XAYx3HoWmMMQYCALJfLlKfvb66d86NQ2vXGg3buULeD0CzO2ralEffG9tJIZQCR88vJRohRKkToZ599Fkdsu75d399ZY47N+Pz5c8r47rCPoujm7o4wNp1OJ1UOhFnvqjLL87yXKs2KiGENjjGGKZNSJllGeZSXaHly2jSN9x5j7xGOCOVxMuVRUU2o40mSkDQFSgAArA7UICGEUAzgzCA2m82xrcuyPDk52Ww2YdTxo9ENVvZ4PDqrASAsCQwT7z1C/uLyrCjTalIGQBRl/v33389nC611WZZS6nEcvff39/cfPnzw3mttwzkZ5YB8IM4fkRfcAwsAgFwIfSml8Bg4/pEb88cAesjVOIT9k5f7wNUQ4pDzHhNCAtP6+Obwtj/2Op5ihcfT/sgvPZI16NHb8t6hx/v5CO6AETxgGqEH0cDTEX4MTC7t+oZghjHSxgglrUeUMs7ZYz7XOW+9RxhDRFkUs4SwkHkBRMJEHJUehmFUWmnrAWvlDk19PB5HpQjnTdc1XSeNdM4ZozBFccK99+WkmEzz1Wr57Pn5ZFJShpwzCHmEUH3YbzYbq7UQoxxFlmXL5bIdBm2cOrRNP2gLHmFlCecxaKusA+uHYRRaszj2CFmPfvZXf92L8Ztf/+bTl89Xq5Uax7HvKKXr5mbf9GdnJ83t7bwqb++uT06XXVNLOUZJJo3jEbVAh2GMOY441tJzFlXlZBxHQgglLEmSvJqOg8D4gZ0I4SygkMLjYK0XAghGGLxzUkqpxTAM2mkpZV3Xu91GWXN6ekoo6ro+eCDI+7AmUEopJqPorTbGKEJIHMcJjzBBAHCs9wihxXIyjmMcpZPJvzw/P82y4v3794v5chiGvu8Zi9I0DdOsaRoppTEm+DPea4QQY0xp4b313gEAJoARfki+IRxs7Y+If7TNfwT3p+8IIUzgiQylFFNLnXMAhnhCCHl0UYgHIBg/uVIfLyPOOXhaIpB/8mowQv5jttQ92P6QmPsR7j8eGKGHE/55xIPzDhlkCXiPPFCEGaNRFFlrnbMRpRj5iNOER5RhgnCaZbvdbrffO+eSJAOCh2E41i3GvQUwxgihtHGACI8yQuOmq5WRhBDCCfWUc+4BpBw3G3V6sjo/P/3ss5cXF6fGqLYT2qgoirIs01obpZxz++1uvz9s93tGIwc0yQthkRyUQ5gRluaT6817aS2yoIxjPM7ysmmOd3f3Z2cnahiub28mVZ6nXAjhHGitTy4uNptN0vWEM21M09TjODTtwTeeMt4O426/TfMCYU4x8gg8LQghAUBaa4QQIQSMKYqCUkoZg5AE9R4Ce2CdlnIYBmlkCLC0kdqY9ea+HwchhuBM8ySmFHtvF4ulMUaIUUtpjNFaa60x8n3fGyWttZRSQJ5ixDFHCLVtjTEGcOM4eG+TJJsvpnlWem+Lotrv9wihPM+TJFosZlU1ff367X6/3e/3wzA0zVEI4ZyJokgb7b198IkxxhgYI5RSpT38Ifn4ZxH/Me4fQe8RkJAVptZYiwDAPiaJHxJGCDDgYNfQjx78A32EsH803v7HGfWxyMAh790j4h+vDvijtBcQQp6i8KcVJiAeYQAAenV1OY6iG3qnDMIUMHHGtqqZTCYURZRhihGjmGIA56UU2NGmbTebnZQyShPOYyFl1/WYUSWNUNI5AIR4lHmgUsp2f8cYQwQwRQlOeMI9WOvN0LRlkWojkbcADhMgBDGKvPdFUWGMtZRxHEdRdH19vVnv4iwHxPLJpETMoA4Qw4x7TBxgTFg/Dv0oMCGMYx4nWqvb2/v5tMCYdsOIwTkEQsl3b15/+tf/2q43b969v7o4v99uiizd7TaTMgeAQYjd4agtPPvk5cXV86HfW+NNjDjnaZpyzoPoJU1ToDROEqAUAscnpVIq8GV6MB6sdUYIMY6jdZpSyiK2WMySMba2SNM0SSPCWBRFcRwnce6cS5LYam2MsVYHgoIxpqVQSiEMlFLvrVLCe6/BSSmFGAkhxui2bTHGRVHM5pMkzjCGPM/jOBZjnud5mqZa26IolsulUmq9vvv+h+82m43WXZJGj+kcay2h9IHXs9biRxjjR//jj8D9Z818wGlwaSilAXaEkEAnPtptQB4D/Oi0fGzjETxNrSfPHvk/OJ7e/2jU/8C6E/QYMzydmRDiHPGPSjIAoIwxpfSPE865oL4wxlDGGWMxZwicUaLrB6VkRMbjsem6rh16qBvKmPdgHHDOlbFSGefAgnfWa22M870c5snUGqe1zrMsTjilOEmSJI4QgbatD4f9bF4wRryzWksp5TiOwyCUEuBcmuSr5SmP82GUbTcSzAgjHg2YMmP9/lBjyhBSfd+EtERd11mWxVmECE6STGh1fX29ZxiBZYwRwu43O8yjtm+td0mWlmXZtMe2rQFc349t3dzerxkjl5fn4zAgIJY6az2lnPMYIcQD0IO98gikDkmiEOtTSq1UlFKMcZIklGHvPaWEcjKfz/ux894naUQ4t1aHFcMYgxDiPCJRhBAKuj/wdrVaaSmkEtZaAIecD1GpHtsoYs5ZhLGQwzjIPC92u02a5oSILMuqqsKYjvFIGbHGTafTKIowPo0itt9fZFn24fq9MWq33xijtFbWOWu11iGfaqxFHoJHTsJ3gv9ApvYx1sPPT6D3ACT4MSRwa3/ix2PkLSD0B6D80ZV/9OPDTwHu+DGO/tjA/xhX/Mna8zHin/LND1MXIwCgP/zwA0LIAVjjjQfG46Io0jRdr9co8RGnnhJvzTAMx8O+7/uYjkII7axSRgjhPHDOCYscIEII57EQou8GKSVCiHKmtfYYWWe01piQIBCNIh5xSunDdOecYwzD0G23W2Rt0zRt2wKAHMa6rjHGq9VKKqPeXXuEtVZDL3iCtXFN34/CSKWc99PpXGt9c39DKSU0fvf2fZHE00mOEGqaZuibJGJRFP2Pv//Hk9Ol1/r67vbrLz4bx76pDwT8fDZTWmNwu93m/n46Dp1UJi3KYjKpqiopS0AIrA1wt8NAKHXWDsNQ13XbttbaOI6TJKGPKsI0i5Nkigl21iojHyyZN8YQ752yBgDC3HiAFwLwD7B2VntvrXl4DyGIAAp/MshOp9O+78dRNk0jpWKM3d3dnZ6eMhYVeVUUBcY0KYqkLMGYrhF1XVtrkyQKDM/Vs8s45v/3/8f/TWvkvXPaWOu01t5bYwig6InPRuhH6P9Z0+6D2u6j3z8h7EkNhjF+4nAecgPwo1fzMfT/PFfzI3f5MY+JUBBVIHi8Lvno3v4ZruaBnVxFcZRuN63FiHqOMI1YcjwcGLFF4iYltnqo+xYMwh7t7o80NkqpYRh6IbSyiFBrPPGWIScHNQihlLEOMOaYEufRIl7Y2lbF9OVXr4LOLk/z1XK+29x+//tvJzwxnfCNHPqm8LTp7Yfbb+4263GUz5998uyT5z/88Obb797UarQG9VJs3r3jPJlURdcN3bFVQgx+AIAkweO4cw6mRe6sbo7aOffd65tXr17RRdF6JwnttG2tnRRov+6HrhEzT/EtOIOQZ6lLl5Wl2CXkX/zvvzy5vMQnX5wvl5TyaVV4742TD2NstLXWgj1s1k3TKKWSJOFFPI5jLdpW9d77NE6yLHMKtLOcsjhO4yIHYxLOlVJKGGcBCCOEGE8oWGed085aGyjFwH+fn58j7kOO3lprnAMEiAFTbH07HI6HiPHl9KpB+/vbe4JgODZGqvjcKac9wYQQrXV8suARimIcx2mapvu9m82nJ2wVx/F//A//x2+++UZKudvtjsejMWYxO6nrWppdMEosopwiSglBGCGCfSiTwNQj5DwG5L0D74FRjLzH3lprjbJWI7Ax9U4pjBGhiHlqABtjrfHOwuAOD1MC/cilAAAhT+rR4KY/LjJAAYHzzgWyFiEHHsA54jHBmBBECcb4KVOFeOy9B+estdo7ZUA7Z61l3iHwGBB98eLZZn0QYmA09861bZtE8WI2r5uN92gcRzmKYRAU0ZB1r+taGi2l1Mo68ARh7D0AdF0nlLTWI0IowVJL1Rvn3CRLkiRLkiQsdmVZFmXGOd1ut5Ti+XxelqXWepSiKovLy3MPF3le/vD2zc3NDUJ0NltcXOjNen93t6EsjhgbhfBOAsKccyEEQsg75BxY66wJJRTee08wa+ru3bt3w9AF+2KsruvaKm+dds7W9cE5xSk+PV3NZrM8z8vZfLZcVfPVdHlSzuaAaBA0c85ZFIeVdRyGIIiglEZRRCmN4zh4rmVZcs7LPMcYI4TBOmutt04IgaSklFrrtdYhieEtIYQgjZqxDeFBGGBKH8T0dV2H6hPvfQhnw5TjnHvvhUiN1cMwaGtns9lsUu33+yiKur6/ublhjJyuTqy1bduWZ8/LsuRFAQDT6TSOY6110zSTyeSrr74ax3Gz2bx9+zaE5rvdjnFGCAHAShmrHec+iWLOmZEKPuJwXNDhoD9KD8GT7UeP/v/HRhYhYCz66L0YIYIxCQtC0AgEahIAPzKSf3D+cJrglyOMg3ItxKbuUe6KQ6LhD27KeY9DDE6/++73zmHnjBZjxIvFbJqmsZQySZKIE4S8EKKuawTUSq+13e6PzjnjrPceY+rBYkKstUpLJaQDTz1XSjVd55xLkqSrh/l8vlotpZRt3ykt+qH11njvgjOD0EOmehg6OQqM6eeff352dvH9d68HKY2GwPC+ePaMx5l1uD52+2MzDEIrpbW2yHvvjHHGOKOttd5a7x1iDBljttutUiqKGGPEOjMMg7deawXIASBAriiKZ8+vPnv16dXzF9PlarZcRVmO4xQYB6AZeORBStnWNQBwzhljWZIkUTSOY5nngZ10zimlQiFPoAUYIQ4jcN4TxBjDLBraNpiuCHNEMA7aK4wJskGLQhkDhMA5rbW1tu/7J6/0Y/2WRxDH8WQyGcdRG0UIy8rk5Ows5AcOh+Pr168xAqVMnucA4JIjAFTOxXkeiM6Am+l0enFxIaXc7/d5np+cnOx2u3Ec22ETIkyCScQ5pdQ5GIaBYWK9I95aQAg8PCw/HuGP9Lof4RJjHFTK+JGODKrE8LiedL9Pbw6S0qfz/HG4+nhaAMAIB8QTQkIRDxD847/8mN9yH31/kOt4APrs8kwK4zXsth0GNp/Oy7LUajRWxBHFGBBqxKiMkUa4rh0HqX68vPfIOa21MQ578OCsMc4aIQRYNa2q87OLaUqzLJPabDb3+/2eMBqKpLQQGNm6PQoxWJsTgruuq+sDWHXz4bpte611RCNMeZakpgJjkRBSas8YS+O4qzulFKNUC+HcA9ydA+eCugisdYwxgpnWWikRPrl1xihJCJnPp+dnJxcXZxdnp59++uknn346nc+yooxiPopB9gPhHFPuPRp6EUx44JWFEGGoMMZxHIcKJiFESOlba7MkopgBpVhp64xzjjEGQbXxmDEBAI/wQ9kfOGOUtdoPj8SBc977NE2NMUIM8JDZJeGvSpmgUk7TdBgGwUdGaD+Os8WSEKTEhPJ46BqpdHt3L6W8ZGnA9NXV1VNRS5qm3vuqqgghk8mkLMv5fH48HuM4vl2/rev6eDxqrREQBMR7b4wNwoJwewaAPOIcOeK9d/5HRfsDLh8jSO8cIRD0vADgHusP3aNA9cHF/+izP80E770HCwAePCAftMPIe4SAEEQIwhRRikMgGjIHxjnkPfIOABA4/Aj/HxFflNl2+24c2iTmaZxoo/qunUzKtpZCSOeskoaxmBLSiL4bBRD6cUTsnDdGhruU4xie5nS1TJNkNpvM53Mwqq7r9f193Ryt00aorj1KKTG4qkz7vhdCSC0oAcA+iqLhaLfb7fZwlEJ5jwiNeZzkWbbbN1039N0ImFnrCSEME2+sc2CttyZQTAijULhHrLVRFDPGwpMM5aQIQ8RhMZt+9ZMvvv7qJxcX59NZNZ/Pi6IQYmBxhCkxxhpllNYe9dY6SuIsT+MkEeO42Wy7rgtyX865MyCMEkKEaRBUA/VhPDgXgjZCCGORMYaMvbP+yWcN7o1SyhizOls8hKTWBMRQFqwXEv0YIvg0TZMk8YFAoxwhRCkPDg8hRGl5ONTGmKrIsqJ8WVbIO6XUdru9vr5Gf1iJ9xSMBoEnieMSoclsFnyeNE2F+vr+/va777578/r1fr8HEEkUx0mstUbOWeyQN+Cxf9BRWmx5QOSTMf6YHgHwGAPGgLH32COEVLBK8KAtcw6MCZPoAczOhbD16esRsxiFRAF+KN4LJgRjeIBjiABsEOEjhx6te3jhvMWAnPf09vpdczx6b723lKA0jrTWx/3eOdP1x2EY5CgQ0DQrhl5LYVHMwsghBN45bXUgkkfRU0zKsry8OHn+/PlsNgOAcRx++6vfAwCP6GJWCWXGcex7Yww6Wa4Idm3XbPeb+Syvilwp1fZNc6gJYVdnl1LKu81+HKSSVtlmHLSWehiGvheYcs7jLI2llBGPjTHgg2gy5A5pkLtwzp2zzhtCHuwTRuj89OT582d/9Vf/4qsvP0/TlDHGOZVyNMZJOXoA6z0gzCgAYOVtEnMphrY5DsMgpaQERZxSgqxRRsthGII7URRFlsZRxPZtU9d13/ec8/l8zilTSozj6BwwxtI4iaKYUUwwIxisJcMwhJxrmCSU0ifEhLUFIcQYCy8wxnGUPRRNW+vAB7nHOAhtzaFu7+/vx7FfrVafvXz5xU//8uTsXBhblmVRFE9qM+dcXdfVfD62LZHSew+MgZQQRSdnZ8D4xcXV6enlcn76zTe/ul/fauuIMs47gxAOomGEAB4lkw/lVD8a5oAzQkiguT9GvPfIm4eZH2bsk2kPS+jH/pt7LA2Bj2dSmMCBa38KIUIpug+RhQMI7QkAwwPuMXjrvfMeA6KvPvt0Uu532+7D+43WsioKrayQg9bWGCOEaOrWaEgTM/TCGCu0J4RElBFCwoWNMdpIZ+zJ1eknL56frU5OTpdZltWH42HTnl+sKKXjIPfHQ5bh8pPnnHOpRuRs3Rzatv7w4UOWRujsdF8f2+MRjGuahjJWlpOr8wvr8W5/fP36/d16q43v+7HrBaNRVlaU0qrMwYOSZhzHEaRSxjvw4LyHOE6KvNBGCTEg5DljccSn0+nPfvZqNpstFrMkiTAGQhBgNI5jnpXe+2EYlNGI0CTxHoGW8m7bBGvNOU8fS0DMOD5ES1KC1pSQCGNkjFCqSGKvlTcaAJQS/YCNs1JKZyGO44hRhOKIUu89Q8gY4whgRh+Lm+Ch/N6aUUlOyXI++5j4YxFHGLvHSlDvfRRHSZIopc7Ks77vr29vDoe6bXsh1JdffsmixGEV6vG01kFeH14PTTOO4zAMaZomnAMAaA2MgfE0Lp598vmsmi2Xy9/97ndv3vxwOO4YwQ6BJR6B92AQIA/We888BQD/UQHr0w1jjP4U8RjRMJPDAwxpZmOMd8i5EH4CAHj0oFh3T2mpjwhHeKyWog6DdSjw/c6B9xhCCZuzyCEPAB6H6lr34OJT5HzftsjB5dl5kS/imAvRJEmilIijVCd6t9nf3W4pOYKnzjkpdbA3/LE4xoN1ziVJ9MmL5z/9+qs4jp3RY98NbdO3hxcvnoVSCQTu8urq1Zdf9H3/zTffPAyDs/v9/ocfkLfaO5NXEx6jtumbpmuaoe9GzFheTC8vL+O0OBwbzrsolmLUbVtHUVIUhUNMUOG9fwheH3s2UErLqgBwh4MTcsAezefTV69e/eSrV9ZaZ2Xft0mW53HBGBuGwWPkndNGK6ExNc6YcRzrus7yZVVVaZqO47i+vwOA1Wp1cnqyub8nGCdxhBEQQjij49Afj8fN3T1CyGPkvYf9lkVxXhZJkjBOKcOAnNWyl0JKOXa9lDKdFYyxYKqNMV3XtW07jmNRFNPpdDqdYoyHYRiFwBhzzgOVwSNOMfLWcM6B0sDAZFn29U/+4idffX13d3d7e/vm7bv5fE4o3u/3IWZtmmYcx6qqyrK8v78P0KeUQtclVQVaA4CTDhMHjOXz5V/EaRKnzjmpRilHBMiBd8GpfvCtwbunKrk/OP4sVwOACPlRieS9V0o599CYIOj4HwL0UP8EyPvQIuEPvhBC4C14Dx6BB/9YPQ7eIyDw6A/BU337YxMR7z365f/n/4oRUxL1rXGWERxZ68dx3GzuR9F///23bTf0vTweekripm51QjlnyHlrLSUIIUQxpHF0fnb67//9vwdn2vrovV/f3bRt65xD3hln27blSbpcrfp+3B0PeZ4rJXab+7auP//sxctPnv/kyy8ZQeCt2d8f6ub6+rrvRmXtYV+zKP701VfDMPaDePf+WimT5sV6ve378dnz59dNixHVWiNEjHF930uhRjF89dVX+/12GDoe0bIsFovZi0+ePXt2WWRACMmzYrFYLFbLLCsAQBnnnOv7vm1bIXUYsxCM/uTrv5ZSeu9DkDoMQyjoxBiXZVnX9W63C9Te69evr6+vT+bLV198Xk6qu/VaKLk8PcuLQgihtUmSBHkY2kFLFXOexgnFZPAiIB4h1LZt3/dJksxms3EckyRp2zaIzrXWs9nMOcd4GVTBHkFYfCjn3loxSkqpMabv++C99H1/OBx++7vfhLRrkDfP5/PVapVl2bt37yaTSeBzACBE4QihOJ4++CrIAUFWiZvb6/fv3253691uU9dHbaSUoxCCEJRlWUYzIUQQUwQpBEIoiKuNcQgR71DTdE3TRjyZTueOuZOTk5OTkyzLKKXDMLx79+7t27f7/T7onBFCUspACgcB9tMUIo8ZzKcygI9jhjClrMNPmQ0ppRIycF9PKmh63O05S4wmzlBGYmVc34/GqL7v15ub3W6njaM0nkxKZzF45FJMCLm7uTXGvHz5oiqKNI5efvrJ55+9Ksv83Zsfuq4Tcri+u633Byklo4izqJpO0iTdbjZdP2pnpZT7/batD33bgjNnJ6fWuiIrlBL3m20SZ9V0LvWmP7bGedGP7969W65OTs5O4ySru94aV7fd7rC/ublZPnsxjuPoPSGEZ3EWR/v9cewbLUYMrsiSs7PTz169uLq6mEzLKIrA9kqpUQxKqVBB0fbj8XgkhAFAFCWUcmOMNxoIRhEfu5YQwij1Rg/DQ9ULIeTly5evX7/+8OFDHMcRJVrrIk2+fPWZ0wZZ440u8zS2HKxpm+MoRRylCDwjJIl5wmgaxWkUY4zn1Xy3Xu/u7wghSZJUWaq13t3fIYT6+jgMQ3CoOOdq6BFCCHg7jl3XBT4nybLIJM65iHNMKSU4uNQEU845xvinP/2pc24cxxAPcM6Px+Pt7a0xJsyQwDsZY5IkwRgb1URRRAhx3lCgJM2vPn119ezZbr/51a/+6Ze/+kXdNt57xmNMwHrYbreEEMYfar2ffLPgx1vrjHYAUFXVyers8vLZpz95VVVVURRh3jZNk2VFnpe3t7fe+7Ztt9utMW42y4OJads6UMBPcssQAzzkox4rGp+Mv3HGO+udCV8/0qDuISCgp6tTStK7293d3Rbh3llc1600cr2+u7u/7rrOI1iVk/nspO9F14re9FHERJlWVfW//rt/wxk9Ho9nJ6dpGn/33XdvfvguiiLkwTknje7FuKxKMY5RFBnj9seGx1Eap+vdehwlZ3GyShDGg5D/+ItfLhez+XwmlIlTnJflKLSQGo8jaCuU3B32NE7SIudpxhincWK977rO+0Bga4QQwj5OOI9wkkb361vnTJwwhG1ZpfPFBGM4HLYXp9Msy2jE4zju+77tx2EQXd/XdVMUxaSs0jiKGUfgKKURZZv9LkkSSmlYAYKagJP45v07An4xnRyPx7vrDxcXF+efvtRat03jnWkOe+WtAS+kxIxiSra7tTWTKi8Yo4zjmDDwToyCRkSPcmi6cRyDk53neVmW3nlO+WRVtm3btu0IveiG6XQ69BvtrDW678bN/R1jbDqfzedLcAZjbD0KJ6EE84hlebpYzoN7No5jAE3TNMfjMeiKOecPmog0DQiblieLxaKqCg9IKUGdwZwCo/P58osvvorS5MOHd3d3d9vdZpSKWmSVyrIs/K8xFh7UixDoJ+eAMV5V0+Vy9fKTz66unq8uzwnnDylWpSjhWlmC2dc/+anW+u7u7ttvv/3w4YMQwmjnvVdGEUYwxQRj750xGmNEMCKEBKcF/wh8APDOaO+ct8YZ7cwD9J3x8Dgn6dgrzsjhUF9f31KScZY2XSvEoLXmnJ+enkitqqqYL6bGbIUQKeMnJyevPvvk/PTs6upqs9kMXau13O12v/zlLzfb+2cXl865/aE+1q1SKiEkTdMsK+I0iZIMIdL2Xdv0WVpEjEQRm1RFFCVv3769/vDhZz/7WRTHgxgdYJ7EcV7QdnBgaRzXba/cDaZ0Pl/OT05onEit9vt9I3qtFSFYawHgoijK87QoMmN0msVlmS9X06oqszxCyEtFy6KgLOKcI8KN8YMch1Fo7YRQnGtrPSE0YgwDgLPeuq6txdhrrdu2NcaUZZln06Io7u7ufvnLXwohLi8vp9Np19ZdW4/jyBEpqjIriyLixoN0RlljrEbIh+pqcEYq042iPdb14bhvD1VVzefzbFI1TdP3vUQAaXI8HDjn8WqFrAGjCSFq6F2WKusRQlkUyb7vmoPWRomBMxLxBACCuimKIosBA4oYRwgFEWVwFUKWOpjzKIoAIBDE1tq6rodhOO46KUdrT3nMgsOAvQOLpJTLk7Pl6cmLFy9/+7vf/ea3v765uRnGsYrjJEk4p6HNTpA9YoybpmEsKsvqZHV2cXF1eXl1dnrBp/OHlFCIMjmvqooxNpvN5vN513UnJyez2SzLst/+9rfH4zGkQR4iXUAh44ERUgilaYr9R201AKGHlhvOeftI95tQ8ue89Z49IP6X//Rro31TS3C8qCqEqHM+z9N05DxC01mFCQHA49Aemj0m7Gq1ODs7ffnyJWPs9evXt7e3RVEwTl6/+f7169da6yTOmqZ5f31rrS2KgmFyfnIep6lQOqKRNNY7dHX1vKoqa3V9OMRRLkYptfnwYU1Z9C++fKaUwtgTypMsLSfVoW7rpsmyYnc4GOcBE54kQghMyexkadc7ZyzGuFVCSZfEUZrEVVUQQi6vTs/PT6tJXlXFfDGJY35xfpLySCqjtUEAcZwSFjuPteo/+/RzSmkcRUkcRQRrJft+GIYBexD9MI6j0ZoxxglFzntjx65fzuaz2ez09LRt26ZpOOfTsrr98CHNEu9d0zTCqChLszxDmF5dFYxSK217OLbHujvUh/V+v9sJ1Y9tY8RYlqX3nmMUEcwQYGd393fNfieEYIxlWVbXdbPfXb58OY4jzXPO0LQslFJGq6Fp4jnXWluPcBR5T721GKGIkV7KOKhq0rTve0ppSCYMwxDWLvN4tG17PB7bYy/EsN9v4zhO8yyOORAC3kdFCd57Z2fz5ddf8yQv+K9+9f3335uxEUJ4YI+MpDHGBN/m5OTk1asvri6fz2aLoihxkgcWxkoZfCrCOURJGiXpdA7GxHE6n5M4TjmPCWG/+93vgtzfh8JIjJ8cM8YYAQToEesIkUfEYw/eAwaPwePAUXpnATzYEMfSxXT5/XdvtbBn51dFPmv7PsuyrMjevG2cc4Sgi6vzoRe/XX8LyJ2cLJ6fLzFGY3u877tvf/+NUgZjeP9G/te/+9ub67uTkxNtTT8K64FG8Wy5+vzsJEmS2/tN3XTz5YpGPMvyvCqdc5QS0Yu6btfrEZx11m/We/HJSZJkgTwGyqKsxLe3v/39tyxJRymkNtv9rh1HKSWPktVqxaMadR4hb61GiBCCADxjhEc0y5LFcjqbTeKEcU6TJIpilpBcay2UGqUVxghpvEM8Ti6unjljvXUcI0Y89t7QyFCFc9b3QAkOgZ3W+rDfDX3HKJlOKq3ku7dvsiw7Oz0ZhuHt27dXp+dlUTrn6sO+U2LBT07Ks3JSYYzlqJrDcb/fimZA1hV5yhB4MhmG4f7u5t3b14/r6qmzOo7jJOZSSiVHKYZx6JRSCKHN+kZrm2dJHkfIWSnJIEWZZ1KM4zha542Kgg45MPooSkLkHUVRMOree0ppaBAbgr8kSUJciBDqmqAEQdZpyolSEbJGCDGZz5wD5z2j8fIk43HmLCKY//CLv2vbVkgSSmSEUIEou7i4+MlPfvLTn/4sr2ZeW60N6XtCmKO07/tQUBYYG8YY4xy8Z5wHi/7ixQuEkBBiv99zTp0zQljGWBxFSRLHPKKUemMf2BwEGBzCITEFGB6acGCMMXlQqwXmP5S20CwtMKaEYKfdfr+3FjAhm82m67pw1VDZILTMsoRH1FlltHv9w/5+sz4eaiD4u2+P681mezhGUbRYLRmLnPdBW5/keVVVh33tnDs9PV2dnnmE98fDYV8LIQh9iMop8UWal88LSvHt7X0xqRAlBLOQYamms8lsKoSw3hnn9sejPRxCMESOTAhBGZ7P51EUOecWiznG+PLq/OrqIo6josjyPE1STggiFFGKlVSEEM5ioQYxSm0gTrNZkiMgGCNrldbaSgveMsYmZeUwYYQihLIsG8cx9A5AZckY89YRhOMkJpis7+455z/76V9aLaOYsySKsrSXwhDoutY4G3J5h+2h2e6x9XmccM6xh6beIeM4Iphyr8xQtx9G2ewOz549q6qqSnM0W3Rd13VdNckJIcfjwTtAzmL00PUNe8jTeHeohRi0DgyTcc55jDiLI8ChGr0oiifEA8CzZ8+eWJEg7g+JLYwRgLfWaK201sEwUUp3u0NeFFGShKqkNM1ffvqqrKap7d6+fVs3B601pVgp5b1PkuQv//Ivr66ep2nqlBoG4T1Q4gEMz3OlVAgqlFIAwDlPkiSKIsoYZizBOHBKV1dXbdt247bv+2EYnpo1BE6TYRIqV8gT8ekf+JyH6BYji4khBtvA1vtA7dP/8l/+v5vNLo2ncgTr6XJ54gG+/d3vq1m6Wi2s1dvtuq5bKWUc4ZubGyKr1WolxHB3c92PQiuz3m2bti8m06Io4jium24cBYuj2Wz27NmzIkl320NVTRfLpQPw3lfV1DhIkuT6+tooQQg+Pz8Da5w3h91+t76Poqiu68l0rpRChBFCl8vlZrtPnDdu7MdBa8Oi6FDX2/1xkmdlWX3++efDMIzjOJ8t0yz+yU9+8ld/9bP15rZt6zhhccwQ9qGlxWHfaG2Uth6xKEnmi2lWlBFP+n5ACCFEhBhk31ijYkqjKCpnhTEKY5znqZSjEIP3Ps9Ta+1yeda27eFwWCwWL148QwhZa9taHQ4HfwSSRIPS2/ZonEvz3DlnlO6bXjQdcWAGYZQe+74q8lCHmqbpdDoNK3gYuSzLoigqiqLv+w8fPkgpN5vN8vJ0t9vVxwOPYgzAOe/7vq7rNIu11giZ0Pzae48BYQJ1XQel51NSMxB8AKC1DhaNMRYwF8fx1cVlEFc2TdP1bRRFFZ8kSWbHASGkpR6VRAilWXGyOlssViX0CKHf/m4wxljrhRChbvPly5eMRYfDYRxkcOgZZUqZru2bun1qTBtoX60MYw90JIpjqgx4dHZ6Pp8tfvHrv9tutyFR5ZzTWmunlFKL6Qw+ysbiR03/U43fx4cPfXODH1/OLybLqw/vr1mVeGla1UmhfvvD92fjhfIxZXgYhuOxRYREET/W9zElx0FKKYXGCMfWy6E356fPvYM8ym9e3yqlMpJOJpPT1Wl/3+yuOJlVb968+f2Ht5999hlCKEmjPCPr9Y4RSWNIkqgfDkPbDcMghPjk4vnz588xxovZglL6t3/7t4dD/cUXXxDTqbY1nc5Z6qkf2kE5FUXR6SqblIXrmjKO5tWCZ7Hz/hff/ANOUFWUWTXBziNLYhJZbfpjX0vnPcKUc86zJI4ZUC+RNpOU7nbH9d1dGIwsyyBmjpH1sIuKqDnW//D/+8f9fh/zhCL8j7/6x2eXz9fbzWqxfPXylVLquDsmcYwQevehPjs7TZLocNw4Ob6o5klMlZLb7VZrnYBDVU4IM9r3fQ8usVJWRYExdhY4T6uqiuLYguecd0pJ5JBlb7cfBAzCD2zOZLPmXv3un/57Xk7iOFmdnExzPtQbOfA0zRghm/0mTfI4TY7HmvZUWvXpp5/e3d01u276/PmoxqYZ+iPp+36xWCil8jTF2HAkh2GYTKeAysTaPKvOTh/SN8Y5I0yVlkAwEEwibj0MRkmjjTFXn/2UxrNqdvH29ffb9T0YOV+u/uan/3IxP23u77vtxnt/cnFBzXDz7jvGGMVEb9fUmDiON5tN1zUXV8+cmRjGUJwbIlm0YHk8O1mwPKE8nlaLX//6l/v7/3w43C8mSyPHzfb2yy8/79uaUEwwxYR7Ty1gb5H3XjnsPFgEQDH2hFNGIuuck0oFaQa9u7tbLpdpmgYtgHOGMlIURdd1dzc3Td8YY5Ik5pwejen7Prm86LouGIblcrnbHXa7nbV2sVjstvvtdj+ZTIo8CgzAbDa7vb2+v7/HgM7Pz733b9++TWNurd1ut4xiAPj222+rqmCYFEXBOZ9Op6HlUBA2/fSnP/3Nb37z3/7bf1sulyFNE5qyR1EUONrJpFyu5tP5nDCKOcsmZTWdsCiaTufBbVBGhhahcRxzSnVMH7Qf1mktpRwBACN0f3/PGEuj+PLyPKz+WiolRlKwX/7jL96/f5+m6WwyxZjmSTqdTifl1FqLPAS9DSFkGAatNYB//fr7KGaXl+fPX1x6b8XYUkriOGaMG2O8I8ghxHyWFRHPFtMCITRK3XUdADbWYm0teEqdUILzXAiRRvE49oQQqURQfwTxY1jWHMKT6VxrjaT0gMO4IoTSNM7z8h9/9Qt4FNZ/9913gV0dhiHLssPhoLXebrehqIpz7qUU+sgYo4wBwqCdlDI0gMaUgEUOI8DUYUAeGCaYY2vc2fNnZVkmSfJftmvn3LNnL37+r/5G1vV6vW6PB4xxmqahR2fwrR8Dib0zejqd9m0DAFGSIqmthwmhNE4jRnBVch5VL9Obmw9nZ2dKjev1OmI4z8pxHEMQ/KRogIe2mxA4sUCLPX1HyCPsEXhwjt7d3QXV6Nj16/U6jlNCmDFmHEdr9e36njFals8RAiGG0EfTGJMmOcEsy7Lvv3+ttc5zstvtmqaNY/7q1as8z68/3G63WyGEgH42m7149txa+7vf/e6H19+t5otxHLuuOTs9jeMYYzhbnQQ5axzHzeFYd21a5GmRA8DpxXla5B6RX/3qVwghSmmaprPJLE3zUJDx8uWz2WKeVyXC2FOc5llS5JhyraW12lurpaIIg7OcMe99yNgh5wc9hBynd44QUlUVJw+ZDqUU8hCG6he//kUURV9++SWlNEvSoqgowqGOO2L8eDxu7jahoyrG2DunlE+zOM9TpcT79+/HsZVq9PYhBwSeOgfGWO8IxpQQsj0eAPA4jl07eO/TogwSdkDTtus459aZMHUpxp2QY9NijIu84klsrQPAh8NBSD1bLIPeBqzr+iaUK0dR5IxZ392dnJxEjG02G8ZYnqbH/R55bzjP8xwDJFHUNM3Y98f9vpxfGqORQFZprTXGJMuyIpuKYXAYOwCHLSIYMcoYizAejocc4yiJq+lkNlskUTydzdq6W9/dvHnzRouRcWq0ms/nCCHPeTuMVqvpdNrWR8pwHLE3b96kbXv57LmSwjoAjONcUx4lPEYYH/qGc/6Xf/mXeZ784p/+h/e+KEopNac/Nqt5dG5cKPT+2LEhDnvkMQ4t9hDGmOZ5WhTF0I/7/XG32yWJIIRpqQK81Ci0fjQbAGenp/Zxc5hQmPP+/fu+7yeT2eXlpVyoILDp+/5Y7ymlgFxaxSfLVRzHNzc3dXMY2m5IUkKINSYoHD/99NMvv/wyiqKqqs7Oztb3d9vttppM0iwbhsF5f3p29m/+3b++W9++efNmGMTFxcV8ucjLbDabnZycEBhDw7kszfNJlRW58a7r+7C9CiEkTWNGCCPkwe2zDj30rdbjOGqlQpI/4VGWZXmeB7MdJCjGmMViMQxDxPjJyUkcx8fd8W6/d8YuFiuSYq31IIXTJpAPZVnGCUXICjE4zwhBxpjDvt7v95TSOE7jOEWArcPeAcIYYdaOHaXcAALKgvDEWG9DsW/XEIKKIqMMIQ9GaS21sxYB2e/3y9MTSpnW2ju0Xq9HqeIoKSZT7623PuzygAFxTLXSRigf25jyJE68trIfUTmJCEtYBMbdX9++f/8+6HnerLcvrp598cUXl5fPsiQlhFGCwWpOqQFvnPfegkPIewyYIsrTQiqFvD89Ofu3/+u/J8hz7L/9/oeb67c3794mnMURb46Hse+qSZEn6TAISrHV0lut5Di0TXs8pGnqrbLGWzWoIbbW8oeu/Ga93s3n889evSQEvvv+t2LorbVP3U6fhAYAHgB5cA8NG/FHrjz4MAG8B+cc/eKLL87Ozu7u7rbbPXIPrXPKskTkoaJHDaPWkhACCDjnYJwUWskDAOR5HpZLziljTGs9jjIUTWIMVVUtFgvlxd3d3a9+9SvnzXI2X+d3wzCcn59maXx5eWmtnk+mk8mkKIph7K0zq9Wqqqpgrk5PT9M0Da//w3/4D3/3d3/3zTfftG19e4uNUavV4vz81IltmiZRyqKIcIYoQUYaoyWl1DuLCI4YJST02XIYo6Y5Yoy11m3d1HXtnCuKgqLkeNx7axjBjDHnjLNaK6GU4nm8nC+cc+/fvr27u1PSLGbz1Wp1OBzkKIZhAIDAo4Uivaws6vpACJnNZt0wfP/DD8fjMUkSrS0inEeY0YgActZ7IM6TtKyiKAGAcZRKKTC+H8ah7zjnQgxKjASfaq2Q16LrndQRT6Io+uGHH2io7KJDNZ2Hxn0aa0ppnmX9ILQce2ustc1xH8fx2LdWyyiKjBL7beOMGvvWKLG+uzkcDt98883hcFBKcc4hzUYxA28YBcaRN1oOyqExn8yY8whZ7MECIOsRdh6s9UAYZxFfpel0OiUYdcfd8Xj89vff77d3i0mVxBHyjiHgxKecZUmstHj39nXf90bK4/HIk7gq0rY5WgeME6NHpYX3HnnXDv1yuSzKLOjniqLy1kipJ5MSgXtsK/tk5j3Aky7/qUjLA4D1DmMMDhzG9OzkNIm4994Y5bwxUlnQcRJlaZ7m2cXFubX2+dWVsmqz2dzcfKCehG47oaQgdJQ+OTm5u7sZBqG1zvI0bE4WRUxr2Y7tdDp13jht5vP5+fn58binhLz49NOLi7O+aauqIhTP5tO441mSWu9Oz8/qupZG5iTPykxK6bE/uzz7y7/6yyiN7u/vpZTGG0QRouj8YpUkCabUOG+MEqIDTLIkIgxpbbUwYA0AttoAAKdMjiLQW6GMgwDCHqy1FJOQeHehQan3IXmZxPF6vf71r3+92WxevXr1v/v5v9zv9//5P//nq4tn5HFrrvBAQmYkzTjjs2EYXr/5/s2bN+vNJk3z5QlPk9RZ1I+aEHAeW+OdA/BC4yHI9I0yWmurbNe0XX3kjBkje07TOO77Jo6YlKP3rheCUoYZA4BxkITZonJxHMdpZqzjBCPKhBDDINu27eqmb7siyykmYz9gQEbptm6yJBXDqLAcx9FqgzycnZwmSVJV1c//138d1sa+PR53O4xQEqdxUoBWD7pdQAScc8hq7YwVQnDOMMZWaxt2I8OknMwcIOegaRox0jKNrFFaCG+MMPJ4PGzv7+OEU4LAW4agr4+DEJiyIOmRylJKeZ5GBMoq55zvdltCyNdff90cd9fX7wkhoRr20a/xj320PX5s6UQdBoQdDqp8pDH23hOE6WQyQQhxyhihzrn9fiuEWp6enZycrFYrKYWQQ1VVfd96o9e7LbYoyzLnXJ7nzrnwOkA/z/O2bYO6EGOMMBzrg8VmNiknZT6O43Q6PT8/nVSFc265nHNCcVFkeSpHcdwfgnfBIl5VVch+Hw6HkM6w1motiyL78svPnz+/CowbY8RaXdeD0DKKIoRxkqQRp5gSipH1zngbipG1GutjK4TAGNtHs8ApjsqcEMIIxcgLOQRtHcaYYeyc11IIY7b7zffff9933VdffPns2bNQWBRxHirogoKXMXZyclKWZRRFcYr63l7v1j/88J219ssvv4yipO3GOMulsPX+OEpjLfIOrAfn3L67y7MySRKKMcWMEWq1dQjvDwetZFlk9/f3RkmKfZxwjPGolDke0jRFQDBFZVkOXcfj+MOHD0M/Simn06nRNuIUlzlCqD/ExENEqAXlteFRFFOWMJ4kidZ6Xk2iKHr57HlRFFVVIYQOrjdGKGGMskY75LEYRkJqBA5hjggljHuCkffOYv8ounRGG+cZjzG4KEkvrp799c//5Xe/+83N+9dt2xYJB/Btc2QUb3eHvu+rMs/SzGg5m1Z9367vbgEjHqdWjaLzx26MIs5XyzKNrDV1PVhrnz179uKTZ4ftxhhzd3fDGQm7dXzk1XgATxCygZn1CHtEPfKAnPMYgcfIe0SXy7n3qGm6w/54fX172NdN002n8ziOsyzL0vRw3L179yYYReQ8ABrHcbfblWW5WCxms9n19fXr16+FEF988cVyuTwej8aos7Ozqqpubm4A8/V6XZbl5eXlbDYZ+rbIc2v15dl513V5kc2ns91u9+HDh6oqlsu5MrppGmvtZDIJAu4kiZRS1pZtW2dZcn5+2nXdhw8fPGiEbS9aaUbGoiRJ4oR7Yw51vdvtGI+ttYxFcZz2fR8am2mtMSWU0iRJiiwPDJX33hlbVZV1DgNQzqOYE0KM0kqp3c3hs5efVlUVRZFSyhozm07ns1nEk6CjDERNXpV5WR4Oh81mM0qhlJrNpsZYa71QmvCobobdob6/2x7rXhkDHjuEnXPS9VmWZUlCCU/iuEgzirBVchyEFEOWxsdDQ4nXUpywBaa+LCbr9booirquoySez5c3Nzd5OdlttvvjASFklCaMxnFKECKYZEk8dC2nRGvtrUnjiBHct02eJse28TZVYszz3FsDzh6Oxxp6hAgGRAilBDttx15oZbM4ISziceLBEc8AP7SXcZQQGrrtAKVYyREQTubLf/W//BuMYLu+aQ87APDGHtpGa7nb1dbqT148M1rWfZvFSd8ajzwhFIMDZ+U49vVeFDn2JiKUZJlSoiiyqiq0kd7oJEmGQfCyCGJN+MMDIYTDbnyPXv7DrpYIYYQsAGWU3t7eCjEoLZMkOj05OTu7OD09fXH1rO7aX/ziH7Is01L0Y9f3fdc3BGKE0NXV84uLq+vrW+dMHPP9fs8YG8eec352drJYLII7RSmmnI3juNttOCPHw+7i4mK/33JCy7IkFCshm6aJInZxcaaE/O73316+eDGOY2j0dX5+OplMdrvdmzc/RFFUlmWaxcHL5xHZ7/eHw/75eSGEkHLEGMQQh9g0i5Pd7kA519Lc3t5vt1uj3cnZ6fn5udUmJD6CKxIxHtgbcC5s1KilEsNojNnv99vttiiren9Qowhp3ZhxTiiNuNGuKIrD4dB1XSBSg3q71qI+7pu2J4RNJjOEeT+MQy/ef7i73exu77bG+bKcYMK6UYzjyBLUduNkMsmzrG2HI21TzpSQQ3OkGDilF2fLEHwNw3B+fl73TRRFQggh1CrN3r9/zxh7/+ZtkiTJOEoxTqpqFOKw256fn0spwbmT5fJwODRNM5vN7m9vw2B1TTOZTMa+J4REjFmtx76vqqpKy81mkyWpVjKiHCO4ujwdB73drCfTGaVUDQYQITxy3mutyyQZuyZU6mntkQdCmO76dHXy9V/81Cj53Te/2Nzd7Heb2aQIYpAvvvhiPp21Xd037HDctW273+/TPP/q678Y+/Z2s83LSZ4lXX30GFnJF8tl33WME0LjH3548+b1WwDQ2mY8oRRLIQFcnHBMsFJayaeaXh8IN4QQBQgLMiGEdl13PB6N0lVRzmYzrTdSKudc29Z92+52O63lq1evlnR+e3uttPAGL5fL+Xxe13Xw5u/v709OToIXyDmvJkVoIjmZTBgnt3d3WRqHqO78/Pz8/DSNuLX2+uZDVZRpmnpvq6IsimK73X777be/+qdfJkmSJAlBuGtaDMgZXWQ5oUhrPXSmzPP5fGL0+WPFri/KMs+yiCfe+3GUTdONg4gY7/r+w/ub9ze3hPIvvvjis88+Oz09aw67UK/Qtm1wxgggIURWlofdvuu6YDeEEODMcj6N0yKIUoZh+P7774VQq9Xq9PSUU/r29nYYhpOTs/A0grhStE3btvWhMRZ4PWLCtYFRu/2x3e2P3TBSHg1KAzaMR5P57P2H19vt9nBoX758WaW5s7ZuOjWKPE31OBybJsuTk/lkOl9wSoSURVHFcWqc9cdjqP0TowpojlYncZaO49B1nTXm/u7ucDhMy2lYhYqiMMbUde29XywW4zg+ddIM25YIIY7Ho3NESxVNpstZjoGsb+83d7dDN45C9U1dTKaz+TxKUys1j5PpvNoeDwghwlnEE844AEgptZQVp4tnz/9NlhZZ9A///e+2d9dKmn4UL19+tlgsMCVKKaEVAMRxXBTF2dmZUbJuGms0I6hrGq015Sw9nUk5BHJms9lcX18b44q8NFpbG3j3B1iH3dkwYPdYCgvg8WMfG05waJZN6/qw2WzGcdTK48cmCmFT5mEYtJCCU0JRVVXOGYzxYd8Hh+/6+no6ncZxppQ6Ozv79NNPlRaU0qqq6vpgLaYUz+fTX/3qV6vVarFYaK2LIsviJL+8TLPk+2+/W6/X3tvL84sgGc3y5JOXz68/3E+n09lslqYxpdRoOQ6DkuM0nVqtg6bKT/IiS5fzGQAkKRBMrbXjOIJzVruIMpbT+thiIGman6zOTs/Pfvqzny2Xy0Go09OVlHIYhiJNQrK9aZr6eIw4jROOfHI8Hm/u7/u+n02mZ2dnCEcYY2XNfrcb+v7q8vnl5eUoxe9//3uMcVVVocxUShmS5L9++413kGWFB+KAjkLvm75ph24YB6kGMep+QF1HOaeUosPm4vRCK2+t3W72e3SgCE+LMssKir2l3Do7CmUAVXnGKPHeIkzTLPbei1ERzCjhxhulVNjQAXt49/qNc261WiHnYsZ2u03b8iA5RAgXRZZl2Wq1+O1vfxv26vDed10TPL0sS2xMTKrlMN7WjTdeCZkmGWdkc39s+w7ev51Mp/PVsqgmeVmClVIhjDGzEUXYPlbrekTef7g9P1nG8/nJ2RXmf3+oWzTJLybPTk5Ps7yQYths9+/fX3uj44THccwYOx6P3TBmeUkIOR6PuGtnszkaeyFSznlQdyZJcnl5aYy5u702xgBgglDoM+yc894ixMNeOU+b72APDgGllHhvwdOERzGjXWf7vnfOLmZzwOTs/CRL0jd9P51WZVkObYeQXy6XVVXudz2ltGkaxlhVVXHMLy4uptPp8xdX79+/995GEQvSpa5rg061KIo0jT+8XYN1SqksTyPGf/7zn//DP/yP7XoT+hM5bxIelecX7aEngEQ/aDkihJwzQgxKShkPzig1DuvbGyW6oE2dzSb7wy0AMErjKI1o5C2M/dj3ozVeGQsOTYpqOV+WxYTgyDmFnO/qh+55wzDc3d72fR/HsdOmb9r1et3WTRRFi6u5tfbDhw9n58+vr68ppSeL5XI2l9q+fv16s9nMFstQcRcWuqqq9sfD3foeHErilBCqDPRSW6vGUR7qtml7KVTbj3XfTmaLr159llf5er1+//6DUirmiZQGeZhNyjQvKEIeTDmp4ohEEZVaSaOjNI5ZFlrJfmyeQ+vjuq4552mStE2TJEnEqbW2KnPjPQAY74IHPJlOvPev3709tg0QnOc5JkRoRZxlcWTB//43v59MJo6yw26npYp51LfdYbsjhCSMjEq+f/fDze2704vzi4sLJcukWCHECFglB601ppxylmQpQkhpwx3QKIniXDsgLLl69uLQNOvdbr/Z3Fy/7/s2jhjSRCn17sMHhBBhPNA1SmsGwBiTUmotKcXWoiRJ/uqvft513a9//evdZusf2iKHnijee/ukqwEA8hHoCSAd2pV5oE3TaK3lMG63W4TIbDZnNPLeayPv725Wq9XVs4vdbieHcfbZzBg99P5wOBwOh+l0qrXe7Tbz+ZxQRAiRcnzMT5GQBgeAn//8r4wxWsi+7xljPGLO2O12q5RQQrZt+/d///eb7f2rl58SQtbr9aSqlFJ91w1DJ4Tw3sYJT9Pk/vYGITSK3hh1PGxCQhR5Z7F32gihunbAHjvjtdRaW0K5NZDFaTGdzWcnGFNE2Gy6GOoPHizCvm2ONzc3t7e3WZadLhdv376WUg59TyjOizTPkrquh74d++HZ5RVj7Obm5v31h6KoVqenV1dXd+tNmqZFVc3nc0rpoT6GhqaTycwad6ibu/W+6QWgyFhPaexcK5RWRlvwiEAxKS6uzpMiwYIcD42zDgiKk6Qqp2VZgrMEQZHHeRphZCkBhzAmlKWxOxxCn4+nlh6EkCxND4eDVork6WIxCxbxeDwyxkLrHudcaBtICAmVdZ988klwdkPpRGhcjhBK02w5X1JKCUJt3SAP7bGWYjDGLJfLNKu0GbfbtZIdQYbiyyiuEs4iTrRHgxRGydgXlPJqsXRqUH1PWDRZnJSzpdD2+7cfxvbYdd3QtxGlp6fnaRo39eH+fu+9nczmVZYTzhhjmCLASEqJcxcSBXGczqYLOsdN07x//z7Pc6WFDU1+cNACP0gJ0ENvQADnLXoQCYeWOABAX79+vd/v67pt6zpKshAhHeqGc75erz//4ouzszPvvdaSYtT2/e3t7X6/d86sVqvNZvPu3Zu/+Zu/CTqZUMqtlIzjeHWywBhPJpOEpU3TyFiGguI0TZMods7d3HwIFQl39zfI22lZhRY3BFCRZlWejWO63a3btkXOp1G829xTirUSCHtOU4RADP3dzfXsfBrKNPtuFF1PgJXlZLlcOAtJli9XZ/OTU54VHpy2DiEcMS6x2B22m81GKXWyWKZpKoTY73ZRFM3nc85533bf3nwbHvQP339fVVUQXn728tM0L37729/+17/926+//umrLz4PnMl6ve7H4aEck0XCKjGqtumkQXnBacQNYrztEalXpyfPixwI7oZ2vV0PUpyfXSK4VUJjjMeu+6B0xPnzy4uIE4JdFNMsYXFEo5iwNKaczeeLQImmaRayfiFvUFXVMHTW2jxJvfdyGBkmDJN+FA91gJQCwH6/D40SnHMhkgm6+SCRPx6Pi9lSa7u5u2/rZrNeD20rxTAtq8V8gsFR4l88u7g4WyljsoxhbMbuSJBnjBASE4yMceM4KmMmCDGCoyTNJ/PPXn0+9t13v//m7//pn2KMJmW5Ojkr8hQ513XN/lAPYkyShHNOKQ9kNyFUan08HlcnL5WWxsQ8STCiXdMY7WbTxXy+Px73/dDAU3Mo5CilyIYelA9EM/JBYOYhbAUIQJWWIReT53mRV3Ect6p3xr6+fh1F0WI+d87FMbdW73a7zWYzDIP3fj5fBtcwKFrjhIfEkHO2bVtjVTAnp6enejTe++VyGcdxXmQUkyRJ0jRmBN/d3TXtEXmrtX79+nVd11VVtXUbRVFRZlmaOjulGHHO8yxbzheMEW0kY2SxmFNKh7Hz3g9C5Xk+L6pFBX07yFESIE6bspjNlsvZYsEoM1Ia77Wz2rhxvz0cDre3t+M4Lqaz+Xzetu2bN2/yLLPWDsMQSElrbWjz++zqVUgvTKbTYRj+03/6T33f/8f/+B+vrp4TRjebzd3dWghBOev7/v7+/ouLC48w5/FisSJRmuezRqjx/j64lNPp5OqTF54Ci1icpaRvt9dHTqPV5Qkj5MOHD2LojXaEkKKaSNFRiqvZtCpShCyhKEmTKs6DogEAKKVKHTFCIRXgvbVKex6FNyxXc2utABTHsZRyGEel9fF4VEqtVqtf/upXgUuoJhOMsfO+advD4XDOE0xASk0pJ4Q4a4UQbDF79uxZ29beu7IsJrOKUuqQwxgfm6FxRkpJk4JEKcZMWTtK5ZyvqjLL0nzBPiXeOyuE6PuxP2xns1lZltbq9+/f3d9eI++yLCOEhA2ijHZd11mPECGTySR069Zae2MQQt4hzvnJyclhv1VKjKLz3oQuMggjSnHYPPvjZiLhNaU0NOGmADAMwzhKQlhQy0gpAdDhcHj27NlsNjvU+9DKR2nZtm2oiYyiqG1bSulisTDGeM/atgYAa23XdUo/qK7jOD5fze/u7kI1fpqmGFDXdW1bO2M555988smnLz4RQiilsiybz6d28G3bCjk8NV3ABHlvnz27jKJIG4kxzOezOI6NVYSQ1ozee6eNHpQzHgO2ymptb25ukjxHQKz1HiPOuRbyeNz/9hf/ELyCosiimNXNYb1e77br3RZOTk6SiLdtXdc1QmixmBVZhjBZLpfv3r37r//1vzLGptXk008//cnXX8dx+ubd2/1+n2UZY+zm7na32wHAbnfgceQ8TpIsr+ZFObXHJiiInHPHtkm222ySz5fzYlJYb/79v/+r4Arut1spJSNnL148m0xmoWCUsqgoiqxItRk5xWVZEmED0RbHMaW060jInBwOhyzLnDZxHI/j6MFGUbTZbNq2y7LMGLPZbMKthhrCk5MTjHGe533f73a7KIrOzs4uLy/rti2z3BgjR2GVzrKMEzydTtd3t4xT6831Tb3bb2aLaVFVhCKC4rHrD8cuyoZqcRrlDAP23gxi9N4T7+KEe4+0sQihrCy6w2a/Pw7DoMSw323k2IVSFSWN1g9bDjZNN0o5WywWi4V6TEG2bZsmeSgh8N6H2kWEkH/odeMRAMbYPVDy4B670WMPDqEfES+cjctJK/bV5CzOpre399aiokyraTmZ58YPF5crZ09e//D+5mbNaC71bVmWL15e/d3f/d3Pfvazqqru7+8n07l1EAra7+/vi6IQAjhPxtEPsZ+fXEZRtNvtXv/wvVKKENLWhyiKLi8vV6tLhJAxhjHGGfXe6/pbQvVRDPU4OkxoFh267rvff/jyyy9zghJOEdi62amREO+MllQba/0wikFoRzmLM4doP0iSZz7PUZ4iQsC6UcnN5v79+/fLotrtdkmSnC5Om6b55te/dRY+efkVwbRuu81WCQFSxkU1QTS/2TTW37y5+bDf79uhOzs7+4uf/mw6nXZdJ6UmCFNAsh+EEP2hVt1QVdVhOCzTk+m0JIxbD0JujahTIs6mcYxO2n6ErjVS3dejnM0Ws0Xfba21Uo7j2FcVyhKWxILSpshizXya2SJ2s4wglIG31GvD6dVnL/q+X6/X2shiNnFGj1osVvOsSN+/fXNoDs9fXAkh3rx5E0XRfBrX+1tr/fPLM6M9IWy1PFXKbMdDmrKbd9fj2K9O5tMyEf1eSzzuhuv9/qGZh9bjOE7ns+V8Vdf1OCiplDF2bIZmJwnZIISKatb3fZzGWIt6PE4W82I6ZWCcJ31t9jafLc9IVc0/+3o2+lufkrvDh/stWMcpIThbrU7LPB36BnkytnJko7fOg404yajR3abIVmQQiBDtG0swLSowPspjzwhNU54XVhsgCJw1Rlv7UCTlvPMerA/7fRvvvXMKE0QIoUrJPE+VtFEUxTFnjOz32+3u/uz85OLiYjotum5omg4TKMtyHMRisej7XkpZFEUQn1BK5/N5KJjHGM9ms9DAtu/7H3744Ysvovl8HnMWMcoYE0JgcEFJYrUK4Swl2Gh1POyPx6O/ez2Ise6HTV2v94de68lifnZx7r3P8mQ1myGnRVfrsR/GQcnx5vsfgFCl7aAM0IgnORA+KIsIT/KCEEYet9U9Hg9t2zCsv/zyyzRN31/ffvfdd1rrxXwVx7GSOs9zjGjb9nd3d+/evVuv199+++10ns5ms8VicX5+/uLFizzPh2HY7XbjKMPHqeuWUhqiFGttjHHTNF3XFdWkqKaMsel0mmbF63fXjEd4f2y6hwadEWPH4zGKTd/3fd+Ct3melmVZVVWWxXHMplWZ5VEcx957QrCzfhiGYrIM6zDnHLGHtsZxHB8OB+89QoRS4gCHyjpr7exsqYwf6s4Bni3mhDBl3d16K7Wl1iVZkWQZYLTZHdqulnJ0raVhlytEkjQilB8Pzd/e//fZbNa2bdvWHqPQxTIUChbVzFg9DA4IxlJo70YptPez1clqOe+Fur25ma/O5ovpyclyvV6/11obgx9Kkt04jlbLcWhnkyrwj6Poo4TP02nolB94v6ceZl6pUUkhRKiKUko5owFRAggwwuihOeGffscYh00aKIDL8qTvpXPGeSvleDzulR5//i9/enZ2kiTRdrtdr9dpUlRVIYQIQ84YW61WABD6chFCnj9/Hsexc66qqqZpKKXT6dQ5FzEalGreakaQ1XKQklMiht5q1dTHp013vdVKKXX7QRk3anmom7quaZqenp7+xV/8xXw+zbPEWtsc9s1+Y8SArHFWx3E6CLXd7j/c3UkL08XZ8vQiKUoeZ5wy7723VoXmhkoh72ez2X6///7775tuyPN8uTyxxt/d3bVNhykzxux3x74fozTJsmyxWJxfzoMsOah97u7uggI7uHMY4+XyJLBMSqk0TXkE9bF9YMcxHsdRSA2IMEaQQM45YwwCNQx98BVpVBijEECWJWWeZ1kWGmdzzlenJ2WRjX2zPx4YwY8di9rASEZRJEdR17UxZsKiUe4ZJoRyTEBKOQjlAGPKr+92nHMWp4TH3aju7j4YbTHGcZIMQvOIRVE0qkFrhWjEEL2/vl4ul3GaAsaU8yjLeilv37/vRyGE0NYkSYwJy/IyON9929zd3Xnvz87PZydzivEwDINSmLCinFit72/uAJGr5y+uzs+UkN1XX/7ww/eH7c44i5E3DhgieZ4fDgdCp4wRbSzGwCnL0yyJ4kGOhCDMKDKYaa6JVEoJORCKPNiwNRahGD80anLe/cGuy0/ySfKwrRWmlEGScEqhbWpj3DD2Ucyns3wyKXnYOZci5wylOE2ypmkGbUJDGIxhHMfptLq/vz0cdp9//lnYtIMxopTAGC8Ws67rYk6tlsd9u91undHemqFrLWfe+6Y+iqFTSjHGwhLBCE7zklkjD9ZamxX54vQsS9L13T1Cvm2w10KKEZQAZ8e2bY418wgRHKfpbL40Dk8Wi9VqlRaTxcnpbL4sqtIYB31vlABwlOLQaaPve0pZkMocD03ddt4BIrhputube+/9ip+nWXJyuvq3//Z/CfVTSZIYY8SoGGNlWe52h67rwuapALDb7UIuM8ui+Uw58BhTocwwjMYYQD7LslGoLIkYYw6QURohlKapcT6JOWMsjTnGyLuwERp/6jg5jMIY55yz3oHzXugwHyilLOJxHLdt27Qd4xFGiHBujBlGpbSLk7yaTL21zjk5yLicT6czjVjfj1lWFEWx3a4ZI0WZ9X03DJ11Wo/j8uxyOp3GMTfGWMBKu07oYzduj3WgdLjH7ShJ2wPlWcaFEGoUgxRRwmlEASAusklVru9vHQLGUwR2v77NknQymfzki0/bd1+2fXt3d3fs24TSNOIYPI4oAJRZPp1Ww9B5Y50xyDrvnEdmGLtBijjJCKM8SyjFGENVFVmWUIqtBQDnMUIOrHME89CeHgDAUcAGIea9fdhPBBOKsJvNSyn18fi+beuqKk5PV5zTJI2t1d7j6XQiz3WalhGPrbXN0IR9TKqytMYggIhz75zROuI8iWOMsbMWIVQWBXi/26z3CO12u+12K8UYhCh5Gs9ms+a475p6Mpk8v7qczWZKqbZtPcFDJ49tY8HP54vT01Wc8GHs9jsEzholnBIJZ0USp2mOATml67a/ubt7/eaDcvDspcom83K6mM/naZYRhLVVRkklpFGSIAjimaZppLZ5nhvjfvPN737xy39yDhbLVVFUcRyfnV6cX11Syvu+X61WIQqvqspaey836/X69vb2cKiXy2WSJH0/hn6lzrmu6zjHGGOlZNvWQhlCKOdcaQsAeZYxxpVx4ygHMXIWl2VJOQ/GXmtlDeOcTifldDqpptP6sJNyLPJ0Oj01Vh2Px7EfynLivW+aRiuT53mWF9rYcRwxpsZ5TBgBrD1YRDGnQCNKUFlOtNZZMUuy6dklI5gF3SuL0ihmVVW2bb3e3K3X6/1xu0zLehCd1FmW5VnmlfKY8ST3cmRxEqUZokxIvdnu226IouhsUoT2T+u7+67rqvnk2YtPns3nQ5rcvn83Pzk9mS93x3q3vinTpEzjF599ut5t3n/4YIyKIh5x5hEYY54/f75aLXhElRi9BwzIGWtGiUo39uMoRZRlaZ5N6CLjTBl1cnKy3++TJLZOIYIRAgManGNR4j1gjMCFL++cQ4ABB7oeU8bQZFpY69+/u+m1Oju7WK1Wh+PuUaOryrJMkpQS7hymlE70xHvf9/1sNiuKYhzHsixns5kQIiwcSqnAZAshKKVxWVhrrSmVFPdd3be1klJR/O7NawCYzWYvXzw7PT11zvVtLcd+f7+5Xd93Q19N57PZbDabzVfLsszbtnXOjG3THJUQgmNUZGkSxVpqnuYeU55UyrnF8ixNU611KOxQyko5aiW0EghcxGnfH4wxWVpE3u33+7dv3+93x9PT008++bSaTOM4zrLi9PQ0LyeBQnnqeHg8Hq+vr9+8fhdij7BnNKXUexS4bWstxrgbCAD0/dh1HeVxkqRSma7rECKTyQRjfKwbglDo+0ApZTx2xoze84guFrOzk9PpdMo5C7vizGazxXKGMd7vdwjTOM1DtggBbpvNOI6hrmoymd1c33nvCY15ypxzBkattTBekSifnjrnDnX77u57Y1xZVGjf5Hle99K2/frYIoQQy1cX+ez0Egu12dwP4xgRRpKCUplN52cehe20KKWUPuxahRDSHsZ+CA3bBjksCVS+Gvtuc3d7enZe17WVIuVExbE1amyPRkcvXn06qHG9XistiLVJEkeUZJRU04lSqmtra81qMTs/OZ1PphijnVbajFIKj5HSA4BFjOdFihBK85SwUP/xsIeU8Q/bn/mHF/6xzbDFgD0gjz09v1gq3Y1jyzhGGJw3ISJRSiGMdCcwhul0HkdZ1w1RzDHjs9lMSskYWywWjLHz8/Pg4waSOLQ4JIQESqSKaGg24ozq+75pmrHv6sOeUrpazFaLWZqm2806MP2UUmks5VEMiEVcKdUc61Drk0QsilI0KfRiqsTotRrarm3bJErbfqi7XhldVLMXLz/59NVX09ncY+KcU1KKcey6pqsbbRTyUMbZm9fv6ro+u7x4+fKzNM3X6zXCdLU6dd4LEfaT7ZUxlNLJZBKqnLTWu93u7u4uhOzT6XQ6na/X6+12G0VJ2JKgLMvPP//8hzffjuOD1Q9tgRHyWRozHud5AYQSTNM0DV1yAaAbBCUoz6KiKBbzaVnlGCOtpTGorPJqUjrAbdv2o8CMRmmi2xE8iuO4LMtxlFprFiWT2aoblFQGYxJFkfeIcBH6NC0vPzuE1qo6FDrKb998ePv27YsXL5IksdYqJeI4ns0nq9Vqvjz1fcvS3EiFMZZG1c0gjadJ7qTy3htjkXXMuaAfiaKIWBG6BPf7Ph8z7MFZO3R9Ux+mZWGsub+5jpI0YpEcWoYQTuPLq6tPPv/s/fu3x816VJKThEa873unBEZ+OZuenZ3NpzNOmdJyUC1BOEtjzJkzRox9TCmnoYW6tdYqrTFmmD7U/4WGOYGieezF54Ll8t4CEPrs+fmb1x+ub+7CfoCbzSbiSdi/EhM+DL1zJs/LLEPWaq3lOKgqz3oEnODppOKcB3JGCBGzcjabJZyFS67X6zzP2/32cDiEEbq6OE8i3nVdWx/yPE+SBIGvj4cgK/feV1UV51k+qYyzQknnnHW6bduub77++itn/v98/WeTZVt6Hogtu705Ns9Jn1m+ruvu22ADDQJkSOSQmiFmBP0KRUg/Qgr9BH2cCH0ejkKKGI2EoYgRCQIgB41Gd6NvX1+VVVnpTh67vV1WH1be6kuAMzsyKk5lmTzm3e96zWOkAYPGYUgQrqijlLq5uW9ZXzcdIjQejAajiR8GlFImhRCibesqz7Jkl+62vO8RQr9+e2HUsNI0raoGADAYDHom2raWCkgpg8CnlDZ90xc9gGo4HJqqg1L66NEjJUFd13VdG2SO67pCKAih67p5nv/1X/81sbDxi5RaI0QotUbj8d7evO+5cRNB1KIEt03Tt8CyLMfCIHBsCinFkrGurm2KqG0HoYcxzrKirkuIkeu6Wsu6rsdB2DUtE9zzgtlsv6zbqmqyvJwdHudZyYSklAKNsOMjhCGEy6L75tW7JEmm02meG/hnV5blcpt+/PHHk8kEatQwnl8v37xb+L6P+uro6Ojo6AhjvN2uW6YAsTzXL9sWI4MvrIq8cnpGbSf2/INg4vmOhuhmcXdx8RZC+EkczebTr775+uWLD/Oqvrl6d3h4NBxPFe9ce5g3zWRv+sGHHy5urt8BrVmPMIYQdl1nIRDH8cHBgYmoPM+btu6D0A8iz/UQoUqLtq0tx0bEej+r4ZwTijAkECoAYffbiH8f7lJrjSjRAAEAiVSM8c6ySBDatzebRb4Jg1gDmSRJXWNMAGNdkiS27ezv73/99bfj0d5sNns41Dg3NQwAwJx0xreIEFJVlXFO1Kx7cFiwrGfPnn300Ucm35vbgBJssuZkMjF/5+rqynac9e0tF/0PPv3BfD6v65IQlCUpUBIjAJTeLJbbzQoqHQTBcLpX3dx2jAOEkyzPsmLSNG3PIIQXFxcWJmmyS5Lt0cEcQ7TeLM/Pzy8vL23bHo7HRVF9++232+328ZMnn3zyQ9t1ZrOZ1vrm+k4IHseRlGK73dZ1HYZhEAS+72/Wu9vb2+FwaNwnDw8PGRObzcY4cFxdXZ0/PptMJn4Yci5Ho5FtO03TGF6Y1hBoJFmPMR3GkSHXdV3TsE5JHg6j0TD2fIcQYjvUSC9JpYIwhhhwzim1D4/GE8djjLV91/e8ajoAkB9EQuvF/Wo4HM9GE6H0arVZbzNDDP3y60uELKHh5199o5Qqm2a9XnPOtdYXl5d11+3t7TUNBwC0DW/7Uvf5cpde395/9NFHzz/4SErx9uLNu6u31HYXi4XjWl3dtm1ru07ZdjDNUZ7+4AcfP336/G8/+/XFmzdhHD/ruvV6DZS+vr62bTvwXcEYhcBz7fX9Ij5/nJXF0dHRH/3RH/3lv/k3n/3yF3meF+nWQej5s8fHx8ecs2+//TYIPIvQvMh42xvkC7bdwzAmCLVta7uoLMv1el13reU6QMMHgpuSlmUc4zqje2WwBgihpuls20aIkIODeRgMrq9WF6/uPM9REldVZdu2bVOESN83jHHGWJIkWsHJZKKkNoBmCGFd1yYx2/bDZvthBjwaEULW6/Vut0OSR1FkOOBtzzrGEdAY4yAaIKCEEFw8uBr1fV8UheN6RVFkZYExLMvSsoiU3PPdMs8oQZKLuq551xNiiZ6t19tGqJvbhVByNj/ww1AoWeQldezlcrm4uQ1CH0PgWKRra9d2DvfnXd09f/48CKK6azlPh8PhfD5/+cEHJycnRVVut9u2bRnvHceyLAIhLIraQKPNDJj1IgiMcIj1PpEEQWA29ufn59tsZxTImqYTQijVGoeFMAyNj5d+D/tQUmlFCRoOIojQcDgcD2IvDCzHNqYxjusqpTAlkGDL9Yw+oyESCCYNyz7La66U6wUaEEjspKiubu6TXYoI1hq+u1slSV0UxXK5zLKk7/s0TZN0yzl3XRcAYFvuwf6R6/h13SoFBoPYGgaiZ3XPvnz1quH9ydHxeD5DBH/z7VeYkp6Jpu81BFLopmkghD6hn3/xzWw2/c//xX+5tz//9a//9n/6Dz/7/T/46eHhoVERsyglCLR1BSGwqJWmqRLctR3LsqIoQgj1fe871LKt8XhcNXWW7KIoKIqi67rpdDKYTj3Pw5ZNLFdr3XWdbzvEcXZJ0jSdlJoQbBRUIYDfuQpJA54zExsIkAZAKiWQxEiSrmsGg2HX6ss3S0MSubq68Tzv6bNzhEjXMi5Y37OiuCvyajqdlXkV+N5oOCCEuI7dtq1WsqkrCKHvuQiC3W6XJjtKaRQGJ8dH6+WKS73ZpettgoAyWAPXdRHQRvRQCQYhtGzH9XwI4fXiXgB9dHI8m04m0xEhiGLoeW7bVH3fF1neVjWCkHN+f3t3+fYKeWGe57P9g6OTs7NHjy1qMyl4I7MsOzjcdyx7vbx1Hetwf44hKIpCCDWZ7AVBUN/eGHXs6XQ6Go2qqhJCGB/MOA6FVlVdCCEo8TzPMw4FaZpKoWezGeccY5plWVEUrutPJhOt9W63q6rq8PQIY2pErMx6qGlaKeXjR0+/o2QigIyNkVRaN23huq7reQRDpQUCSivRdSJ0bM/zAIJCK4Itx3MppRJo49rQNJ1luwATQggC2HaCwXh+v9xeXL4rymYwHA8n0yzPi1USx8Plcp1lWVU1eZ5meWKeFcZ4uVw6jnN8fAwAqusaITIcjpVsaEz7vk92m7/+m1++enVxeLg/Hg3Ozx7btr24vdEAhGFIHTvLkjRNg/l+1XWQWoeH+y9efsg47/p2s9l9/PHHbduWdWVEMDnnbV0LymoJKSWuZUdBeHp6ejGbNVnmOFYY+HlZ1GXRtzVA2lgtKQyRNr7KzmR+YIQKAbbTze72drFLM84EwRQCDBEAEGqlOReccy4EF0JKCQDUQCKgAUBIaaw0EUJIxWezvSdPnpS5KrK+qW8ZE03dOY4lpcaIagU3691mnU6n++Px2HQqZhdoLHDX6/XNzc3jx48RQovFwogPmtNEKp0XmQEw2dbD3N2xiDkTCIIAAHMMmYbvbr10XffJ+ZkfBl3X2TYdD8dh4DV1nu626W5HiR2FIYLEsb3hcKjdUCjNhNil2bio4hF1iEUpPTk8arumaaq9yXQ4CHjfFXnm2U4Fes550zRBELx8+dJszQwRdjydPEgQ23Za5FVVIIQm4/2qqswMnnMuuDLOMzc3d4a5YoaYt7e3VVVNJpM8L4uiMBtQc/qZo2+XbJAZdZD3PmdIay36nngeJVAK1jW169qQYCOmQCkFFAMmiUUd3yPE6hkrNhvj+tJ2jDo+dRwAKefi8ptvV5sUU+flx58gbL99d7VabbDlNHW3Wa23640QoiyKtm6M6TUCoK3r3WabZ5nr+EBppSTv+WAcL5fL7XbDur7rm8Vi8erVN1EU/MPf/2kQBLbrgBQYYUrDF6vqPo7jtuM3dwvXtT/9nX9QFNlmu2663g9CDUGa5qzrberUPeu6LjoPA9fzbMel5PGjR9tPPuF13VY5pvQ3n39OMBwN49V2E8fhdDqtu7bbbvueB4OBFtLCFnGDMst//evPr69v0jQXQpmZI4QIIgC0MDJKZq2pHnztIYQYIWjsaUnb1WlaDqJ91/WbpmlbwXpeVdV4PHZdlxDL913LcgBAWVYURfH86TPf901TbEolrTWEcD6fx3GMvvNkNMDUoiiYkFIDRCiFCGMklW7arm21kdwAQFVVlSSJme5hCIIwtizScfb69Zs8303GMetObYvEYTCIIt73WZKmSdK1rCmrruvLVjImetmsluv5weF0vu+6PgCqLEvbopLzireejQXv+qbtm5oQ3wDX4tEwjmNTsO2SDSYQAGWW833fK6WM8VjbyNevXxuda6212ecDAB49emQmVG3bGw8jszZqOTNJ9D1pA4CHVSuBSigBlKXMOgRCCOF0MgrD0HYdraDjOp7nuYGvNFRKKKCRRgApjbAGSGkttbIty6ik9ExwBbHQUrcdV0XVVHUDiLQ2KRNycb9punYwGHVNDpQOfB8hADSXoue8V5I3da4U4KyHWoWB59h2npW7zUbA8O7+/v7urmnqpi6bpoqj4FDPbm9vR4PI4JO3m3VdlwgAz3PugdP0AhDqDyLLcwTvudKYWldXN8+ePYnjoRCKdX2SJGZ+FQhpYQKUZl0fxfGHH36YrtfffPkb41zi+U6kQ8GFLZiEGiMENZpMJtPZPAhjIaRsmt02fXd5tV5tm6YjlAKNlAQQQACx0kK+t/5U2kSmGVxiZNyjKHEcpyqL3W7Xd7Qoqr5DCJGuY1VZ+747Ggfj8dS26eHhsda3Td2aWaEQouv6pqkh1LPZdDodm76zqipCkGVZbdtiDAlBbcGlhgqgui7KsjQv26bk2bNnhCJMKLWl5XiuAgQB27adKBCMC8XrqjKd+Hazqoqci/706DgOo7ZumqbzHdezXdsuV3crx3ECPxxOxvP5gZmclmVd1/X52QeBZ11evL7v23EcWQTf3t0dnn5gsLUAo7u7u3fv3hFCXN+ZTqdCyqqqhGQBDPzw4frZq88Wi4XjOMYijxLbeA34vl9VVVEUUmpTxJvsEsaR2TNQSo1Yn2VRjKPQ87/7JJSRDYMIQYSGcYgpJebM8l3XsS3L0gB1nEkpAVKQYIgQ55xLKYSkAGRZliSZZbuAqKYshUbE8X70ox9f3Sx+/qvP/vJ/+n9VLfPDGCFcNV+zrMjzFEIdhN5kNHQszEUPgLq5uVFKQSUpRo5FMIC9RVzbTtOcc1lU1etvv1nc3Xie8+mPfjCZTLIs4327ul/UTQWACoLAIqhpmqu7JV2ti7oy6u5SAakAROTufjmdzY78cDgc5nl5d3Pb9/3h4WGZ5Z5l2YQCLUdROB2NT09Pl3fXby82o+lEKdFxNhzGGsKiqU9PT3xn7Aeh43hmMY+p03Wsabqm6bSChFgQGgEljRB83ymB7yy/IcQIIQSNSy6GEJL1ek2wd3+3qkvQNA3UHmOiKCrGRF23+wfTQTzEBM3nB74XmFxlAtE0ZI7jDIdDCOF2u03TdLVaGV5IlmVlWVqW5YdjMxnoug6RHioAIdAQvX13NRkNp9NpEEbmxFgul2VZUtfGGI6Hg/35dPLoJI48IBlBUPJ+EMUG6o0xpZBWVZ1kxQ8++SHnnCsZRQPbcdquy7KMM/by5UsTkY8fn2vOr99dYAROj0+wbRuNnabr0jSt63pvbzIYDBhjVV0rLQwbyBgkrVar5XJpjq/BYGDbdlnUhnT32WefmZ4EQtx1nRm/KqW2223TNFHwINaulPI8j0CMMTanohISaI0oMrqZCAHe91JK1/c8z4MQsraTCFDX0w9J3YcIMSG01gChtm3buqmqyhbKgUgoKAHWTKZZPhhPXr78cLXL1198s01ypWHdte1mQymGUFd14Xm269nTYDgcxmWZ13XrB+5wGFNKk13Wtu3+/mFXs/V6/erVq9VyiQnxPK8sy1evXu1NJ1Dz3WYNERhE4f5sGgTB9fX19cWaYnS/WiOCheKHB3thPARAZXnbtm2a5zalURR14/Fut+NMNEmiOY+jyLFoDWHgOYcHB0+ePFmt7gXv+p4rrR3PnUxG4SD2o5Ao2ncdV9oNYtuP+qa7vr7Z7XZKAYwJpRYAkAmJNcCY/B234wfpSYwxwg/9rFCEc352elRkQgl1dnpOUIjgTVU2SinGGMGW67oQgeOjE4zIcrnmPTNrNsuyAs+3LAtqUJVluku22+1isTAEs3SXJEli2/Y6v/6O1YIJQpTStm3Lsjw9Pe0Y32w2xpiFC2loaZvdzvfd+d70+Pj4+HCmFevqwnPsLNkuFos8z7uOhV5I/Mjcb5vNphfcdf0gCMbjsWmSzGtO012y2Q7CE+MlZlsk9IPrZXZ/f393d+f43mQyefHihec5aZ5lWda0bRj5pj8xLBmjXP7hhx+ae6DrurbdGqGOH/7wh2VZMsb6ngMADETn6uqK+q6h/5ml9QN8j4soik3EG/kQQ1xyHMfcCRjSwPOjKFIAdqyXUvuW1TNh1pwQob5thVKmOwqCIC+rumm4htR2eyGqtOqEUogCZP/BH/zBh598mhWF1NBxPLZdIYRubq4u310w3hECoijYn88d25ZCTMejs9NTwdXFt2+SJDvcP3h18fri4qIsy+l0Silu6nK5XErWDweh51hhGLK+2263kvez2SzPU9ty/MDzfZcxdn9/j5AaDuIwjLuuAwAmSUIxfvTo0fnjR0rqJEm0B1IhLEp92+KcK2WNRqPHjx+/fv3tbz7/W4RAPIyk1ocnx2ePzu/vF/kmtyzLp67veoDzL7/88he/+MXN9SIajTBCGGOgkZQaQiC/U4mH37vMvhwhxJjAWEopye2ri9Pp7Ke/8+T+fnV6bCmA90/raLrO8oI68pdf//vZ+RAT5y7buON4SIDADke2HYS869u8g7oBSgnGy7Te3m+zTQYQJLalIaK20/a9BXsFFRcSKBgOh+PRPoTYcFAotjgDm3VqNupKESHs0f5p21TrpLpbbCIvCByCBdICPD15vN1sKCC9J6SGNeuRZR2en4fZAkI4HA7nA9yl19RyZjFBhJTlJh74XnBWMpZzhccHWVVd3afp4n48Hn/86SdR5Fs2YaxZru7X28V8Pg8YKotKSR8ooiVIdpll2f/ZP/5HVze3ZZp6nielnI5i1/O11ovFQmpoWVYYumWtr2+vzIKJMRY4jk/tfJekaaq1HAwGURTttveGIgNd2nVd27PByD08ntymBY2HxPdqSrVgxHK06wgFBLGo5TmOQyGpqqrNK9e2h77XEJJkuyBwqE2icLDa7uqicr3Qhd3l5au8rKZ7B/PRaICx4NJ11fD8x4yxl8+f3q8+/vWvf31xcSGZ49iT+ezJYrX84OOfVK1wXVdb2B+Fm2JnYeHYGoKOUAsC7bhkPp+xrr9bL09OjnZl2bRVHMfB3uyrd1fpLnGoy3uRNLvD2czvXc/xZc943+erLRuP9+d7CKt8fRdFAVLV2fFACIawbrKrnYxPHz1Xjt0oOH32yaNN+XpZWEjPD44PpmMfhqtv7+o8S6B9fjA/PD13J+NXN9efff2lxGA0GzRdQ6kteOdQZ+C6Skhe9VBKKYhSCGiEkTFBhkBjpR6m8ghDYlvO519+dVZ3ruNLoS3HPtg/Wi6TydSq6q5ebBljLnHKsiyKsmvZ4GBgPlcEoeM4vO+Wy+Xi9s7cSaPJuG1brqRFbYvyum2k1J7nHx9PJpMJRqRtW6VAHMd13VrU6fueMdE/XKzrungw/uijj+aTIdby7u42dC2PQiVYVeRR6L98+RJicr/aXF5dJdstItjCYjQaBdHATI0Gw7Hv+wChskwghG3HyrKUAIZh6Hme7/ufPH3GOacWxhhstqt37y6ME8bV1dWnn356dEiurxeu4zuOPRgMuq778ssvNUSmj8+yLMsyDXaMsXfv3jleYOCNPReGW6S1fvLoqdGSF0KMRqOyzNu2NS2UmQtlaQIhnM1mtm1vt1smwXtHu4cjmBIbkTAMpdRaa6kkpTQMQ6h1Xddd25pZWZ9mhrfR9bxpGgWgbdueVJvt6u7uTkHk2K5t2+ttHQTBdDr98KOXxyeHX37x9a9//eu//Mu/1FqfHB7NZjPLssqyTHdJGEfD4bDpM9/3o2gwHMaPzx+dnZ84jnN3c1M3pdbw5ORkl2y+/vrrPM9Pjo7Gw9Ht1V1VVYL3oyjqu67Mc8+1ItcNgqBtW8dxpOrN5MRxnIs3b54/e9IzUZZlXreIetP5oR8Ow+HoBz/4QZmmy9srKeVut8Na+A6VUgaDYDgcYozv7+9fv3692+0IIVEUtX1vChhDYv0tx++71G6G8eg7c+P3D4gfxVlaXL272T84iaKY2r7tqE8++WHP1XK1y9KG9SIMLS112zGMcdd1k8kk9IOubrabTbrbFnkOIZxOp33fb3brJM+apgEQCiVZz/fmM9u2p3t7+/MDrfWbN5dffPHF3e392dmZZTlKqapqjM20kloqdXt7vd2s9qejF0/Onp6dhB5psrSsS0rQ/X3x+s1FlpfrXdL1fDie7B8eDUIrjIdhGJqYM/iIum1Xm10URa4XGK3+IB5EUUQpRT0LgkAqvt2ukiQBALmOhwkaDAab9bZpurKsH//4KWMyS4vtdss6vjffPzg48H0/iqKu64RUTdM4jtP2fLvdVlWlADS+RXEcd01v1slCiNevX1dVEUVR27bn56dmD40JNEIPbdvatk2pazAqjuNACKWUmBKjU6C17LpOSOA6TuCFvO9N6x/HsQJQJ2nLestxXNfNim3bMz+IKKX1LulaNhhPgtAHGrquA4DO84xzZrnu4yfnAKog9j/77LOj48dB4CklqqrIsoxLc9/aYRCfnJz4rjeb7Z+fPQ5C7/z0TCnZ9Y3i4quvvpjPDsaT4Sef/MD3ffWp/PnPf/aLv/kb3ra8bULXmo3HFCqMsXG+SLPm9vbG910jR25UGHzf50L3fV8VJSKO63b7+/u/93u/91d/2b359qveIsPYR8TN81zZrUUd3/ertinLMs/zTsi27zGlpjc1EW/wSxBChB709x7EahDA2HwDEoIwhoT1ajic7raJkItPfvip4HqzTifjWdUwgoM0abSGECLPCxxbO557MNkzu5gqL1jfG9MfM6LeJjtDRvT8sG6rsiwhwVKoTb69eP0GY3x0dHJ6evpP/8k/a9v28vLK4BQAQFLKtumk5oY0OBxE88kAQtg0VVf3qm8xhpZF091utV51PXMcK4wGfhghBI5Pzw1e3HVdLlSWZUwIjPHZyZEXRJZlCfmQXxGlWuurq6sw8hFCZso+nU457+u6/k7uwp5MJnmebzYJY2w6nUquhuMxACDLMiPuRSAihLRtWzWdbdsffPCB4/lmq5DneVXUAICvv/6667rHjx/b9lmSJCZTGJ3KgR+ZDlUIYWyeoigahBGyLCY45xxiBDFtmgYAJIRQTFJCXAcrjLXWxKLUtuq61RBzzjG1ECW2bXOpjOmZZVlxNJwdHNq2XVVV3ZSUUgAV6kEve631ycnx0dHh3t50Npt1TX2/XrGeWxYZDWLHopc37+7vVxbFDIv7+1XTNBiB2Wx2fn46GU6Wy2VZ1kdHJ5x1FxdvwzDcLZevvv023e7QKCYEIYS6rlsuaxsjRlFRFGbdUddlGEez2f7l5aVlu5i6xHahVlJxqKVSEmmAMc6rUkrpeJFQQCiNKZ3ND13X7fu+qpoHTxT0cB6aQNZaKyCNzDBCGhOoDaFVGVsoaObASCNCEaGIrFfp/MAh1GW92m2ztuU3t/ebbb43PxqPJo/OnzQ9a6rW9+IgeDAG7duu7/s8z/uuQwAqKTHGuyQpiqJuW0IIxKjvOVcaQuy6/my2b1mWGdWxXmDELMsZDAZCiLbtu44ZdnnXdVrryXT0yUcfPjo9UqxdrhbTYTSMAsUZwWg2n+7NZ47rQUKruq3aTkgZBIGRHijK2pjoGg0ZQ0KvqkpI7boupRRjKYWglBrSlhm5JOm275lRYx0MIt8PpdBv316ORpPhcNh3fLlbSQ1Wq5XRxfc8z3E9hNDZ2Vle1lrr4XDoh1FZlovFYr1eS64wxs+fP+/7frvd7u1Nnjx5cnd3ZyTcBoMBgMowxcx74n/nwYghIggroBFCxobEshwLk0bxsixFL6SUbd1Ettv3fdnUhJC2Z23TA4Ti4YBx2TSd1jqKosCPINRFUZRlySWAECI0CEMXQpiVJQAgDMMf//hHo9Fou92ORiOA0Wg8rOt6s9k0VVOXdQ006wUhpKnqu7sbSulkNJhOx57nCaEoVtdXt0KI4XCYrO4IIR99+IFnW6Ef9G2ned/V1fHhDGh9dXV1fLK/t7d3v1q+fv36+PjYIHMV4EzquhdMaNvxLOoY9RHO+WA88UN/uV4x3p0eHUVRlGVZ3fV5VUqhEUKYUt9x6rZ9CHclECIAPMjxEQTN4kl9F/EIAYQgAJAQSCkiSpEiaw8Ojhw/KPJOau250bt3N4PhvjMJDg+Pr69viqLyvMoidtd1RZFRQmyHAqjSNGVdTxFGCGFEJ+M9u6k3u22V1YgS2/EAAGXdtj039cZ2uy3LOgzD2WxWlqUQD7POpuuZFAoCallOiJWWfd9HnjMKR/PJwEa6rQvWta7ragCYYHmaMCGH4+l8/1BpKBWo6rbve8/zxtOpOSi2220QDUaj0XQ6GAwGlu2aM9F2qGUTrSXnvG0brTUhFsZkb29uNq8YUQDAdDruOna3uJkMZ2E8kFIaRyBCSBjFhg/QdOzm5ubi4sIPI6PTZNu25dvD4TBN06ZpHj9+DID6+uuvl8vlaDQwwyXLJuZThxCGYdh1nWVZlmO7CBNCLEypY1u2y7kkECkMEIR1XZdZaZyoHWJ1nDV1Zzl2z0XHGCHUcVyle4yx67qWY1Nqd23Xs55SvDebLJer9WYpFfc8r6s7JoUQLE3zMI601gRbk9Hk8Pd/z8gJ/vlf/NXz5y/TdCelnM/2PM/bbh91XZOn6d3d/dHRweH+4Xq9AgDF8ZAQ65MPP6IWJgjXeea4ltJSCWg4NEYowaz6N5tN29ZHR0fHx8dcKIAsqXXVcQg16/o02zmudXBw8Omnn158+01VpAJAhCkgJE3zpmlW200v+Gab1HVNXQ2/y/EG2gSAQgBCBAEAGEGoHr6+i3gjCwIfcnw02JNSQmw7tt91yrGc0Ld6pjGmnMkoiuOoEjyVQgOAtAS2ZZVluVmuyrJ0HMt3va5u8jznnPtRGA8H1HGrtlFAC6U4533bFlVtQEUd4yY6wXobhqFUDBPiEqo0kFoppVzXLfsdIWQyGc3GQ8CbJEmIZhbBZVkCLZWGHeNFVUsNbNdv2zZJEq21EAJTaruuKVc2m83Z2dne/GA+nxPPA1LmSbJe3d/c3MzGE8uyGONZlgEAfD+UUuZ5LoWGECNIhJBhGN7f35dlbQaI5lw288o8z7e7xNhb91yae8CyLCOj7rpuluTb7TaOY0Oo7ft2MBhQSkejgRDC4IoNOsOyrPF4nLXcMLWJZbsWtSwL4Qd3C9PyGtWqXggtFaV0l2QYY6mV63io7ZFQGgCzHlEQYIIwRFprTGCAPcuyyqYUsleSdW2FEDR2b9u2auoOAHVwdOw4DuOdLvV2ta679tNPPzXbFQTgZDIiFBuUVl6ky8V91zUGYnA4PxCCN02zWuYQ6sloFAbe2fExUlLwnrPGALkwxm3Tt12XJIkZ++52KUJoON0bx6OBgpbtWZ7PepFl2Wz/4Ce/+7uc97fXcBzHQeBZthOOxgCAsqhv7u82ux0Tcuz5RnoJAACAMoQPABEAGEKIIEAIygc5JoAgwAhCCBCCxHxR4lAC1qs0L/rBYICgBTF+8fyjrmNd1wdBHMdDxpRjWZ7tIITMDM5xHIpJ17QAwyCO4jhO8izPy2K97ZXoWF81nVCSEAK4JIRAgNum5VxgTISQy+WqqmrGGEKIEGKkT83seTQanZ+fHxwc9HXZVZVDkBRyud14jt02jZCa2k4QBGXdXF9fv7l8G4SDMAwNAc8AFoIgePbs2WQy8TyvqYr05mq9Xqd5aaAgp4cHq9WqKArf943cbpbldV07jjw7O7Ms+/b2dm9vb7vd9n07HA5d162a1ggpR1FECOl6ZtKzp6Hx7ZEaFEWR57nRXt1ut/f39wZQaQqt6XTqeY5lWUqpqioN5Mb3/b7vbdulGAOl4XdMZM656rmQum17qIHjuLZtawm01q7rvnlzPYhHABFKKaYW1UBw2fad1gYlwbu2RwRTatQbu8Xi1rZt17U57/OMY0ootWxkRVHUdxwBXVXVer12Hb/rOgBAGEyMB+X5+fnh4f5ms2FdCyHEGP/uP/jJ9fX1l19+fnp0bDoi23ZUswEAjIeD4WAQheH6fqE4syntmna32w0GkWm14zi2HOfufmVhjTG2Hc91AoCwUpJ1bVk3EYTJdjUaTz78+KPJZAKUkFJMRmNCgzCMmVCQYohp07VGhzWIIiO+pLXUGmqgEdIQAjOlMcOZ749u3v9KqBV4nrfdbjGyfC8aT/aWy7UQSnBpu9Ssmbxjv6hK02JDyNq2rQGQUtZ1XRVrI6VEqQ0RIpbdtbLpWNN2SimAWJmW7w8gznnXNw+wFta/F3c2FFKlFHXsw+GUMbZYLLHmUPC7q9t8u3IsPJtOHNuWii+Xy6brvSCM4xgTizje8+fPLctKdxtTezDGdrvde9Oyb7755vr62rShZyfHBtc+GAwIIQgRyyJBECFEDg8PCSEYU88Lrq6uMMYnJyeHh4fZrnYcZ29vz9znk8mkqpssyxzHaasmz/MgCIIoNlDs8XgcBTGEcLfbGeaXER7knD9+/Pjdu3fmMzBbJLPApg42/asGYLfZun7g+X7TMwSJlooLwTsGIQQKsq7P0ywI44711LbW211ZVUJIs7tNsmK9Xo9GEw10EMRlWe7v7wMAPhl8uFqtzLmRZUUQBI7nvru8Pj09q6u2LEvGBFAaIWRAb0IIM+fd7Xa31xOMMYQg8HzHtd6+fZtudzfvrpar+ziOT09PtdawHTRNM5/tPTo9K5JdniUI6Mfnp1rJrmsgDA3W2nGcJMvm8/kw9s2BWZZF0zKJUDwYUdtxXIsQwvpuujcfjUaGLte0raulZVlHRydMKtv167bJqkrq1CR4CDGCED74gGgIIIYKQAWR1kppbezQgNKKYCIk00yS0WjctcwP4vFkmmZVz9TZ2aO26Spc2dQybA+lBEG4bSrOunR37zhOVTUGR6AV6Pt+t0t3SaIU4EApDRQEEmilgNQ68kIjgWu4z62BxXRd27aM8bZjSgmIkNaaECKVOj09d20rTdMi2UDRQckGg8HBbG8yHgnetx2jlsukclx/dnA43ZuZzh1C6Hne9fX1z3/+86Ionj4+f/LkCaXUWJY+evRIct51nRJim6RRFA2HQ9s2nDfmOr7r+IIrzvq2bc2414wdmqbBGFdZzhgzGuKbzSYvSlOWEMsxUvRm2GwgjUopSmlVVU3TzOfzOA611mEYZllmTnlT1Zj5EgBgGA+SLO05H4xGnudhQpRSRltFStY0jeISQ6Q17Jq26zrLo5PJxLKs7XbrB2Fd10a7nQmltR4MBo7jCSGKLH/z5k2WZcSmH330Eedis9lMp1MhxGa1nk6nr169Ojo8QYhI2e/vH2qt727vB6Nh2z7c4bv15uc//3kQ+BDCjz/6YDg6lIyPRoM//uM/Zry7ubq+u7vNsqwXzPdcgkBZZEqJQRQL1rGun833+t41qwmE0HA8qZpmsVi8fPz7qWVhRLuuy4tcA0Qtx0M4z1PPDymlxLYAoALAlouy7cqmMXQLjHGapneLe4mA5djfocQUABh870IaAA200lBpCAAEACqNEMQAIgAJRMTzY8sWVtfZtptl1bt310dHJ0YDlRBLSuladiOka9GubXqt+74HABj3P8dxlNAGcUCpXTV11bQCatcLvCAglgMQ1J20qO3YLv3OCxbCHgAUhnGepwghxwnm89l0Op1Op/P53PdszrosLZZ3S9lVroXQOG7C7q5bYAiDKNrbm7eMp1lxd7uom94JoydPnhBCvvry86+//lopdXp6asbnXdeNx2OLkNvbWwih4ZKdnZ0SQquqWi7XlmVNxnsG02+Ov6bulBZCiKbpsiyTUlg4sF3PoMkN0YZQy4BDu743Aj6mQlVKRVFUFEXTNCb/pWnadZ0B7WRZZrK74zoGmGRqKiEEhsixLAxR3/eAC9fzCKZlXed5WaRZ3zOKCUFUKaWEGM5HXMndepXnxWw2o9Jer7Z5np+cnDDG0jS1rLbrOoSR77mUYEDwt99+e3R09PTp09Vy0/J2NBp1LZvNZrvdLuKS2M7ibimEgBDxnkvFs11i2aSu6zRNxsNhkm7v7++qPHv27MnZ+clgMPir//Af/sf/8U+NmvvQ6akLiiwFnEdhaFmkrfuu64qiGI+HcRxCCHtOonCAEJJa3t7etqy3LdcLwsDzLdeL49B2vLQoAMReGLg4gIhAagkAe6kg45wL3w3H40kUxbd3CyFkaEc95w+iNEgB+BDbWgOt4Psvs5HSAGoAESQIIggwqZouiiINcVnWQRBcvbv+7Ne/ef78ue/7lkUYA45jt11NMJINN59ZlmVd00IIKSZpkTdNhwnRWruOR10XEQtRSyMolOw7PvRijLECoOe87/u66eqm67rWeD4+e/H8+fPns9ksy5K3b99+8dWXfVd7ru3blm/jQTwaRd5sFEdRNIwjJblUgDHRd9y2nSAajMd7p08fp2m6WCzKqnn85FkU+mEYBp6T53kURevlMs/zs7MzrcR2uzVWH3me13XjeUEYxAiRui77nj979kwpsdvt0nTXtm3TVF3Xmrm7ULrrurqufd/f29tTGhi5ydFoZCiwSqnRaJRl2bt374qs9P0Hs5of/vCHCIG7uztTwRvakWVZhj1uNqxN05idhpSSdR21Xc7YrkxXq42SQGsNNZBSSq6klECp65tbQ7C0Hefq+poxoaWK4/jy8rKqGgPUCQLPshzTxK83m9l0qpT6+uuv26YnxMrSKsvyyWQvywrL8oZOmLcFwIgScvn2yo+87XarlPR9P/DdIPTqhr569erk8OD5i8cQQqi17dDp3ng4ipumKbb3dY4458f781EcUQyhBrZjlVk+jEIDKyqKoum7jvUIIeXaSAMhhBDM9UPbIpL1JecQQIg0hBBgDAmxe88NQq604lWWZWVTI0rm83mSpsvdpm1bRIhJ8/pBWNggJeF7Kre5jJz8g3yN0Z1MkjTL8ul0yoT0PNsLg7u7O9/35/O50dkTAnVdAwBgrHvfZfKeGWVWpVTTND1jjudKDYgGLRdtXUuIiG05jocgUVJzxoQQPWv7nkEILcs5PDyUUgKN1uv1ZrPJssRwiGyLurY3HIwP5+Nx6MeBHdqUIG3bblOp1Wq5XG0Axien57PZ/nRvfrO4N52AebauY4Vh6DlWVVX39/eh72OMX7/6xrbt4XC43W6p5SwWC8uyj45OMMbv3r2j1H765NlkPK3qcr1e13WtgTQisoPBoC64hg/LDkMGsCz77Oys7/u267TWBwcHtutdXFysVivHcZTSdV3v7+8TQl6/fk0IMqIdtk3NItb0M4YZhBBybKfnrKoqTC2zai2K4vLddd/zKBwMBgOb2l3XVUXdty3nPAiHV1dXnPMnT57c368MV4FL0XStwfQbEXMDVSrL/KOPPlJK+X7gut6337yGEE8nE0Ls9Wo7HIx22/TNxTvfDx3H2SY3d3d3p48OMcac930HGWNv315EUdDV1S7ZlGXBus6ZTZ49e1bXZV1W7969q2gNACizXCnFRS+lrJtqfS9Ho0Ge5x3vxuOx4zhcSaN2QSl1XVcowHsmZcEYd0Nhu6HreZRSgCAAGkBMPScajajrpjm7vr7dJokXBQADE9Nt3QVR9BDuEJq5/MNvNQQKagm0Ag9ZXwNo5GsA1BIQpdTNzc14PA7DsKqq2Wy2IyRJEtd1jT864z3rO8PQQwhtdxsttJSy6zrJlVmM73bpaDxBCAINsNJaKggApZbjeve3a21kFiTXWhtxZIDgarvDGGKL1m1ruM/UsceeCwVACDImmrp3EPIdaoUOQarvOWOCMSGl8r1wMJi4js+5JISYLOta1AhE9l3z7t27+7u7s5MTIcS7yzfX19d938/n85fPn96t1lEUWZadZZmSCADkub7W+rPPPmOMbXebvm/jgW9ZxOzVGdOO50spjcfvaDQaDAae5xlctOlNO8bv7u601i9fvqTYMv6Hbdv+6Ec/yvP04uIiDMPpdGz470o/8JsMvhIAUNc1FVY0sKWURZJUTa2UOj4+psRGCLGetU3T973Bn662O0St2XTPDcL1bou224ODg6OjI9d1Wdebkaih2wdBYEhYr19fHBwcONRRCpyenj86f/xnf/4Xtm3f3d23XR+Gcd/xpu5sag/CwcXFq6Ojo66tleSO4/i+++Mf/aB6+vjP/uzf3ly/m+1NpJxx3tdVUZSF7dBwf9933HSX1FWhuAj9IAiCbJcEgde2rQRyfrDvKI/VhWVZcRxfXr45OjqKogEnRJmFqdK2TQHUD7MNxi1IECaOFxDL6dytlHKz2ajdhlhW3TYYY496pqSBCGitAIDvc/x3AjUPWHkDmlcKCKEwhgBoMtmbAgRNUW64cFpr1rWWTQ0CnvdGbqnRWpZlWZZlXdRmYY4AZky0bWtaOjcI/Tjyo5grnVVlmuX3yyWr2PfAm2YAJwEAXddx3hNCLItgjEejkR+4EMLHJ4+KPAVCQM2yrCBAWgBgKKPAX683tzd3PRdeMNBaKwUgQE+fPr28vDTAnqYsvvrqKwS153mMsb/+678mhEjBIIRnZ2fHh/tJktzf389nB5TSpml8L57N9pq6/cUvfiWE8H3Xdd0oCjzf6vu2qsqmVaxBSZavVqs0Tc/OzubzOUT4q6++sm379PTUaM9bjvvixQsDqW/6xnXdw8NDgyMAABwcHBjTDs55FEVAqfdjfgCAoVxpreuibAXruQQIBkEwGAyKvFqv13VZKymRRua8doehsZJdrVY//elPXdfFAJoK3g+D8Xho0P9GYlsI8c033/7whz/cbHZffPHZRy8/+p3f/b3Xry52myTLy8Vi+dGHH//BH/6v7u7usqzY25vd3Ny8sM/iOL549bqqirouCQW//OUvq6ocDKPlcnl9/e74eH9vOj4/P//222+6rs12CfddpYTxExiPhqHvLZdLIZgRaTMTjk2yEUpalhUQiBChlCJCMCVMqKIoyrYbTKZCQ0gtSB0JkcZYKC01MBbZvu/nddm2DzR5TAmX8vv4me8aWaD/UxcAwOhtaa3JdDp99uzZ3d2d6aUghEpJQ4Awm7Ne8DAMGOvMLGI23XudvU7TFGNMscWYcF13ujeXSndcdEI2TaMgghDZtq2UggxjjAlFpqLivO/71qzrN5s6z/PxeHh4eLi/vz8YRoyxX//NZ1myw0C6FNlIaT72KCZI1WVx9e7dLkkme7PpdBZHQ9f1giDYbDbG6WC5XGrBoyiq6+qXv/xlUxUYQjOWOTg48ByraZrVavXy5UvOZNt2QsiyLI2R7W6XPnnyZDIZWzbt+7btyiTZtW3jerYQKIji6XT6W2pv10VRdH5+nmSF1vrZs2eD0dhYzUAIEcBSSqN9YCz1kiQZjUZCsK7r4jg2ySUIAjOQRRhqrbMsS7Oces5osgcxWq42q9Uq2WVpkmgFPNcFABhe3KPxh1EUlWV5c3PzySefIIR26816vcYYR1Hkuq7neUmSGJ4XQohx9c033zRN9/jx4yiK/t2/+3d/+6vf3N3dQ0R+/Onv7O8fJknCmCCEGh2eMl3XZbVcLsy2ZG82WSzupJRRHJRlbtYLtm0Hgd+27Xa7DS3SdR3UwHVdo0gHALBtCqFu23aTbAzTxfhk3d3d/d4PP8YY53muABhPJ57ndIxVVYUs29OAOC51GaSWEpoJzoVSQlBKPc/rBOsYAwAwxkTXOp4H/t71W1jZd4FuHphK5KGOb5qm73vbto0SL2P9ZDTq2y7Z7hyLaq2hVMvbu6rI+763ANjkdSch9uO2Z7uydTzf9cP7uhkOhwpzzHskhQaCaG5R7inJhx5CCECogGZSQEww9YRW6/U6jKIgCNK0/MmPj4HUb79+95vf/Ob1xcXR4f58MgQaUosSYgklMUar9QpgePb00YsPPjg+PceW3Yi2KxjlrFgud7vd3t5ekqQXv/n8m2++4ZzP5/OXL1+GYdj3PVKUdbCppGPFoR8VsmBd37a96wLb8WzHQlj3vJVaKoA22dZIkPqDCCHEpRrsjRzHSZKsLvMhxkEc+aORQDRve+R40PLutwkAyI1Gu91uL3YWi2vLsg4OZm3f3a8WSikB5SZLgiB4t7g9PDwkrkdcD5p2tKywAoJxjHFAnTbLmFTTOFYQSdGdPTrdbrfbJBNKZnn28oOXk8j58svPR8PJs/PHi6v7oqwQtDx/NhwObce5T0rOe8d3nMhbrJeEkFdfffFHf/RfYYz/5b/8bxFCm/UuCuLf//QHYTC4v1+9/fyzKBzs7e1RpZeXN8VqM5l7oO9fnp5ttslitby/Wh4cHWoEsyxxPMsPI0RoUZZFkREKnjw6cUXVt93r169t220YR5Zbt3yTt3Eczmdx1be2bW83q/X6fro39ii8v78/PNwPguDt5YXrgNFoxMp17Af56prKuSAknu0TRVquAjdeJptfvv52uVzerO7zIjVLA0ptrISFMADfwYS1VlCax9SyoQKaSymUUgpKbeAGoR9AqCHUxBCxjTi3EEJybkbjSqmu65qm6du2LMu2boy7ZdOwoqh2SdIxLoXSEAkFqqoyENnAcyyCAYAY4yCI4hha9riu6yzPm66VSpqf0gvedd3eeDIej7M0vb295T0riyLLsp/85CcWxUD0DgWPzo8/fHaOtLi9vsQYnZyc7O3P4zgyjoKIWkLqzf3C9BivX79+9epVmqZCiNls9uTJE0MYn81mxj4AQvj06VPDwiaE2DYwh53v+6enp0+fPXv79m2a7bzQGw6H2+06zRLHcZ4+/ggBmCRJWdbD4XAymfSC393dWdQZjUZFUazX6zCOtAZZlhmelFEj3Gw2EKMgCEzRYlB4683G4AuyLBsOh3XZRH6QFQwhRG0LYwwBYpKVZSk0ODg4UkB3LQMA7M8Pjg6POed9z0ejkR9GGOObm5u66cMgfv7Bh1yItm0PDg5Go8Hl9eX9YhWE/tdff/kv/sV/CQBYr9eEEMf29ved+d4MY8p5X5Y5hHA2n7qOd3193bbt8fEhtjmhlElhthzG6gdjODvY10Cac2A4CCmlfdOu8/xs7Nu2bUa0EMKyLG1qua5rrKaMb+lgMNhuV8aGhCK8Wq0459PxpGvardrO5/O2Z656UFkq84La2gkGZiDx4sUL43rS9Y1REjD9/d9P8N/P9Cadv9+5gu8Rox7kQm3bVkL2fce/i/g8zy2CTSliWoq6rjnnLSCmAH3PeYWYYoyNBAohhFKitFRCmxbaiAmXVSWUNLoUVVXlVWnbdlEUQoi+6+7u7vq2Oz05+eM//mMu2bu3b7qenzx+/MknHw98a7W44qKnlB4czvePDqUCZsohBNvuUq60G4QjiIqimMzm8WiMMY7jmEk13ptFUcQY22VbYjuu6+6yXAMGgOlciFKa94xYdhAEfddNJhPboZvNarVdScn3ZtPDw0PLspIkwZScn58rpd6+fasRHI0mZmFpZosYom2aNk2zv78vm9wUP+v12vW9IAgM3daIIhmkZ1mWq9Xq008/JYQ4nkfbNgg8TK2ubxkXXGkuBLGdPM93SUapNY9jhKllWX2fF1UTxkOMCQSYWvaj+WEQDT766KO3l++iKEyy9Pb2i9v72yTZ/hf/xX/+/Pnzr372azMqDYPYUD37nmfZpmnaJ0+eIIC//fbbtu2Pj48PDvZXq9XA9RzHkV1rgOx10202G9e1f/jjTwXrgiBwLNuxbMdxjLjS3V3m2o4JD0pplhXzvZnjOKvVKvCc4XBo0BnD4dCIcB3O9+u6rsry7OzEcRwmuOu6AOGyZQZp0vc9QE5s2x2TruseHx+3bXt7e4sQMsAkIx9mqpTfXt/V9Fr/x+yQ/5gECCEknDPPcRzLUkQx1vdtq5SCEGCMIcQGqIAxVkD3nHVNm7EHmUUuVdf2dV1DTD3PM0PQqqoYwdQiUKueMca6wfAYQggg7DnrOOv73kSA53mSccYY0DpJkrqsHNseDodpvvV85/RoNp9N7hY3X27uoewGcYAAdV3bsoiQWiPUs3azS9++u2zSajgcUkoZ534QPJiiKBUPBpzzqq7rul6t1xBCPwgs2852qdYaEeq6PoSYc95zYbILRCjP8+VyCaF+9OjRfH8GANhtdkZjJ03Tsix9LzCKyq7r3t+vbNcZxHGWZVCD8Xjctm30HbHDtEpSyqIoUEtGo5GU0og9GaZvVVWO55ZV3nQ1pbbWMskyofRwOPaD6HaxrJpWSHVwcAQx3m4TTInnBp5HPc/ret62bH9//+jkUdv298tl27au//AkXdc9OTmpqrosy9ev3iyXS4xxUVSs64UQQEEhhFGQ3m6SvMyn473BIGrbtmkLVHKEUNd3SinLsuq2YYx7nlOXuee5vu9rrZMk2a7XdV0jqHfbHev6MAzbtjeYOSllGIac96bLHI1G49FAa7FcLWzbtiwCNL65uYJQf/zxRxrIsiwdz2+qAmD3+wq1BvJgIttQ9t7Hscmw/wtp/n1SR98D1ZiL8J5JTz4MSm27p9T8mDiOWddXVVWWZVNWBiUCEMyyAiHUM8F6rjWUXNV1bUStpOQYQNsivu+6jo0Rsm3Xtm2tNeO87buu60yqI7bVdd3e/kQIsVouq6ryPa8sy7/6q79ion765PEo8u7ubiys9oZh6A2VZJ5tWRaxLOJZds9lUVdJsq2qQgkAALIsp65bA5AOwxAh5Lr+ZnN9fX29WCz6vj8/P1cKVFVjPDYC20EIAQARQlpqpZRRe83LLAz9/f3ZYBCZLm00Gpk/YkxYzsPxna82UmhjJJamad/3BwdHZgAfTAZd1yqlPC+wLKfvudYQI3p4cFyWJUCw65jvh+fngZS673k8Ddquk1J2TFRVJZS2bNdRoKqqeDAeT/eKvNrtEkKIbXnD4cgPLKXAwA2ZK84ePcWY5nmZL+4ty7q4uGCMDeLR/fr+2dMXV9eXf/qnf9qv8jAMAUB5no/H4+Fw/GBJJEWSJBDplx88N2qyTLYHx7Plekkp7blQWpiqzwCzttvtwcG+Y9laibooiqIASvu+b7H4Knk3Go0YaymlYRg3Ve37/v7+/u31u7u7u8lkZNt2FEU3t1ej0QhB2PW97/tVVaZpenA4z4tCKiGl9Dy7qqrhRGmt27rxx1NVNqaB9n1/MBgY+RMAgEn2/3M5/n2aRwgh8NtYf4h4AABQSnKOLet9eWOCvmMP+digRIxpvUlgXdeZvb1UoGxqk7ccx/Jcz7YIxggAYIxC7+/vAQBciPflk2VZGsHv1IvAaDQaRrFNLSkEhLAXKk13ng2P5nunh3vzcSxZnaUbz3MQhgBqjKHqRdvWAOrxeMQqoDSs6jYvKowxlLrtWN/3Vd3ukixJc6nAbH4w3ZsXZX1zczMZ2Aa3KIXmnFPLCUMPY7xLE8uypuNJGAdGb4dS4vt+muV3d3dhGB4fH5dleXV1FUWR5wU9567rp2nKGN8/ODAxYdS3DTxuMBhACI2VpOU4ZnXieb7xA/V936AzLMcGWJdFxZW2XddGSGvd9vzRoyeEWpbtV2UXhfF4PLVt2/dDiXrGxGRvJoQkhCwW97skAwDe3d09f/nCtu2+7z777LNku/2zP//z29vbmTN48eLD4XCQ57khjLZta2A58/nMtm3OeZLsMMa2bRkB7q7rhNIGO2RAJYbjJvmDnl7f90pwiiHGVjgaLRf3JhCNsIop013X9n1/l9T39/e+54xGI8dxFovFycF+kiTHx4dt21y+exMPwvFoVDed67q2Q9u2bppKAUso6O/NbYe6yh0MBvP5vO3MTq0UQvS9MKik/7ki/n0dj/5uwCPiOZbWsm1rznutNcUIuK7BRRoNW3O1bVtVddu2kjhAIwCAUcrsmSibtu87hJBlOb7ve64NgFJSdC3ruo5zqbWWSplGW2ndNE3Td5zzQkjHcc7OzmxC18sV6/uDg4OTcG4RfDifHB/sSdF+/sVnFgLz2ZjxfrfblU1NKFUQcqUJQZ7nBa5nOHvYogapAjBiUlBkZ2Xh+N7v/cPfn0wmX3311e3tbRRHo4FnMGFpmgihZrN9I6N+MN8vqjLPU8E4iYLhKGas3+1233x9eXZ29uTJk12aX15e+n4wHAy22+1ksrfZbMqy3N8/8D3v5nZRVdXjx493y0ZrbfhcVVkyxp4+faohvL6+dhwH98QYJpu/oJS6vr0tiqKuW88L5gf7hFAuIcEWJnbXsSTJhsOR4wVaQ8dxlARKAYRw1/XJLvv2m9d9z3dJVpblP/kn//TDlx/8xV/8xS9+8Yuf/fxny+UyTdOf/vSnoaau7WRJ9urVq7quNdTmmP3xj3/89u1FmqZBFI7HY0KQKcMghFXTmP6t6xpDHodIb1br8XBYl0Xh0N12le52ZV5YljX0kEETBUHU933XsbZt0zSFcHC4P1Oa13UNAPA8bzweLxaL3W6nlNBKOrbdNpXBeCoNbduWXPiOJRjjpPOCGDAGETLZwYzLq6oyB69hOf0nc/zfCfr39cxv63hjS9a3DUe/ZdRrbRlqJmMsL0rTsyKMHde9Wuw8zxNSIo26jtVNUxSFaUr6vteCw9HIdW0pVZllRVH0HNV13bQtItgNfGo9mDI7jhO4HoSwaZpWad/3nz19+sMf/rBqt6vlYrlcVNk2DmyPItelWsuiqBjrqrbRAA3G49F0D2La9R2F1HQzBurYtu10Ot3f30/T9Pz83FCNDGEvDMP9/f39oWdZ1mazXa1WhFjT6Uwynhb5YDDgPdNaO45tUcq6Pi/zLMsePXoEALi/v99t06qqfD8wyUwptVtv/CgMw3C9XtdlFYVh33aO43me6Hsupc6zUmsdR8O6a7fbZDAYrLe7g4MDKTVjAgCwXm9Hs+FgNLad3rZd3w/qti/L0naC25u3p6ePCSGDeKQUWG8Td+43TdmI0nGc1XJze3ubpuknn/wQQrhaLpu6+lf/w5/8yZ/8iUXt6XCCFDw5OGZNf/7yRZ6Vr15/c3l5yTkfDgcagiRJ3r69sG3b9R0r2y2XizAMx5PhYDDIyqquWgNOFEIAoFzXdiy7LAuCoe+6BCPRs77tgNa2RQGQZmY1HA4ZY1XVmMNtMBiUZbnb7SyLSClfvXpVVdVwOEx3m+Pj4+1263nO3t6eloIxFgSelqLp2d782ESg67ptWVqWLbV8j3c3F8bYrDL/l3P894P+P+pc7+7uMMbD4dB1CQDKtj3O+c3NnamGHdv1fd91XUptc+/O51QpJQHgQm2326KsHdcZDkaMMce1HWoJwZbLVEnu2fbBwcFynRtiWxhHju/1jBn28d7eXrrdGTsxh1q+769Wq5/97GeWq6oyx1rE/nQ4HAY2kn2dZVmZZxhDJoVlu03TpG/eBNHg+csXkTevqmq1WrVtu1qtGGObzcYYEnqeVxSFEYoaDAbHx8ePHz8uVtcXFxdpmk3Hk/Pzx14QpknelBUhpOs6yYW2aV3XWZYIwff29rjAQRDkeW7b9k9/8rtd1y+XS8f28jRzXRdI9fUXX0bDgVGZXK/XUHHLssIwBACEYfjs2bO2bS/eXFxdXWVZ9tEnHxv1tZOTE8753nwmMbi8vDw9PX/86MmXX35NLcfzQwjIJ5/8kHH56PHR/vzwL/7i31NMLi8vLcuCRCVl4nlekWUU41/94udhGHZN8ef/9t9cXFzkefnixYuzk+N3lJrt2OL15Xg8PpjNodLYIoQQxhimaLVaQQwAAEmSCC3sxJ4f/n5RVXVd7832qrpdLg2gEprcb3g2rusWada17ds3r21CMABFnw+i2HXdq6urk5MT27YP5vtFUdze3vZtPRrHZZm/evXqgw+e96wFAMi2Lsp8OBxuNpvDw/3BYEAQvL66atvW8ULGu4BgQkie7vxw6Po+r2uDxNxsNqvVqqoqQojjWBhjw239PpIMAEDQw+jCnFcEInMLPShrQ0iGg4hSSghum6brDERWN00lhNist3me266DMW2apu07BTQhJAhCJsV6s6OUnp6eekGov/NLAkrWVdE0sO971nZlWWpgj8djTAjEqOMMABAEgeU6jBmHKZcSslrcb9ebF8+fP3/+vKi3gyj2bDyKPNtGdZ21ZS5F57tuFEUt65u2tW17fjgN46HnBuv1sizLzWbTdQ0hCAAiBMuyZDgccs4si/zgBx+bwWKWZavVfQDg6enp0dFx3/E0TZMk63rOGGNtl6bp3t5kMIhWm6XruqPRQVEUUTgghGCIWt4nSdL3TPSMQXJ/v4KIUEqjKLYw8cPYvLSrt6+Pj49d193tdoPhcDabrVarzWbz+PFjw45N0zQMw7Ish8Ph06dPf/6bzw4OT6q6W222p2ePsqy4v189ffJslxSffvo7q9X6X//rf825fPz48c3NjeM4o9mwqqpXr75ZLhaPHj365qsvX79+XVXV4eHhkyfPzo+P8rzMAHxydoYg7qpmfz6jlAKgpRRVVfWyD0JvPJlQSjFFo9Fol6VfffXVmzdvwjh6/PjxdDpNs6xpmk2yY4wBiIQQrusArR1qKcG7ruvbhrUdoGS2t9fo1ohCG8Cc0W0GAAyHQ+G7QvZmNMk59zzPsizIe4gA79q2qt9eXJw9ehSG4Wg0YhIojZWQQGnPtakdEEol50ZK32yU9/f3DblCCPZ3Mvr7B+q7y0T8ezEPSslDHb9c3E1n8yAIzElR5HlVt1LKNM0RxLbrlGUtRAMB1gpWTacBTdPUKLw5dgAx0lrbtus4jtZSCe65AULIdz0lmNa6YyAMQ8u2m66VjcaEOI5DbGu1Wk1n8/dmvE8ePf7H/+gfKaXSb1aMMS0UhVpzTAGK49iig+loWDdVXpUYk9ne/mQ2L+rm4uIisCMElO/afWvxvoUaUmrZto0RwBYJRoPDgzlBYLFcGh/34WiQJEmW5UIBSm2MKQTYGHJgAI2XvGDcsShCyOAXzFwMI9R1nRDSsiyLkIODA9t2OeeD4YgxJjnfbDZKKQRx3zHf9ymxDg4Oy7J69eo156LvC9t2NABagTgaCCEm42lZVEpj1xsU5artxGDgFeXy5vYOEzsM4pubm9evL66vrx8/egqAuru7GQwGRZ28evXqYD7/3X/wO2EYXr55FYde35SsaUTXxMOxMxmPx9PpZKY1kFKyprq+vi7LEgIlFW/KqqqqbbKxbftwcnR0epJXZZpndavu7u5t2z07O0vSrev4Jh7atrEs2rWt77u2Q4FSfddIKaEGbVVrwRFCWirLsow4hZlO9n3vOJbjOOtNGschISTLMgAVxhgo6XtBD8FgGBVFke42tkPjwSjw3F7A92rjJtDNbNHcRZxz27YNQFIIprX+j3P8wwMh5fdzPFRaa40Qcm3H3Dnk4uICIUQQxIhgDLuuy9OMWBRj6niu6weU2mleNk3TCw4AMhBCYjmD0Zhgq6zrvKwIMW2+JghRjAlFlmVBiqWUxKJGgtmIvfiuCyGs29bs5PI8T5NkGMXn5+eEkN/85jfbza6pKwtpMpuM49neMAxc7NhEsv729rbv2MsPP/rokx8qiOT9knFhAcz6tmvrvmuAlrZFXNcxlCuzIsUYLxaL1XLhed7+fG9/PF4sFqb1HA6Hfc/7jtuW3ch2MpkoIbKsdV2367r7xSKKorKsjHqe0YnX+gGwipA2QKMyL5jgTdMZDc3jwwNThvq+7/v+u3fvvv766739uSFEn5yemhHW/v5+FEWff/lFOJz3nZiMZ2EwfPXqzfX1te/FRV4dHhx/8cUXAICDg4PF/e31zbvF/TWhYEgGBMDz09Mff/rDLMsO57NRHHV9U2ZlluxE0z169Hh/MmGsz5N8Mpns8t3bi282yc6skxBC1LHLpBJC1E1TNu1XX329Xm0JBrs0txbLKIosyzJkRcaKpmmMSfUwCgPP11rXZYUAGI2Hd9dXm9U6iG3PdSGEvu8bSrtFaFEUSgnHIuajZ4wRAtuuNnwDg5PzfGezWeV5rhFkXA6GU0KxbVtmwKV043oYuj7gXAjRNE2WZWZEbrDWCKH/KOLBbxFj7/HxAACIsPmz9/0r4X1nRIAty9IK1HXdtq0NdBA419fXCJG9/Xmk4e3tYrvdur5HCBkOx5hSJqQQIggC0HRJkpibklgIY2xZlGIEtVZK1K3s+75umrptiG1RyxJCmEbn9vbWbGrN8OTi4iJN0ywrKEGj0eTk5Oxwf+JgLbqy6KrN6n612vhR6LlBnpebJKmazvW9+Wh0c8OUElEUPHp0ZiizVVVVVYXxg1sbIWh/f+Y4DgDq1atXXdft7e3t7c2BRmmTawWHwyG1LTN6s22KKJKSY4LiOFaiIYRQ25JSI4SA0gpqrbXnWgrC9x+hUSWJogf1Ja21UUczegSWZT169Mi4uxndnjAMTe8xPhmWZT0YTRhjd/cbJsDx6THSACFyfX0NH6hbLAiCs7NTjHGepYcH+65j8b472Bs/f/pou9nEcXx7db20V13Tb5cLC2KC6M3N3d31zavLz9fr9Xg0nR3sK6WCMLJc5+5+WVVVWTXv3r0TUo/H015wrXUUDQAA8/m86TqtNcYwCIJBHNd1OZvNwjDkbb3ZbBwC98aTzWKRZ9lgfEgIMWsK4ySOAHQcp2kqBNRkMsmypOu6w8N53ZQGrUgIchxH8J5iUhSF67paKq21YLxHHfdaarkQWUIIynujLDQYDLa7dZ7nTdNorRECfzfHfxfx6nvO9PC9aNn32lnS9/16ea+EHI5HFrUxxhDptm19P+y6riiqsm4ppZgSL/AJIUKUWZYJpZqu7zvOpeRSG4MA27aVawOlhGQYAgwhAKrrlJEp5pz3gveMmedh0AeUUoyQQZzfXF9XVZXn5TCObNtFiBR5tWty3pUISs/25vODaDggxMqzgjNp2zZG9OrdZZIkgjPXdT3X8VxHCCEFF5w1dVVXpanqHMeRgi/v02qTeJ7nB2HbtlXZSC6DaOA4jofQq4vXxuQxLdIoiqZ7E9PuaK2bqu65AACYoZDten3HhRAt68uiAgAk2x0iOAzDOI5vb2/NUtm874PBwLAijIUTQujZs2eMsTdv3jx78VxRj1CZZvnN1XXgh+PRZLPeJumuLMu2bdu2Ho0GT58+Lssyz+l4NCqTIk13t9fvHAJH4+Hhwfzx6VHXtpqx6WjYtfzu+k4x5g+D2PcAQKfHR2HoHx0dffjhx4PRKIwHeVl9/uUXeV4yLlebHYDrputtpTjnUkETYVXTGH1w3/ebpivL/OnTp77vLnabPElbCodh6Lku572h0luWhRAKw5BzjgAcDAa73aathefbXdftdrvpdGTu9vkghAAALQ0ism3bh4YSw6rp6i4jtu9HY1PAtG3rjwbD4fDw8LDtaoOsllJijIxm/PeK+O+S+ndA+fcj+ff1PTAbyiiKmqZJkq3l2MrRACiEUF4UluVMJhPbdlebnVIgiELbttMkn05nTdNwqR3PL/Jqvd1qiIfDoVIqCIJBFNiUaiCB0hRDQkjd7gzfB2PMOev6nlLq+F6e58Z0wKIUALBer+/u7pbLJUSortvF3T1vK5dCCnjgWlHg5l1OCKHEbtuWS0Ud13K8uumqPKMIjuIIY8zaptTKtu3I9xRnrG2A1gShpu8azoIg8Gzr5IMP+r7Pi7KqagjxaDSyHM+omr0HlHq2gy0MIUySJM8rwxxQCgzHI4yIGVGzXti23Qtu8vpoNFJAGyi8OcdNmyWEGAwGRlnE8zypVBAEjx8/bts2juOTk5O3K6EkaFv27au3p2fHcTx89eqVgZE8efIkioLZbHZ7d/0v/9v/RjD+z//5f/b86fOf/Wy722wF75qy+PTTH/7D3/+9tm6AklpoQpzpcAQBHQTDcTQaDEazR6Nf/epXbdcdHMznhweE2pDg2WzW93z/YNL2fL3dtm2rNWSCL+6WL54eMcYIIWaC/vjx47/6q786OTk5PjmEWnPOKaV9XzPb1lobARIEoFF6syyL8w5D5Ps+xrisiu12yznPsm69XjuuDQBwHYdz3nVdFAVScg2UGRqaYShX4L1BH8ZYQwy+c50x3dTfSdjvIcHvox9+T2b1+zNN8x0pJfnkk0/MbiJJEowKrXXfs6Zp7u+/3D84DOJBEATr9Xab7Jq6q6pqPN6L4zigdpoVBuZusJPT6TQMwzAM0APLoZEImMRv4gkhRAjhQpiiqus64np93z86P5/NZnc3twCAFy9eLFervmuSJFGsG0ZO7FnABRBCSq3ZbO/8yWOI8fXtoq5bqbEQwnZo27ZmY2CUAowXdtM0u2QTBMFkMsEEdl2HCfQ8X3CxWq22m53terO9/SiKAUA955vNxuyxjXSeBPLm5ibLMqDeszfMWSyN1Q/Blm3boK5MLieEGKuIoqim05mUEmN6fXtj2/ZkspdnJQCADmxjuialXq+3o9EkTXPGbCn1aDSpqurLL752LHs8noZhGMXh/v7Mtm0h2evXr7/64nPP8372s5+ly1QqbhEqGSeEJLvdm9cXh0f7s+kUI+ranmZSKzwcji1ih2EYx+He3hQg+OzZE8cP3l5evXnzZrFYTCYTy3YhhAcHBx0Td3f3EGBTmBk8jNm7G9fRH/3oR8aKHkI4HMXZhj1IsAR+WZbDeEAIWa+3o9HIgF6MQB/rmrZtoyjo2rppmqPjg67rwtCpqmq7zYbD2CxJup4ZZUmzVzG9L+ecWi51PKCUGYsbS466rhFCGNvfj/LvRz/6Tq/m7wzjfzudvN/tiOcfzeZSq9VyQym1XI+pJCnytK4CPwqCgFhYNrKXLbJAVnedBObUHk8nRo5ru906jmNbuGlqI7xm27aQOtllRVNrrau6ghBGYejYtpTSw/TJ8WlRFHvnj4/nBwjA+XyeZVmeZU2bGQ/eUraB5fkHM2ShZZV/+PKFxjDtW9e2bd/WjQKyRVJ0db24vlYaHp+dj8Z7ddsnaVmU+dOnT6PhWd/3bd9D7Pi+LvPi6vLa9uz7+6XBWg2GQ6M3ljcFcGHWZpPZ3vBg1itVFE3R8vtdTiG639zbtj2dTjvRI4zCUaiU6nhzf3fnuq4T+ExIJ0LxdK+Xxc3N3eOzc4fi33zx1+PB8Gi2d3d351l2GA/rpusQ3D89X+YNGc7Kps12LezkN9985XqOFl1ZZj//6z+bTif/8A9+GkWR6wRV2W236f/j//6vAv/0+bMPL15dvr76menhRoPB8+fPnnN7279zv1386Ec/ODuZd1qPnj1xPbup6uGAHhwclBAeEtyWWTiN23x7//ZvF1/+4mhv73AUVe36f/ePXtysNyy/AgzfLpNHj583rLctKx6Eu2TT1vmvfvGzk4PZ/+Z//Y8whsluw1g5nETXN68h1DQio5MpqDsAwGQw8B0a+kGa7vI8bfJWKTka0KaqbST2DvZsh/K2IRr0VRM6DnM8VnX741mSJAN3AHsQjQaOTQSyIHaYwjYiAlGttIW0VJxQNJlMzM6173sAkIE/vA9oAB64yEzUJrVj/LCuMoeDwloBKbUiCOEkSYqqNAjEvu+D2P3www+11nlZtm2rlLIsh1LqOr4QgksEACCE+L4/m82Gw6E50w0XyaTz92WTGTYZGv93OzwQx/F4PDZKMq7r2radJIm5Lx8Q0mUJgZzv700mE9/3ERCO47x9+3YYh/uzvYP9fYRQImRZlsvFvU9UFEV109VVS+wqzaqsKKNw8PrtW8uyKMJKKYIRQbjnXAHAOR8Oh2ZDlGWZOW2M46kBKRj4YZ7nAML9/f2mKM3xHQRRXdd5njuOM5vNimprzOmFEEmSAgCMPAmQCkJIMHZddzKZpGk6GAyEenjtpsOTAOd1w5nkSmbL5Pr6+tnzp0KIv/3bvz1/dPyTn/yDFy9eAI2KogzD8L/+r/9vQogojC8vL4uiUBazLMtxbdGzzz///Pb2+tGjR0eH+xjDPM/jMIjjcDweY0ST3SZN00JqzgTr+PX19erqjRFLO390+vbijWV78XD6k5/8pBXwmzdXe+vdeDRRQkukl/frZJeNh3GSJH/8v/2vCCHr9VLw/vLy7Ww29Txvtbo/2J/ZlCIXVlVlgsy8UUKyHgEhuFQIQzQcDvB31tae406nI0oxJqRnjDFWNw2xHUiwRlALbSCTjuM4jgMxEkr2eWXiJwgCA2Ltus5UUN9P7e9L9u8/+PvfBACQ+Xy+Xq+TLHUdP47joqjyPC/yam9vpiFMeMaYYLIx63pKqeX4hrQ2HA6Nj4AQwgi4mZPO8B1N0BNCWs76vjeFQVPXGGPP8zzPWy6XDzhKQna7nWEPGMC9VjKKw/29me/7dV1DzS2KLEKHw+Hl5eX1u3d7k2nTNNfvriCEEmEu1PHZeTwYvbm8vr65qxv2Zfnq/Pw88CNlWUqwWggEgZRSCAWgghASQjQAXduacF9vNwAAowVrGhIAQM+YbduL67uDgwPH83ZpihAyiPmyrA2owdj6VWVtbmwp5XQ6dl37frEwrjg9Z8PxCEKcZAV17Hg4MO+kEKrruvv1an2bC62YZFXT3G3qXlxgi+7ND7TW4WDw2a+//MWvfu17sev7y+UaWwRRaTsWpZRT3NVNlmVff/Pl9dWl41gIoTKKrq7EZ599nmWZYHy+v3e1Tjlr8vXKwZo3qYN17Fld10ynY6nBan2fVc3f/M0vOw5GowkEFEAkpby4uJiOx1LqP/j9nzx9+pSx7vbmCiEgJbcpns2m292yLIuqKg+GkyRJhqO467q2bnzffV9a+L6PfGgAagY43bYtE5xYOIwjwXjTNELJqm1wWULLQ5Zru47juohAKSXUEmGiFMQYc86TJDF0H4Ml/juIsb+Dpfn7128jPoyjk7NTdQnLsoQQawTLol6v114QmObMcTxMbTNjDoIAIL/ruu12m2VZVVVxHBv0KcbYjCbMoLNtW4Ov1N+piiKETAtr/rkxezC4GoMiNtJlQjoQaAAA573k3LGQ7XiBayGgQt87O3lRlsWXn3+RpamxyjiYTcbjcdP2aV5E8VDf3m/TdDKddT23bAmQbOu2bVuCgGPZhFo//MFH7969q+qWC9U0TVmWQknH8Rhj4+nMyH0xxnZJxhibzWYnZ2dt28q6Nui/rmN1/aAvaejtvu97vsuZQBp4nj8ajYDWt7e3p6enpj01KCuMseN5vheWRd0JUaR5Wlbv3ly2NTg5Pdpst03XxyERSkbxID48qNdbTOx/9f/9U2JRYtG277zAhwAjm3DOzYJ5MIyMespyvfrv/rv/3jBZ83S33W6LohgMBs+ePfvkx3+wPz2e+NH2/mqxXoc2DN09oPnR8Rwia70r/vaLV5/98tf7p0/9cC/ZZeP5uOv6yI/iaDidjP7wD/+QIlxUpZQ82aXUwm/fXlCC4jAsyiyOY6PkYz7ZMs8onUIIXdep6yoIAiV40zRKC+PbniUpk8wGthv4fdMWba0gElJ3jCVZOtpzgii0PJsxxmTmARjGA6CJmfOuVqv1em0A9NAQR/5Tl4GMob9nDfLbiG/qbhCPptP2zZvLXXYV+BEhJIriLC8JIXE8HE0nvhdqrSHElNLbxc7osi+XS8aYMTkyrF4AAOfc2FubVpIQohA0W2hD9e/7fr1er4RM0/T4+Ljve9Nxmr1aFIZC1mma7Db3vK99zz54eh6FnlYsDv3T05PV8n5xe3d4cBBH0fp+GUQhwvTy3bUXhMY/sGq68WQvyYqTaICIBRDREAGEbdcZj0a+7//mi8/btp3NZsfHx4yx1WZdFEXbtr/705+acRhCKBrEHevv7+8Xi8X56aNHj55orZfLpRDKAMtub2+zIgcAGNBR3/dSCddzJpNJ33VFnlsWDT2Pcw6A3mw2bc+H44nZizFW3dzdv728UgALIU7OH3me9x9+9u/X65UEWgk93psCAP1B/Jd//pf//Z/8fxCkZVN3bTYcTJWSVDOpWNd3vJQQQosQo1vdVPVisUjTFCHiuZFFPa318n6r/uYzglSerrEs44h88KNP9mcxRppQSC1yeHTws19+7jjOeDyzqDuIXdeyRc/29w+LPP3n/+yf8r63qVtXxfJ+AZEEUmR5Eke+69lAea5FlRCe/+COWBW5wbK7lgUhdF23yDrOOSaQUooQ0FoSi0qtEMStYE3bY9vygsCP4rpnEkKAEUCQCyl1T3jHWNd3rWFpmo2eiSVzaMD38kzfuyAyRrlmXYvNtAZ+5+oKACQG2goAcnyvY4IxBgBkgiOEhFBNx4Je2JZqmmaXJnVddx0AAJipiJkZmZrEtm0DgjXzbwCAqcaSIjdac2b8Z1KCFvKh5mlbKaVZXphKdxjFFEMpJ3vT4cF8bziIfM+G2gp9b3F707V1WeVvLl4dzvdfvHgGAFqv14PRuKybXZLFw3FRd/frTRDFluNiSpTWPZcdExD2Zd0KpcbjKULIcZzVanO3WHRd57ouwdZ2m0RR5Lp+07VXVzdJknied3x8PJ3s3d3dFUURRZHnB7skBVBHg/ju7s7ou7GuhxoM40Hg+azrOedlWY4Hw6IobNu+vb0ltk1tywsCiB52z28v3nz5zevpbH5ycvb4xbO//Mu/+M1XX1gWySo5mdjzwyMAEbCd//f/8K92WUmp5TqB1LoTTGsNlZBaAqAh0kpJJh/GzI7rcy4B6F2HUN+1bdDUbZ5VWmwD3xG9aLq6r9uyOn10PhtEHrWJUFIolqbpwcGRb/tI20fzucSt1vrN69cHh/PZZNr3HQT8+uZyt9s8f3p+d3s92xs7lCxXC4xxmu1CKzQ8VMexCCFScQJspdTh0cNw1vMdhFBdl0IwUwoyxuLhEBHL8T3b8WzXxdQKXZ9YlHGOhCDUwdhSStRNjiExqK0oisx60SxcTbT8NtC/i/6/n93/bo63bXe9S5gUvhdyJpXSddts1jsAUMeZVbdS6qwom7o1I4LzRy+qqjJMUwMSyvO87/vFYhEEgdlBGN7Kg3oEY+9XzVopo0Ua+QEA4D01ztzEEMKiKATPoVbxIAx9L03TZLcMA29vMgDzqeLs7u4u2e4O5/sHBwdd21ZVRW33frVum36xXL2+fKcAnkxnxLLrppVKa62ruqnKotQgSRIAQOxZQRDM53NjVuq67mAwwBYNgqCsq7bvPM87Ojo6PT/3fd9xnOlobzAYJcmWMWbIHGma3t7chWFkZFlt2zb/j7nnFRcY6rar2w4EOkjy7KOPP/G8wPd9gGlelXd3i7dv32mpQi+cDEdFXf3myy/yshqN42hgDUaTt1fXk9n85ubmL/79/+T4rhS6Zb1je0KLrmMQ9UoBgKDt2hhipVTfcd40ruMrYmFEORdVVVuW4/hBGOLYn3VtWZctQWA4Hh8fH8/ne1r21KGhG97dpVlRPX78tGG2UqhpmMJNkZWu6/2zf/JP/cB1Hfrtt1/e3VzvTQZ+4CrNI99r2qrMCwD0eDxWXDmOs9tt9vb2PN/BGCsly7L1A1cpYVmW69lSyratDQcoKwpCSBgPLccOwGA4HEmImFBRMKCuS2wLEYwJAgRjjKDWEEFDz3ifMU3twBj7+2n+75fv/4mqpmNCCo0RlbLO88JybN8Lo2igIXaFAABxKerNzhipQggvLy8Nce69QMpms9lutwYAPJlMuq5LksQs2JumkUo+yLz0vVbKpPbxeGwSv9baKPuZYFotlyeHgyRJurriPMJQ9V0dOHQYR8u7BWcdAtqm+Ob6neB9HMeb5UpZruv6XAouZRhEEkDP8/ZmB8vlEmNKKYYa2LatldRC9n3/4uUHbdv6QRjHsW07aZoKrS1MlstVkqau6xqXGMuyhJC7XdI2gvHOtu3ZZMq7/ubmZrfbAACkEF3X2bbl+35TVtvV2gyzd9XS87zFYnF6eqoh9DwvisOeK2pbrhduk8X19fV6vX767OXB/r7W8H5xl+c5IbgoCtumr1/f/Z//T/+XP/qjP9rtdm/fXgqhwmC4uN+AEEGI0zRVQhgRXM45Z0IrRbBlOV4cxwgR23YsYkMICbYsakEIk21CkHYtl1oQACW4wsSyfYtQOp7s/fwX3/z6N5/97k/nbS/j4aBr++Xm3d3d3f/h//i//8M//EPBm8X99e3NteR9I+TN9eUgDOb7e3lqFeP8888+Oz48ghYKgmC5rC3LikKzled516xWK9e1HdeilColbNt2XRdBYDjAHeu5EEoB23WJ4wulNSZeEHpBgKjNpdaCI4odx0mz2rDwTMAYLp5lWe/D/X3n+l30I7N6AgBBiAFA8DsRxYeqxkwnGONcSsf1q6rabXMmRV2VACClDfwSaA2pbWmtzc82wndGcNSYJ47HY7N6UEoZfQWzTWhYb04lAABnzHEczvm7d+/CMNzb22vbdj6fHx8f13WttT46OvJtOXnyaDQa7E1HvmdpyQRviyyNoyDddVmy01rv788i35Os9zxvdHDsON5mm9wulpxzL4yUUldXV6enp4RYfd+2usEYB1FoEyqljOOh6SOVApbj2S5r25bxsq7b+fygFzzJiyzLDg4OKLWHw3HbMyVk31XL+/VisUi2a8uyptPpZrOBEColx4Ph8+fP0zTdbFecdQTDNN1hCIbDuO35yw8Pm647O3+CqfXzX/7q5nb5q1/96tGjJ6fHJ4cHx47j/cn/87+xXevJs6cXF6/ajkEMvvjq7auL/6tt2UJIzmW93kAImq5lQjqezSUTimMuIYQQIIiIlFKINgHIdzxKLYiQOT8BAJ7nZWnjhh6CWmvVNnnT98SyNNQaEKH05c3NeLKXpFk0PBoOh7/70z9Yrb5FCPz0d39vEIe/+uWXVZ05FmIuKYuS99X52cnlm7cYIptaH374kRByMhxKKff29u7v7+IoghBorZPtRinx4sULjeHd3Y3ruqPRsCiKzXr99Om5kWQbB5FQum47G5HBcKohIpTaruN6Qdf1WVFpJWyKjVNilmV3d3emWzV4MrPTfK89YxCXEBoPHGS4TSbQTR2BviOGk75nRVXmed53HABAqV23vGtZnpcIE0IIpTaxMATYHB9x5DL2sHKDEJrJjKFTmMrEOFMbIA34Tp3UjNsxxqZ7A5binF9dXSkhDU4oTdOiKBCEz373w8lkNJmOPZcCIDGUFh1RjHbbJSbQcRytJOvalPHJeHz0+LBkoO97LdXp8fHZo8fU9tKsuF3cV1V1fX2dJMkwHhzszz3bCSPf2N14nhcEgVDKiAoKITAljuPkVWk6kMPDQ0zIdre7fPfu5cuPi6pOkqQoijLPpFRR5Pm+j+dzSqlNiOd5EACMgGPZlmWdn5+v12tDm0TUYLtp23dlkpuPzQ/j/f39+fwAQci6/ubmqigK8z5jDK3vej4jGqcUEFxy/qC52batTTXQWkAFAMAQG8g3Nmc3xuYNxxhTi0KMGGO2bRGCHNthrJPKcr0IEodS6HjuYr37/KtvNcJcybIuFqvF199+/Y//4KODg/3l6nbx87c3N5e77aLId5Qi0XcWxVprDJHneTaxK1w96DRybmp0z3MRQn3fmqex221cxwmCwHzocRw7tm0SokmdiFAniDGxsiz3olhyqfOqrlohJBOcUtrXOKnLsiyNwMF6vc6yTGtt27ZJkSa0zGWqF63Re+jB+5rn+9NMslpvm6YxAyYIcS+4qa6Nox2EGCAouBKCCaGklBg3Jn8bnTczl0QImUrrva6TmdVorRWC+kFpVUohHp6c0kVRjEYjgrAZ+5h/LpT6m7/56xcvXtgWpmTg2sS2iBJdXmZ5mt3f3tVVOR2NJ6MxxhghyLqOcwAQHgyjMI7aXuZF2TYVQfDrr74Mw/Dk+Cj0g+Pj49PjQwRgmu6qplMASQ2VUn3fSw2YkLzt2r63bXsymdR1vdkmm81mOBwGQfBv/u2fJUmipTo6Onr89JlrO3m6u76+Djw/HlDbdrRSxldQCcm6XvPOoWQ+m3LeaynSIh9P9iCEi8Xifrnc7NKT4/OD/UPX9RVTXdeWeaGklBrEYaSUiqLIrCmMiCwhFELIemFEJbqug0BIpaUEWgMIJcWKUggQMrqtEGMueqWo4zgIgZ53slMAENePZK8QptFw4voD3/csx/7V56/fXN0gHHSCacHTfPfqzTf/8HefrFd31+8u/cCqijTPd8dH+1myDgPPdR2CcNHkUEHH8SajmRBCyq7rGsaYgXn5vj+ZTALPub29pZQGgSeExdiDRpVWwiIIKMV7BhGxiA0AEFy1fR8MhmZd+KDjRynBmLXtel0YSX6TRPq+N6uP9+EOITSbEJPINUaGhGBACFoD4xWi3kf8/f291lpKzaTgTHLOpdTEorbjSql7zvqOM8Y4l0wKrXWZ5VEUTSYTU7oY/RmjhgUAMM/YtBom4m3fMyhcxpjR1DYRbypmm1rmlZj1FtDa94iSYr1e5+kmjvzpONZApMku2a4n49EHL1+MB7FgfLNeZ0maJak7mFqWZSEkhdyuN1c3d4wrxwvGw8Fms2NdfzSf+a797u2bPE2VUtFgYts2AKDv+7ZjUiqtINDo+Pi0KIq27TG1Is9v276qmiwr0qzUGmJqlWX59s2lY1sQagSx7/uh51uWZXB4kguTUSjEruu6gX99eyMAZEr6UZxX5WqzXm7Wtm0fHBw4jsO73vei29s7IwsDAIiiqO97zwvatsWYMiYhRJRSizquo80ypO/7NNtyzlnbMa40AFJqJTnGSik1GSOT/Pq+sR2KCVRacNVDQTCJuJIWwq4XIeJbbgQxvrhcIOpqQHopLKKxg2wPN01xv8zaqpzPjgexv14LyduetUHgx2Fk27ZkspYtQfYgDLXWLUvNSxCS13XdtrUQA4LAYBCNx+NBHKZpUlVlEATUwrtt4w3ivu0sBf3YRwg1ZaMxtWxXSwAIUlywrsMYupRAKdqmEkJuNpv3OGH3OwlOUyeDB4NL9b6a15p8/054n+B/m+P7nkspe8E554IrraGGAALUdB0TvO/M7BNCggMnJIR4thOG4Xg8juPYDJvMfNRQ1s3E3awVzezyPVjZ3IKm8sEAaq3X67XverPZbD6fG1C773lPj6PRaGQRUNdlVVUICCVZmqw/+egjoFWVZ19+/gXr+9FodHp86Hle2oqmaeqyUAASBAPPaXvh2HS7rj/+8OXZ2Znk7PPPfn17/W4QxY8fP34f7kVZFkVhxkqIEjM1K6rS6IBqrYlFJ5OJ4w/6vq/LPM0L4/o0HMSB5xgdHsF43dR1WVBKJ6NREHhPHp9yzlvO6rahrqMQtm07L7PFalnX9eHBudZQ9MyPw+l0+v/7038DtbSpAwAKfd8mtue4BGIIoeKSQIo1RhpgTCyX+I6rtQZQ9X1fkxpWdc+EBqCXGkthPM8xQRqotmsQfqhoCVWOi23XwiWBFBInIE4IsLfLsi++fjOYzPOi0QhyzfeG3ssfPINa+C6tS/bNt19EoRuH/u3d9cF8XhaZUsrA1zwncGzftfy6ro2xM7WI67qBH/R923a1ZHw8HlLLFNbIQNBNmcHahlLbmKsJrpjQ1KW27Wqt+7ZrmiYvUgKRHMaOZf//GfuzJ9uy8z4QW/Neez7zOTnfm3eqW1WoQg0AKLApGiSaTQ2k7GjLzX5y6LVD0Q7bYTvCf4Haj3Z3dITbIUc4WpbsZrQpSKJE0hBJkAQKVSAKhSrUeIecM8989jysyQ8rM3ELpCTvh1uZWXnuzTz722t96/f9Bq1ajJ22bW/vlD0HSiktnfgWh7kt61tW8Iv9jL5JTDDGEO57aZpmaXFjB+VobYRsq6qRyrRtq5QxCFJD7E9vB0m27TbGXC/eQtjZjW3gbHvHOaeUrrPU/qqMMYKx7fsZJlmW9Xq9frdnQSvLPWyaZjmbOxS7g14UBkC3dngxGAzOz88QNFVeVHUx6PXv7h9Y98atyW5RFLWQSgOESNu2TiUgIf/RL/+NQX80n89/9O47eZ6/+srLw+EwT7P79++fnZ1tkoRSao/OWVnYn386nz1//tx1XYxxfzio6/ry8tL1Om3bGojH4/H2ZCuOwyLPlvPpxcUFxTD0A4hAkiSybZP1klJKoea+F3XiyWSEmJMUZZ7n0+VyuVxSSm2mVz8e9XtD2YqnT5/GYeT7vtbAoYwipqQmCLetjMPOz+G2G1MuCGEnHjRNQ4mLkUOKvGkapZUGwDZpVVVJ2UrZVhWgFDPGRJ06PmlVDQmm3OFeFA22ASWfvvf+85PLIIqpCwBEkJjh9uDeg4Py6izLMgT18dGz/iDqD2KMBSaQMaJEs87LumxcFgKFMKKUcAtgKC1d1x32e57HAdRVXvR6PSEbS7nxfG57XWNMWRTDQeByroSQGrluwL0QARj5UVnXRinZtEJph2C/R6Mwnitph/rW78R2L57nWetJ+ILl2Iulf9vWgxc0ItdrvM1LAgDY4tYAYkQgxIhgiiDGtFVSSW1rwhhzZ3/PxsHZy3YpllzwYsWDL1Md7A/kMOa6ruu6nDIbZutx1zrJEEJWqxUwZn60OD077vU6vue4Du7Efq8bRQGvhHYcxqKAEmSMybIkjuMoikRbu5wxxtZJkedpWZYaQI/wL7744smTJ4HrvfrqqwiCIsunlxcQwsuLq6dPns2XiyiKOOfL5XK2XAgh+v1+FMdvv/U1pVRW5MYY4lKMca8/5JwTgoDSlGHGmDcc9jpRJwqbqooC3+XO1dXFfDq1kRB//Md/PBiP9g72qcsBocssS4pyk+QY48544IcBUKTf75dl+eMf/Xi1WrlDa9sGIYScO1mWu66vVMEYg+A6X/1mLTMQQs49jClCBCFEKaXXRS8oJkVRAKgRgBjDWw8i3RQQdau6FLKFLcyLGmgki/bH7//M9WJIHMYlxHh3f+/l1x5rpJqmXm8WnSgEQOXJphO5jLGzk2ObuQBNW2GZbbL1vOCO77r+4eFhK5rZbGZ5JYQQhIE1j1dKFVkGAOAus4phAAACUCmlWgEIs3khzHEMQMYYBADnvBt3mroESiopKcG+7/R6veVymWWZtbA1xlgv8l8A4G/nUL/Qxrz4qTGGIEgc5rquW1WVJfr4XuC6flbkGFFKGWa0bYSt+KYRp6ent3+FLeVrvR8h9hG0fH97kKKUOr6nbszq7cBMSikhAgA8ffpUtsK6Ilqh+2g45Nr1PG/Y743G/SjgwAgprgcQFxcXVZn7rjeZTBzHkVJq1azzJca4FWq5SRbLTd1KhwcQwsODg9VqXZZlkWdhGA4GvU50p9PpvPPjT1spBoOBTdaezWZV24zHY2vRYZeiB48eHhwcbG1tNU2DqV9V1XI5L7Pc9Zxer+d7rhLN1cXlfHrJGe124ixLjDG9Xi8Mw8hj0pjVahV0Yj/uxHGsEVYahmE1GAxc1+13xsPh8Kc/+dkf/MEfQW2KLNdSMcYxRFEQy1YO+wOPu3leYmwIIYSgG6BNG2MQNARDx7m+hcgAhJCQiGLSNI1Ure96nDMIoZCNkM0g9OM4NAA0bVtW9fHpycHx2SZLnz4/2trZS7JN3TaI4IcPH7788kuff/756vKcMbZczZMkefXlh0qp5XLOGGnbtt/p9zoDh2Xnx1cnx6eeF06GW/EWtM76FhC0pUUIOT8/dz0nS1MhxO7etoUEqiInrairCiDcGYy8MDQYG2Mc7lpJpENZEAQImjJN1usVgTAY3g2CwKrsbS9g55XmBaETfEHxZNNBAEAWmDfXCP1txQNy+vwZxKTIMim1QcSP+svVpsv8eLhlARzucNd1GDUOA1prZaBVkQIA/CAKw5BzbiwNHwAMEOcualvLOMgb0Y+JVFpohQBEGEpg8jJLparqLN2sq7IMPW9ruD0aDVzmKKVc4sZxRChardPVakUpLspkvZyv16tOJ7p3eHhweOj7flLU5aY0Wq9XGUJotVrlec45dxzH99jWpHd+ft6N/ceP7riua3+R+Wr6znvfB3gQRGGv1+OczWazhw8femFgYbUkS4ui4JwNRsO4E1R13rYtWK3WafLFF08939eyt5xND+7c2d/fl+CqMxor0RR15fpepxs5BDscD7bGq9W6yCuCRehRn7hlqdQiZwV78MrLjuft7h6us/xnX3y+LNLd3V2RbAhwQzceDodaa7fv+a5XZrnLKIQQI0gxYTcXxjjo6aurK1Mqz/OspN/xXCGaJEmkMkq0tdSudF3XpZRDCISSeVFJaSBgRuv/4Z/+q7/84WeO44zj/cvL0/QqcTh8+6uvvHaw3U5PIpXnqo4oE2kz8EIX8iovtnsHQgiMYbouCWmvpmcSNtEAArapgMmOq9dfefnJkydZllycnfiuxxir6iIOIyDp2cnZ9mTS5M2z6VNCyOHh4fTkKIg7Thw3lBhi/NhnzAPGdHCoqmZ2cb5azpURrs/9YCBRk6/mvcC9uzORZVGWJTU6EW2b55TS6z3w+sIQQAghcrgxRhujhP2vuV1t7SNBCCEAYUopEUq00nqxV1U1n889z6MI5XkOjKIYOo7TNI0Q6ueSQUKuWZM31HaIiG3Zrzt+AywLgjEGtFFKNbphBFmdy3g8jqPIZQzdAEyMMaAbCNGgPwpCXuTp2dnxer22DdVgMBiPxwCAPCshhEEQIIC2d/YvLy8Zd8bjcRzHy+Vys9kYCLZ2toUQjWgNBABBTImBQChZFakQjdbShno7jqMhyLLM2qZa59STs1MranEcZ3V6aRBUyrie1+12IYRpmn700UcOo5w71OOqqYo8zdINgcDh1Pc9SimlsqqqNE07MbPzEc8PkyTZibv2vHRxcWHfPeuEZVsUCKEQwt4bi/nSm8u2rcYYfHPZ999+szHqmqEt5O0Obn2hHYfaSZmSxlr5WaJ5VRVpmpZl/uilVw8O9rrdbl5sEIIWESrLstvtMsauri6klL1ebzqdWjqX5VAxxsbjca/XW8wurRdnliW+73eiOMuyOI4Hvb61F0+ThHPu+4E1rDbGSClNXUOIsFJaa6la1apynauqshE6GkiAjCWkGHSdrmy5KhagxJhgjH+h4l9k1/zVfsa+vQAAQilN86KqKimVXSMRQrdo+i0jEmhob4CBOAiC23DWLMsopZAQa9IJkbqWnNwcFIQQLnMYY9AAAzQjNPRdj7sUw9Gg3+t2RV1Pr64WiwUG0HXdXuiNRqyu6+OT53m29n0+Gk2K1HU9x/e9NMmVNHHcCcOwbdssSdebnFI6Gk6kUE+fPDfGDIcja11tyT/Wr11J6XJ/b/fgi6czi/TZWY9SChLkeV63211t1jbEpixLa0nIGBtvbyFEGGOEUqu2ni8WnHOtpOfxKPAQ1HWeibYmECAMOp04iuIoiloJIIRC6rpp0rzk3L+lQ63Pzpum8T2ute73+9bXxDLzrKe+bRet0sAO+OBN6DnirkU/tJZ24gghNIZyzgEASotbcMw+Eg51jNayFUoZzw17nW437gRBsJzPlGwn4/Gdg4PDu3cxAk1VFnlu60Yp5XmelfhYvZu96ZxzA5R9RO2Tk6zpdDqdTCa+H7quo5RyXZdz5vrefD4fDAbL5dIGpgvRCiGY4wKMtNbIGEIIYwxCJGRbVUWTFVYPrZW1DkYYY9/zGWPdbtce+suy5Jw7DieEWP/Tm5bmOsdYvgDR/EIHf4tONrfMMPsIcs4xY1EU2aJxXZdgWBUZAMB13basbdtd13VZNdY3h7munbBqI+yMyU6cNIDSyJYy613oetz3/DD0fdcjCNi5VVtVtkVjmHDOh8PharVxHBrHMQLm/OJEKdHvxpTYqbtUSm826Wq1cRwnCuJO353NZk+fP5vP50KIBw8eBFEotXr67Kk9LtvhCITQcZyoEx8eBlEUUUoBAsZoKTVDzHGcDz74AABgkxF830cIlXVVVVXPC5UylLE0zZIkyfJ8uVwOBoO7h3dk2zgUYwQwNEBxY1Rbl9PpTCndG0zC0KfMBwZgTOM4hsQdjke2cD/64KeyFZRS0dbd7n5RFPZ9Zozled62rb0RtyN0K7CwqBwlzEgFlITGIAOQARBoZIDPXaClbLFSChmAASAQUYQBAGVRta1kjPd6va2tses6Wsu6LsMwuP/gTqcT+b43m19Y0wGxTEaj0c1+LuyNzvN8a2tsny5rRwwAsC74UmvC2Gw229vbA0Cfnp5ORmP7kvV6TSn1ff/m6I3KsgqCwBBkCMWOY1OrtDayEhAAIQTnjNG4lSKIfOY4mFJAqd3H3JsLY2zXeFvxN9eX4Mi/et1yLYndH8MwrFvZSFXWGQDgNgGiaVvGGEbA9iE24cO+xP4QdilClNqpr1TGlvs1Bg9R2ZS1KbMM+q7X0TGGCBpV5sXeztatq4d1jOCUcc654w0Gg7atp9MrKaqDgzsIwTxdrVYbY1TOi7JoLY9N+4jhFlC2WG3qVk62d7XWWVG98+6PLJ3Thjxa08kwDA3EjoMhAmVVZLMMAJBlGUJosViQ2ezjTz7udDrb2xPX7XmeJ6WEBmipbCwwhFAaHQTBYDhGiLRtvbuzl6UJAtJoWWrBXO57XDZt3ZSIEEop93wpzHqzqWrjB2EQ9TzXt1qeo6Oj2WwaxzHGiDsORkhK6TBGKUUQAmMouc5usbfHGKOVkkJIKYFopGwtd0MppfX15MvhVCrHvp+Wc3C95tVCKUWp043i3a3tna0tpVSSbCiGnhsELu91oraqtWiLLNNCrlar8XhsaSO3MiCllFXwAAC0kXaZs0I+AABjLGsaxth6vVZK5WVhlM6yrKjKJ0+ebG9va63TPI+CAEKIMQUYKWL5EQhDA4zB0Gw2q8XlZb/T9TzXcRwvCBhjCJGyabIs22w2ltViD/E2u9NW/O06fo1FKvVX4fnbDyCE5MGDB+WHH12LNhxXGSHq1qa2AwBU22ZZ5rlOFHjGmLIs4zi2YlZKKXd92zZYqzqt9Q2/43r0ABDmPpdNq5Sw39A0jRKNlsp1aBT4ge9DCKWUVVVI0kop14ScnZ2FkX94eEgJOj8/3WxWHufn55fGqI1JEq/Y2toaj7e0Nicn56s86XQ6k8m2Umo6nSZJYidinU7H84wdWUOIi6KSUlPqJMk6DEMIDcaYO1QDYyqFMHnppYf2kV4tlmVZG2PSNM2ybNIbDIZDIeRqtaKM7+/7+/v7VVMfHx8XeeZQLNpyNZ+HAd/b3aaUxt2u1sD3/U7crWq5WJdCKezg3mAIMQnjLgDg4ODgnXfe6XRsRqe2gd23QxN4Q0C6nt28oMNHCGmptFRGaQAAMAoYgxCCAFBMKCYOZQgASimGCGijpapla41YJpPtyWQcRcFisbALPKEgL7J+v9u0led5VVVyzsyNFfj1JFVKxhiltCgyu1ISam80klIKIRDCAKDJZJLm+WK1CsPYptABgxhjz8/Px+MxhLCua/sgibxAmN42aU3TGA21Vpvl6vnz53kv7fd7fhh0Bl0NkYGIMXYrt7DiG4RQXTcIIWDQbdPyC6v7LQx/++ktfk+2t7c//vQzS6jiPqEaCKmt7uPaPBUAW0PXJy0vuAX2hdS3Um5724S8XuBvKz7wAyOV1hIaYJMcAYCEkNPT02G/ZwYDipB9if2zKAqru/v440+UbCA0EBnZtFVVdTqd0A8AQFlWtM0ZxlRLZQhg3Fknm+VyyTl/6eXHNszVugG3bVsURZ7ni+USAAAQXM6nGBqllIEwz3OlTF1Vruu+/NJLeVnWdY0xpZTWbZOmadM0eVFkWZ6maZFXBlbGmJ293fF4PJ1eVk1tDLWcIQgxc1xKUJ7njuMiTKnDEPOHI8CLFmEHQEQYgxAigoPQ6/biYb9rIy87nc71enxjbUIIuX0etNb267b0W3MzjULmtvmxudAYI0oJQhBjjAk0QEmllNBhN7h7cDgcDqMwJBgBo11OISSez+OORzBSCtRtQzBsW2EzSW/RwCxLGGOu62IM7cLPHGJbX1u1VdPYwHTrMGcgdF3fDkSjsBNFkVCy1+m6rut5gRCNAgBjwphr6DWcjSGimIyGg88+klmWYowAup65QYR83y/LEmPMuWdBQs45IdS+J7cLuTFf4hT81Qfg5318nucIoW63C5Ksqqo0Lz0/vHUXQsZ4nifa2nLioyiq6rrb7dpEsfliZee9ca9nD7JV3dZ1LW/iewxEiCKGCaXUKC2VMEoTRCljvU4U+p7jOFBru5JZEvJ6OqUM93q9bjeWyKxWC4RBL44f3H+U57kQKgx8x3GKoprNVlVRNqhp23Yymbz66qsHBwfGmNlsBiHsdrvmxlEojmN7XCnL8rXXXnUcZz6fGwPDMKSU5nkeRHG3243juKzrLCssI3prPLl7cGe9WEkphVaPHz/GlByfnF1eXHs6t43gjHa7/W4nvnuw9+DeodF6Oj2n1CHUbVtZ1E2rtFSmrSs3EHGfn5yeI4Q+/uhnDiWcUeTSedIwTK5VwtK24JAiHHq+3XOEEPaL2vpEy5ZgqDCEEFFMoAEYQ2gINAAjRDBGEGIMMUQWmgMABUG0tbVlmyilBITG991W1INB95VXH2X5Jgj5xeXSdd3FYmahIZtLZ4vpFkSy7yehCNyM8SGEeZ7fuXPH4r+u66dpenBwoKWE0Li+t7O9hxDs9LoWbMnzHBPGucd8TxOECcEQOIQCFz969ODzjz5WrbA1CjHChCHK9E3WhpT6lswCIfqFdf2FBf1L9X376c1uD0nTNF/5ylfee++9tm0NIvv7+5dXs/IF2SyE0Pd9t9exGNlwHFi2I4TQontJklhPCPMCDGSPWUrroihqAAHQdo33uMs5DzyfO9TCf0Cpsihs5A7GeHvYm0wmk8mIEFyVeb/fDUKvF8effvrpeDx2GCvycj5fZlmRpul6udq9t6OEXC9X0ICzk9PhcOg4ThAEV5vEGMMIhQYkSYIhGvYHnU4HQvDFF5/neT4cjmyH5jgOxUhLhQjud7tt1f7s+NhCbIQQishoa+K08uLqMoq7jLFVsoEEUwy3tra4w5oqE2397Nmzi7NTYwx38Gi8wxzTCCA0bloDCO12uoy7RdVsb2//43/8j//0T/7t/cM725NRXVe1Ztboqmka6/FkjUhvBWK3Llc2WnCTZ/1O16YlY9+1Jp6uy6WUTVmVRQYAcBwH2LEgxt0ofuurbzBM4iCcz+cAgGG/m+cpBO32ZJCnSbJZIhA6FBdZhQFstYYQRlG0Wq2sgtYGHFiA2FJ/wzDcbDaj0Ugp1ev2j49OuOtoYB49evT86bMnT57cvXs3z/IkWQshQhY4zPV99+LqMo5jIJTjctfzDMWEOZQxKdpqk33y4cdCNGmymfDtMAyTTUo8N8bUIDQYDNq2BQDt7OwAAJbLZVlWQohrB9Dr6/pjhPEvtDQvNvQAAKK1Jsw5OjqKOj0LxF5cXPRHIzvWAha6B7oB2vaa3AvsG4EQQvgao1QAWLWrPblCeG2LTDERWmCIAIBAGwCM3aOFEIHHrTYq2Ww2m429T1LKi4uzpqnatur2YooRJrBtm9VqtbOz47ouBMDlRdOIxWIVBMEbr78pcWV7Tc/jh4eHjLGLi4sf//hHtzMBC1cTgijFhCCCYa8bO4wpJReLOUJ4NBpt7+4ZYxi/9sh95aXHxGFZln/yySeMsbC0SSyAMdbv993Az7IMYayMNhAYBAEASpoWKaDVzvZEKTWfzyUgYWfMXbbJm/lq/cb+oef5s9msrmvXdSjFyWbd6US+JFrrJEnslP52hl3XtdUTYoztkMTeRUuOsCihEOYWTLR/rVUbUUqFbAAAabr5zW/8aq/T39nZyfIEI5RlSb8XVWUWx2EUBtPZudFtU1fJegWBxggEQQAhtIBpFEWbjbRM3VsKlzXcs/dRKXUxm95ADu5qtZpsb/m+nyTJaDQyxkjZWgDKElLCUK83iSYEc9dxHAhNmafz6Wx+eZUlGwS063CMsTYGEowQUga0dW1brL/arwPwYtoZuG3fwY2L/Iu1/vOu5tGjR//Pf/b/2t3dXSdZEARXV1eTyYQ4ju2qtZ0RCCWgsfjMapPecr+ATYdsmlZKm1Rq0weuHzprC6MNBhAAaIDWRkkpq6oySh8/f3p452A4GEgpOeeMBbJp1+s1RrBtm/VmKWTlcua63HUdRpDDKXfZYrY8PTlrGmFtNlzX3RSbOIru3r2LEMrTzdOnT63gcLC/f3teUQI3lZZtXZdYt43ncQvn140ghARBQDFcrtPV8WkQBNs7e77vn5yc1kV5d/+gbuV6vZZaRVGHEFLUDSHMNtmUOgAACDAmxPXcThR43F2u5y73FcDAoLKoK1FVrXF4RB1HSD0cDn/913+9bQqoRZlnLifdeFKWZZqk1u3RerW6rgsNsOp9AADQpiHUdTgjVEIFAOAOBYAShJELRdMghKoyJ4QySj3XxRgq2UIIEYD7+wfWBXK1Wi2XcwB0lqdVVdy7v885y7KEUEgauFgsgtBDCNpCSZJktVrt7e1ZN6HFYtHtxvapI4QURRGGoUW0tNZ5VfaA6fV6WZZZKdzl5WWn0yGM9Xo9KduiKh3tMELbRgqpb4QWGCFYVdXsanp6dMwA8rjru4FdB40xQpmsKPrjsTHG0kwsHpokSZ4Xvu9/GYm8rmn15dXd/jovgJiAHB0dffHFF5PJJE3T7Gp2/+FLJ6fnHgCWf2xhYCVbaK7jMxm3M0UKACirypJspTHdbpcQgrCwLakFYC3+SK8hBwgMMNZQEyKromKM9eKYEkIIqvLCcRwHt1K2AGiMYb/f6/e7DqdQmyiK8rxsmkppCYDudmMA0MXF2WDkatFulgtivSZnU4xxN4omw4G6AaowMFq0SikCwfb2tuu6tgGt61ZpkOfZbDarGmEf47PT01YICGG/3yeELFabq9lUCIUwXW/Ssqlvug4h21pLIdqKYsgoCYJgPB5zl0RxVwOa5G2StU3RuH68t3e3FWq9XvzSN762v7Pz/o/emV6duw41UllGu6Uh9fv94XBoC9T+aY83FtW2POfVZllVFQaQEOJQ4vu+UcoYk6ebZL0hhBgppAS2Id7d2o7DaDQYbZJ1XVZ1We3ubTVVubM96fc6TZ1TguqqCAPe1CWC2mitNbB2WpYGbBuY6XRqA1/t/7KN9XA4bJrmQBsrsfDCACG0WSdKS8Lo6em577uTyUQJUVUNQohxRygZdWLHdSl1CCEQA2OM0gJoKZTpBh3X9c216wYWUud5+ckXfw6uXWFKa5FkwXSl1Jead3Nd/+rL59cXm/Priv/iiy9effVVIUSSFb/8N/8nvcGoab+PKLXojZJSCKGkAPoawG/l9TzPoo12WIgotZ0JgNcz8NvtZrPZuMzxPO5QxjmnmLgOZYS++uqrvstvH6q2VcCYTqdzdvRhnucIQ8r2PO8gioO6Lter1XI5Pzo6cSjvdDrz2WKz2cRxzBjzOIMQrpdzCzI8vH9ofyTZ1rYNo5SGvksxhBByzuuq0EoIJauyYYwN+n1CnaqqLy+nq83m8vILY2AURX4Q2r4ojuPt7e22lULKRqrhcBjGUVEUWsrWSC1aIwUCWEplNMQY7+7uNq2eLdbrpC4aUDZSoSavascVCJHVcjM9Pz0+PjayRgj5Hs/y3DK/rSlsv9+382xb63bDtKCZxdrDMLQURUyQPUpRSpum0lrbZCX7nVJKpcW9+3ftwHi1Ws1mM9ez61S+tz/hnK3WsygKN8ncccaM0aIoOOfdbtd1XTtepZRaO3x74oLXckTleZ5F5yCEo9GoaRqESFVVcbfz9PMvLLt7enlVVY1d1DDGdd0SQrrdLsGcMY4ZpZRKLaRojFSEkKrIcAg9h2uMkVXCcq4RDsPQNnVFUdiZNwCAEKq1vkUnjTFaf0ndd1vuv8AzA1YDlZcVhPDevXtvv/32v/z9f+O67sn5ueVsKCGu0cYbqpod7lgAXkhtz/L4ZhIO0c9dj7XWylzHMzDGfM9nDqWYcEYYoYHHlWizLBN1jRECQDuEOo7T63eHo4Hn8V6vg4mp6xIh0O3FZ2dnCIEw9KMoBAC43Ot0epvVWrbryWRiB6tZUUxGI6sKu8Z6jbHANkGIUupxHnU4xrgoqizL1tP1ep24rg8gHAx6lvTPuaekXszmiODJZHuTZ7PZomka1wuYwwijRVHM5/PRaEAAotwhGBGgIIRZWWw2G5cTpRFEpNfrRcChmwpAzjnPinw8HP3oRz/6H//f/+zo6OjO3tZqOQ842zTaGOO67q3RleWfWsMzaJ0PGbPV37Ztr9dLkkSb60BwAIBlyEgpGSO2I0qSBCITBdHe3h6nrC7qKi/S9WZ7cn+1mDGGjBLQKNk03GUWCIrDsK1LiqHrutbC14LfVuAbhqE9VNiWwzqG24NHLWQQhqJtkyQLw7BV0kYPcc7n01lRFHZybEU2Ozt7VSM0uA7zKMpitVolyaata6WkUsIe55wgCMPQCwKDySZr7UHlVomBEMKY2DJ/4ZD6JUaNLcIXax3dKruzLCvrptfrff3rX//ud797fHysDbQou9baWJEehBhdD8m2tiLbmdyyDAAAAOPt7W1jjDbXilpLSgEI371713O453GKidJSCSmEkK1oqsLjju95lNLA94PAowgrpQJ3FIZhEHgGqKIo0nTDXSf0fAhhr9/JkmQ6ncZxN4qi9Xq5Wq7v7kVtXTZNA7QeDXqMoLouN5vN/v5+Dk1VVbKtr98XRTE08/Wac66UaWuLjWRBUHl+mKanBwcH3f7w/PySUjocDoWyA2aKEDIAcM6jbgcRXFdtGIZCKAgkYZQQYrRu2jbLMtehV5epH3S436HMaVtQVTXAEEDschdj+vz58/fee2/UDz3PK8tyvV5Df8t1Xcv1t2Qpu1hYBp5tIO0oyi7nLneAMdAAo43NCZOtqMvKd71XX3klDEMIYbJZGaUfPXi4t7Nr87iV0tvb21EU1U2xvT22+cm+72+SBaW4bqogCMoyt+DBarWyDruLxYIQVBRFFEV2Y2maxuHUPmlJkgAAsvzacxMhtF4ndoKOIO50OkAbCGFVVYSxKIoAAFJK3w8II1rrNE2vZpdnZ2dJkkCte52u4ziEIs45d12MsQIQIfjgwYOqqpbLpev6hJDFYmH74du25Rf6+Ntaf/ECANz2HWS1Wj149NJv//Zv//n33/nggw80QBCRIAgsHAuv00XALYZgkddrtxmA7N6HKJ1Op8YYA5BlSwdB4Pu+43r9UZ9hgjFs6yZJN0lRlnkqW8EIIoM+d5y6rl3Ofd9nmNjlhFKMEHI9Nw6Dpq2zLLu6ulqtVsaAk6NTjOhksm2HYq+8+jhdPrfpeVEU9Xq91WrFOb9zZ59z3rZ10wCt1c1mhyE012klTZMkiU2iNcYgTBeLpTEQU2c8HvteUFVVkmQaGAjR3t5eludJkuV5Pp5sc8eTqqWUGiUJgZRSCCCBIAzDbqe/tzvRBpeNbqSsKtE0DXNdSumdO3eml1e2zsIwZIRwxzHGBJ4fhqG1aLYrH4SQYuJx1/JS7fpCEPYjj3N+ObuoqvJWc3PrWtHpdB48vGeXZyu8vHfv3mAwkK20MoCHD+/leeY4ThD6GEMp2zDyj46fWJNQxog9OWil7dNlJxidTmQJP9aHuSzLMPJv4VTrnd+2rZAyDMPlcllVVdU2vK4hAt1u1zoahGE4GgyyLMvz/OHugdSyVW2aJ9PpdLFYqLaNXX80GjmEWVYmIURKLaoKCnxxubaPilWQ2e3FGHB8fHxDfwfgBdwd/juun1f8t/7Wb379619fr5IPP/7Y90KhzfnZxfb2rud4i8UiiqIgDt5//9PJJOp23ePT0yAKrXNd1ImMuQ6bb+q22+tlWWYMtITS+Xye5/loNJFN+fDefd/3LpJU1/Xe1igO74q2WS7nr77ymEBwdn5CmRqN49FoBLSUVWLfmiIXGOOq1FdX2Xy+XCxWnHODOnldz9dNFDmuG1wsUpdGva2OH7gA6FmSJXn+lbsHRgnqMFd7zGWMcWNglmVZWmzWeRxHUspO2BmNJkmS1Y3QGuRF2ekNWqmrPKnrBhLscl9DU9ft/OqKcz4ajR5Ohowx3+WLxWJ+9vzh/UM3cE+PjxrHeeP1r9y/fz/wvel0ChV3mGOMVkAipAxUiGoeYGHKbs/v9eP9g13TNGVWI8GHUTjpub7vENxyRCily3XaNE1vMHIiv6qqLM+11pRxhzhCyTbPdBnmS8Nd0hu4SXZ1cf7B6clP+/3+eDR+47VH7737/vPPP3cJ2z4Y/8ff+hbGMM391cW0ZmzZ1i4nvdhvdM68YL64ELPWjzwDgSa40xv1tu6uVqtsupjNZgcHB71ez56q9/YOrq6uLLfMccx6Vezs7HQ6neVyCYECrczzvNfr9ePIwSjgTGu9WS+iODg5ver1OlHsYawhUZiZqs3StsqybHuyxR0vX2fH9RHFrjYkbeSwM2wIreqmTisDUafXBQYWJSiKIs2zpmmk0ULKsq6qtgEAGKgVNAYCDYwxRgNgjOGY2nk/BOiW7QKhldQgYwx56603/uAP/uCH77yntWlb2Urd6cYYwzSvwjDEGKZpOhoFjLEkSfr9vj232X1WSk0IcV2XUceOgi3Mr28uKeXuzk6SJE1T9/v9MPCSZJ1lWa/bGY0eCyGuZtO6qeMwslYknBGsazvjaFu5Wq0W82WapgAA33ezrECQcM6zLJvNZjs7O/fu3cvW51pLz+dSCtv1TqfTwOMWR5Ot2Gw2nHudTgcYdH5+rhAkhPheCAnGuNS6EUIJIZLVBiFSVs1qtc6rklHuuBwh4kWhheo4I4wxjzsIId/3N5uNtdkYj8eMsel0qgf90Wh0eTYlSjcaGIMIIZ7neb5vpb3xqP/Nb37z5fv3/6//9X/tO2x/Z4cS1DQNpZRSZhPTPe4CAOqiNAhrYxgmtW7LvKiK0nG54zjr5brX6yAsjo6eQlz3B9H9B4dV2dgxjZ1VffzF82//6naSJEqJJE3n81noBx5nd+9sZekiDBkmcDweKS2UUkmaV1XdlAXwgGV5XC/2NyMbi0EZY+xKZNW0YRj6vt/tdh0HJ0myXM1dzzE3OlTGmFUtl2VJKfU8buEdG98SeL5SarNa2eMHp8x1Xbs6SylbqQwkBgKjAaI4CFytddXU1n9P3BAubHsOATDgJrH+pp0G1xSF6z4cQmhntJZtRv7RP/pHCKE33nx9f+/O9773Z2leZ1lRV/PBaHh1deX7PkRgMBgURdY0jZXo3tKebhlO5obaavV99gxg5bCe53kOb5r68vJSKxEEnkPxZrPxPG6RTetkdnJyUlUVZ6QXOjZ3hBB2Kz6QUo/HYykvCSGMciHapqkZY77vL64apURZ1EWZbW2NDg72jFFxJ5xfTRljYRxR2iyX68uLKSFkMpk0QliDfA1B0wghdVnW88USYur7YRAEjsOl0Yxywqgx8HI+s6zmqsgYYyUllFLP5RDCIAhqBKfTabpZhWFY5FvdbrfbGSgNmrKu67qqhAUohsNxU9bKU/1+//7+ne9MJk8/+3Tc7YX9PjLAyOtTO8a43+3xqlytNtoo5nKHOsaYpqyUMowQ4nquR8RVlWazOPJ/+Vd+xfHQxcXFxz/7tG3bd9999+j52cXF1auPHnzzm9+0mNV6U1KCAo9148h3nfWiydIKA4GwkbJVSpVlbSB0He4wJ4ephW6tAXoYhkmSWHcWe8ywQJw9R9oa6PV6V9OLJEk2m43139RaA6C1kZ5nLY8gY9y2xJxzCLA9E19eXmZZBiHEANrm21LEmlYxh1hom2LM/UBqVVRlVhaqVkIIqa7PlhoCBOCNOQ1AN3X4167xSilb9+R//3/43xDMgiB68uRZlqWuFwohfu3Xvt3r9//pP/2nlBKDYJYlRVEEoYcQIpS5rmszNoqiso1mXde24gHQlg1yW/GffPJJW9XSRt1qaS33A9+bza4O7x7s7u5K1WKIlGKEEAR027ZxHHc6naKozs7OFosFRsRSGFzXodSxzIooioLAXy4Xm83GrrgGqCiKt7e3yzJXSg2Hw+l0utmkFimKY8oYC4KwlUJrXZWNAgYh4mMaBJpQVreSEGYAghAxjBAkeVmkaZ4V+dbWFud8vZxbaypjjBDC83r2WU3TVHs8CAIbvrA12TUAAcJqlbZJoQyxa5uR+uLi4i9/+O5nH34kpY78wK4XDnUwRARhAhECOAgCx3HztMiKHENkiAJSQaWNUkpI1bSr9XSTzMpq/dW33nrp8f3p9CKO/PsPDn2ve3J8mef5qqj+13//77/x9lsQGu466DyLQ0erthsHyWYFjFovF5wOosjfZMlyuSyrJgzjttvTWifrzWuvvXZ2dvbBBx/YDBhLK4AQHh8fqxtnP0smt8Ngh8N+v2+HRAjBOI4B0FmWdTt9iOxI2LiuSwjDGLquCwE0Rq8Wy/PTU0vPxJhKqR0HI0SUrK7leRCqG3Gq53nDydgN/E2SB3tWeQAAiilJREFUrNfrdbIRTY0wtqnFCEJ7fIXG6Bd4u19e460kHAIAiJTi7Ox0Op31uiMA9XI125rsvvXWG7/3nX+epilzCDCIEEIZxhhXVTEIInswbZpG68JiQ3meR1Fkjwi3hBBbGVVVOYQCYPI8N1p2u/Fo0AsDf7mcI4SEEKv1EhrAGBVCKNHEHD978tRaT/l+uDWeSCmbpj0/O0GQYB9lyUZrQDHJs+Tq8nyzXlCHybzd29+BEH72+ZMs3eR5yhjDEDZNI1rleZ7vBpvN5tNPPxuMhhjjfr8vjV4sVm3bcu6Nx2NloFKmKOssy6VSEGNb37iu7LtmyXqMXH9dKXV5eQm0mkwm42HfsipGo9Hp6WkYddww5txTYHXrD0owHg6Hh4eHf/Av/uUgisbjLaX0er2O+n2gtKibBhJIsOtwApBDKHR9BaCWChtoo4MhhKqpIWi0rLJ04VBUlxkmJgx9RrlUyHGcPCscAAC2pogoy7L14lJr6TqYOxhBDANOURj5vus4Wsi6KJtGMELrsgh85HL27Nkzi42UZWkDUaqquri4ODo6st1mEAR2wbZvgpV9eJ632awtcA6hsSNVTGw8/HUSk+v6lFJASJokx8fHT5486USx77u2ibLPFcaYAogQghhDCJtWeiH2uBPEUdzp+EFAGNUYooyUVWUr3rxgV4NecNP+hQshq/UG5C++/6c723tXV5c2dZY57ptvffVnP/vwz/7se9vbO4SQvMrjTuxwWtelHVYHQaC1rqoqTTMbceP7/q3GRF2zZ6HdmI6Ojl9/9dVOZ3x5eSlF0+/3lZIffvjhG2+8vlgsphfnabbpxp0wDAAAFEOirjNPNpvNxcWF1sCukQAAh1PP50HoiVY1TbXZrIwxGFEpJUIgjKI0TU9OjgHUrsMYY1lRbFarLC0IYd1ud9AbPHjwwHG5EAIjKupKCGEn3tqAJ8+OXNeHiDRNK7RymB27uK1WFjHs9XrGGGi07aauR+4IZlkGrAAPW8kVyGsRtCLJmvUqody3kwrXdbMkP7xz9+/+rb/9F3/8xwaiPM9oJ26qlhBSlw00iDCabTIAADYAI9SWTVmWymiEkNbGmk3k2eLo6NO6yVwPI6Qpho5DPTfCiL/zg/cBAP/wH/7DO3fuDIdjrWVdX9blxnX57s6W0aIXR4s67UWhFGKzzETd9Dpdz/MMRKJpC5Mjo7WGe3t7SqnNZgMh7Pf7tnx7vZ7lVFq0xAqDqqrSpmKMGXPNmF+vl1ZHUpYlRIZz7nmelIqQa2aOkXI2m52fnF6cX7Z1s7ezZcfJlkrNOWcIK4MAwojgPCuy8tT+c0mSJFnaNA3A17FmtuI1MMgAg35uMfnivOnLCD0CAJAf//hHd+7c6Xbj1Wr5la+88ku//B+FQfdf/st/9e1v/3qn0/nxj38MAKiqSmtpn8XLq4XlRlu8knPu+77RYL1ewxuB9i0/HkL4ta+9nazW0+mV1hojcH5+3u/Gjx8/zrIsSzfr9RoTaNVfnucNep0mXdpDj1U3cs61BjagxpaO5X/XdUMoopRSDIwxlPK6bltR2ixLztl6ucqyjDrum28+2tra0dpYRpQF2jbrNC3yPC8xYVXVlFVtBz2YMAAgkNf6FXuztdae5zk0lFIiYCilRit7XwmCy+XSKBHHcatkmqb90U4r5GK+WqR5mqZ9L3K5jxHp94Y//cmH66s5527TNONutxP4HnOUlNxxKCGO43LObwOC8jQrsyJJUws12rivNE2P518s5suvff3xeNRPNquzizPfD7ijl6v5ycnJYDD61re+hamjtb64uDg/P+UO6veDMHCrImkrlWcJJaCuC9ehZZZ7YdDtdIqyvppN20YCjF5+/IZFI2az2bNnz/r9vrWSvN3D7RDUbuNCCOZgS7Cx8yPL1LCbgNLCHgZWq5UQihCWJNlynZyfnBZFRTBumqYqG9t2ci8AADieS5mX5gVAmGCWFjMDtf3d1+t1VhSEkDiOgyhcrFcQAAONtebQX47w1lqDL0egEUKusZrVKi+K7MHDe2mSf+Mbv/Tg0Sv/+vf/4LXXXpvN58+ePXv69Pnhg8OqqpQyjLHLy0sb1k4ptcC29fZeLlaWTfnicdbuZT/96U85ZZ7n9nq9fq/j+65s6yRJqqoIA+/g4ABhQDGxI4/Qdx8/emR/4tvzgH1ALXlrvV6nG9TrdcXNZRAUyvQ8L8syhMArb7yyWizmi+nWzvbdu3el1EmSPHv2zHG467oIkuVyWdc1YywmMWMcYeo4btMKRFjbyk2SFUVhEKTEgRAaoy0SbMmMbdsOel3XdRfzme86ZVkO+73XXnttPOwjhNqmvnfv3nyVbZKsaARCyHG5lcxaav5bX32jTPPl5cVPJju+5/SjTpmnEGDueJ4bdKLYdd2FWNRlFfpBv9tzKCMI2tc22mghtZCB5/Qf7X3zl38JAi2aZtDvAkje/eF7n3x6RKDz6ptvpklOnJbQ2FI7MVZh4Obpqq6yq4vzTuyXqoVGVUX2/Plz24tjRPM0Q5hGXnR2dmYNYSaTSVEU1pEhjmNbNIwxKzbQWvd6PYSQNsVg0ANAn59fH9OtpYwdWkVhJ466m3Vq72NZlidHp9PpHEPU7XaB0lJKJY1oVdRhrZAO467npWUFEAQY1XV9en5BHYcxFsYxdZxGtHXbiLW8nqfeYPAIAH0DzNsx/w3R5jrD/gbaAaTfDw4P7+7t7f/so8+KIn/+/Gm3210u19/5zr/UWm9vbzPKrSZws0kZ48zBdl+zHF3LhdQ3gchKXc9E7L8thKjrthNGNhXQ1k2ebpaLuedxjLEUbVNWvuu5Lt/a2nrt1Zc9KBFCURSt12utdRiGm81KSkkpXq1WEJqHD+8XRTGfT4uiCIKAUA9jFHU6cSecX12+++67W1uT8XgchiHGeLNaJ0nWNqKDic6rNE3zIm2aBkHS6ffu39+jjCdJtlytMWW+H3p+6PtpIwWjXBld1+3EnVRVhTHGkFkTWc55p9PpxuH5+fn5+bnW2qE4juPhcMgY63T7ftzNy5asEsxLjHEjlbV/ml/OgJRIaYQQRvTs5OSVxy8Zx7fItzHG8mGqqgJaW+ld6Pub1Uq2bZasfddxaFfn6d7+1p29vddffflnn310fHzFHK/IyzIrX3r86MGDR8zlvu9nWWZVi7u9cDTqnRw9U1JwzoyWF6dnns8dyu4eHD4/Pnr+5PnWzk4YxoyxVgggpUVjrOdclmWu69rn1mKOURSdnZ15nrder8uy1CDTRj55+vl4PLbMCMtLtY+H3Sq3t7fbtj0+Oj07OxNNm6fZfD4PPB73Opw7q9Wq2+2Wp6dhFM9X66JuBqOtuD9IkgQTVjVNLQVprgdtlFIFjNLaaAPANRL/Yj9TNZXtPgi+Dv7GGCNE1E2qPfkv/1f/0OW+JQl/73t//rNPPt/bvfuTn3zY6XSUMkopGzRu35HNZgPxtTmHBZvs+mdt+oQQbSstE/qmncLDYX8wGNgdIAiCbjcu8wgjuLu7vVrOlVJRFPU63fF4NJlMEEJGG5symWWJUqosc0urappmsZjVdW0H6ZTiMPSDwM9LNZmMIcTTq3kr2ijwGGNRHButl8tlnpW+71MikiSDEHqeh+tiNBphRG0TEoTQoquz2UxKrTQwBihg8qw0ECBEBpOxNdXI041SijPaNA0w+jbKHUKYJElRFHVVaq0B8TWE164+EDqObdgCAsnT9Em+3Hz/T/9kcXk1fPjgrbfeCv1gU7f2rhgDpNSu64/6BKLrLEj7pnncdSihlJZlKemmG8WUIAjASw9eevzSK//qX/2bo2fHLz9+5f7DR9tbu5y7VVWvNmsbTOvv7xRlyl2KoTPsx+vFvCjKoigmo7HLnZ3tPYyxMqaqqn5v0Bv0L65W8/l8s9mEYdjpdPBNhKOtYDtYtY1up9NBCD159tTGMwWhxxyCMQZQAwC63a7d/617nu+HbSs3m9Rotr29HXr+Jlk1VR14fuD7hBDH8/I8X24SRHlZV+np6XqTSq00gMhAZSAwEAJoDDAGGA2vKQYA2K9YuB0A8KIrk+047FN3y5InSqmf/vSnw+HolZfv/NZv/XZZ/3/++e/9fykFTQscxnzfV8C65+kg4P3+MMk2dkpfFEXbSvsYAXNtIUsIpZRaBXfTNELIeNQTQsxmM4wxRqDbjYfDYRj4dV06jjPodqI4sHuc67pXV1eeEVLKosjsbLmqKkopRMYOB4bDfq8bG2MQNFamgCgEEJ2cnOR5ure/4/qhUlpK3TRVkVdJkkAIfdd3Xb8syzTNMcZxHIdBXNRVVTVFUVhWWRiGm00qRIsx0UYLIanDwjDMsuyWwHRr6DDo91yHAgAQMFEUcUYsc0MpFXYDqXQpirJpqqpy/GvzGSnk3t5e76VX8uXyU6VFqxDARmnKHEwoc7hor90yWKdTFRmEcDabUUx6nVgpxRgRQmw2G4/7d+7c2ZnsNGXTyMb1gg9/+knbypdffvXgzqOtrW2h1Xq9Xq/XVVVYQfL5xTEGUEs1GgwgQkEcdaN4sVgUVRWG4Xh7G0JY1TV1eNvKKIqm0+lyuRRC2HUK3IYzA0AIOTk56XQ6Qohut4sxZowoJQi5Ft9YsahWwBrwc85ns8X5+YUxF9YIQ9bQIg2jwdDi+lmaM4djjCHECFM7sJ8uV0ma+36oDDbGgBecU5XRllX0IrngxZXeFrqGWt34kCEEpJTXffyf/smf/eAH7+zv3/nOP//9wWD8jb/xK9tb+1lavvve+0mS1nUNAIYA5lkFAYniwPbTViNjjLCqVq2MpY65rm+D+yilNuiiqirVCtflg8GAEPLs2bOmKhAErutwh1qqBtCGEDybzS7PTx/tToxRFu40xmySle0LMYadTuT7fl1XAIBut0MIEbJJivr09HS5WrgOU0q1bUspVkq1rcyKPE1T3w+iThyG8WqxLopqOBjae+M4Tl23m/UmywohZDKdCqEMQDbqMMuKetlcXk554FsrIt7rGGNWi7mlifseL4pivVkXRdGNQxuvEIahVPp6U8UY3ZgRKKUoodOr+UfnP2nbtsyLqM/Pz8+HnQ6fTCBGtqupm5YwyjlP0821cy0ycRgLIZQWSbpezK4SufbdaGu8gym8nF3+5Xs//vyTzwbjg25nGMddx3HKJLOmN67r+qGfl5k2pj/oIwN8P4iCsMjKwWDgcv/4+PiqWkDsEEYBhJjUjVBagyAI4jjWWlsL3tt2C2MshJjP5xbDuBVt2XY/yxILLfi+HwaxPYNVVWOH35tNMp/PZ7NZ5PWKLHc49SeTIGB1XVoISCk1mUxG2ztpWa3SNCtbAHEQdbKrFQIGoNs1/ueL9219f/kDYIETBa7L3RgDoRFCXGM1v/Vbv7W9vfP9779T5M1ykX762dGbb37tta+8+eDhK++//8G7P/zRfLV0HIcQWhRVWdadvmfRGMdxMKbWFkYrY/cO+8s7jmPzoTj3uIObslJKWsBLyjYO/eGgr5RgFLd1RSgaD0cYozzPrRepHWNZSwLr1KWU6HQ6URS2bbNJVmEYdnvxarX66KOPGuk3TdXpdHqDblmWnsd3drb8KLTEHsLoZDKxAfMI40cvvRS4tCzLZJNtsrQs67oR9kyGsSKEVXW72WwaKQhmnHMptZTSVrxRwsq1hBCLxaJynbZtLVRl/bratt1sNpUpvSDUGhJCuB+EYei5PqUUA2whl0ePHsksj1x3M5tJqaUG1skZU4IINsY0orUnB4QQITiO41bUVV3YdvHN198cDcabdUoZTNfpD77/rsP8x48eO9RBiAihyrIs60pr7Ud+GPqxm0MDIISibK+urnYmO0LpJMn8qOsGG6ZUVbfpYqmUysrqVsc0GAzW67WllNlytxMJa0FnGfDWJIJzBoBGCFlfDQihRW/tq4RojTFaGyukghBiiHu9HgAgTVMl+GA07PU6jsuvZgvXC/y40+Me4Z5UcJVmrusqszIGABtsAK+ldLa8b0vcGANu+PH656SD63LXWkOohRDXE6j/6r/6P/2Df/AP/u7fGf3+7/9BntV1q//kj7/3xefHX//GN6XQGFNrZ+W6vmUIW2mMMYYxBiG2FW80iKJIay3ltVd30zQQQiHU6cl8azS2/C2DYRyHvutIKU9PTxxGMDCDYU8IMZ0um6a5f3gHYyCEtu+IkA3GGGNIiGOMVkpJ1QohsixRSpycnHz44dlkZ8vqbl3Xh1BZS4KqrC8vL+M4HgyGnDk25arX621tbSWrmWW35nkupfb9oGnEYrmqqgZjWlV1mqbS6DhinHMhlDAaAGAP3ISQwWAghMiz1OOs1+t144hzDvQ1mbRpmqDXY5zXeZWkadHofn+Lc+77oWzk4eHho4NDVVdHn3y6uLwKPbfX65UAaACEMhoCSqlUWsoaERpHIXeZkSqMgzwzSqk8z4lDQy+ez1bn5+eM47OL09ls9bf/9m//3d/6Tz/7/DnBVEnTNKJtW4iM4zh+4HYjkmX52clpXTZVXriuX5T1Zp3GcUcq7boedRimtJWyFTLLC2Pja4yxpd/tdgEAFja1wWP2VDYajc7PzzHG1HFc1+31OlaBbo9zWZ7kWek4ruM4CGEI4Xq9TpKk1x20basUcjl3HBchmKcZxrCDEWMsyYqyVUGn4ziOMno+nwsltSbgBfYvAEAbDfSX1av6hZUe3nzRqJsFHkJow3YQAIBsb2//+Z9//1f/5rd+7dd+7U/++M9NVkkBN+vkO9/5judGVVVRwjAibSO01i73CKe29CGECBm7eWFErnXfnFuM0q7oWgOCjRDC4qlaiX6/23i8beo0TaPQH3Q7juPYmO84jjHGq9XcTrPzPLeAblnWEMI4jsoqL8tSiKaqZJIkAOhXXhk53rY1Z9RaR1GojD45OSnLEhLc7/eDIFiv11VRx1HXdV3L+LVnec/zjIHMcbUu7btJKR0Ow/F4Io0WraqaWkqNEV4sFoQQaJRSSlqzesbsaH21WiVJIpoqCIKd7a0wDP0wIIQlRd00TVXJVkk7Sjy9PEVSDwZjJ4oeP37lCCKoVbLe8P1diFHV1EAb4lh3Ttjv9z2P90gnXW8AAE3b5nlelkWv13v48KWDgz2hm8urs9/7vd87Ozt/8015fn7puj5F1KK6CCFMmOs6ruumxTovc4jRYDg0vSGEmBCyXm/iuIcQaYXSRvRHQ+qw8/PzvCoHnY5VLVlU3o5CbR6M9SyxuI1dyz3PW22mVjAF4fW8yXFchJDWeZ7ni8WCEMoYGw6H61Uyn88DJxJN2+117t498DwvTTebTQoxGYxGGmGpjdbacZkVuG0WiaYhsuAihOiFyBnwIkRzU/G2+O1cCLyQegnhdR8PACB/7+/9z8qynE7njx695Hvdf/4vft9hIEtL7nhCCGvZ4ziuNbkMQ78XuLax01oTcm3X4TCObgxW7WziRplyva1Ynh2jmBBUl3lTV8PhEBiltZ7NZkCbw8O7/X5/Pr0kdYYxDsOwhBBA5HF3s6mklKJtp9MrAMD29iQIgjTbWKBQoIHP3batbY/39OnTIksHg8FXXnu1Lsrz83OL5fteUNd1UVSdkNvTleM4Wl8n441Go7qVm02aJIkxoJGirlpMSRBEgGDbuY4GvaIozs/PPc9zuZMkSdu2eZoURUEQwBhvNhspZa5J1O0hhMIwJBxEUWTb3yAI1tP5xx9/zAH46U9/2qZJvxMPBoPqxlYOABA4rtaaQDIYDJbLOQ39qm2EaKqqEqKllO7s7Ny9c3jn0QMAZV5kR0cncac3GIwgRAgScBNqSQhhDrW8rlJAe7O01hCg84sLZYDL/TTLHO51u13KneGwn5fF2cXFdDr95jfehhD2ej0LyQMAkiSxaJLtV8G16jQHAFj0xs6kqqqyswt7mqqqyvMCCOF8Pq/rOksL66pSbWorr7NowcHBgSWKzefz3mgMEEyyNICo0+lsbW1VTb2prqtZ3Rp03BbWbcW/qPS7WePtd7woubaPBPnog+MgCJab4gfv/A9fff3Nfm94dHI6HA8/+fzzvd2DqBtczeZVU1AHx27MOW/zJHQ9qLQyhjAnydIwjoMwghBmWYaAIgiLRlAINVJ5ngWjieN7Ua/ncmd/f38xu9pACCEUbdPWVZ6Xg17/0UsPDnZ36rqWjbg/uOMyZ71ZRg6NYt8YpcZxp9PBGD3YGed5Udc1V7DX27Exn52+BqDod10I8fnV5Wo6jeLOqDecXy6Iw+PO+ODuneVyOV9tmqbZ2trS5ZRRHccOq8DiarFcLIEhXtAhSoWOiwHZ5EXbaEQ583wJkMibyXCbMcaoGw47hVdoJbrd7snxURwGnhuHXhxF0Xg0sBQUXZWAu/PpPFkmg/Ee1DArSnlxlazTs6PnTZZ5yCyW5/3II6xJiwtNtwkGTdNEcSBkTSAq66ZuXcJwWRd5mY3H42J6OVste6Phwb3DQdcDnCQX83d//OlrX/uP3/jGLz1+++1GadfnT4+eZckq28zigO9ubVMoPdPMM1XmYDw5TJM8SQtMw4vFPMsy33O1To6mZ197+411MQdAPXy83aqFNtXF5fNer9fteQA2EJGq3iyWleu6QUghNELmTZpSpjnnRblyXEYoLitp94TFYuV7oZRmPttw3iplknW7XidtCxnpilbwoOl1e60UCptcVkawqNMVQqVl9eSjT7nrc9dfPzlTWncHw5defv3Z81P7uFqUTN1YmpIbv2UAwLVvDbgBLK8XeytmssI/69yGgHVaZYxprabT6b/5g9/XCljnOopQnq6F1hBIYKRWklNeF4mWqcPcPC+6/V4jWgCAUer09DQIAodQxhwtldbGaAUBoNTJsowxFkYBJViIRojrXLQwDAtgENDcZWmafvZZbmerGOOr+UwpEXZigpAByvM8QmmeZVprxh3HcfM8n56eSqk554PBwI4FFovVer2eXs2EVL3+EGN8cHjPejTYg2C32xVCtEUeeD6lpCgqQkiv12slaBuZpKkXdDh3cFVzzrkfSKOTJBsPhoSQPM+LoogCXylFMPQ8bzgcVkWeJInHHdd1m1YOh8P79++nZQEg5rwIQ90fDmxPXFUVY+zRo0fT4+fJbEopNUppreMoWt0guVp7hBCKrt1ppJQOI4SQ2WyW57n9qzzPE0JU0+lHP/vEcZzf+Z3fuff45YvFYnZ51R10bZKuXXcpIUC1SZLYvXe9Xj97ejSfL+Mgns/naZru7mxTiuNOr67r6WwpZeMH7muvvYY1sZYnVthqjLH8izAMbwXEQgg7omrbFmJ9dXXluq4tPs75YrFI02KzSSDMjIFtI25xcc/zgG49zxtFYRB1qMMgprYFOL28qpoWIkK4q41ZLBbTxZJzTqhrX35tJ3Nz2Q7nxcsu87d61ts+x4L0EMLrCdR3/+SP7fY3GPQ3m01rWohMUxZFkRfFqq5Bv+97jlNVJYFIgWZnZ/Lxz467Aw/oNkvzydY4z8v9nd3FYuEFHUpp0eYEEkwQAppATCOPORRopbXcrBazq+l6s0TGLBczoE3gca2EEMJzmIVENml2cnbuedwL/FK0lMDI9zDGMcZSSil1U9VCaurw3iAcDkZJkdq4nqv5LE1TwiiltKqqe/fuWc//03M7NmdhGAohoONoYJqyLMtSGs0Yow51GFgnidVtBE0LsUQQAQA8j1dVZc3JmqYSQpRliRGwUJK1H/IDr67ro6MjhNB4MukMhkVZIYzDTtzr9YK4H0ZRU4soiH1KONBy0GdKbqbnFFEplELKdobXmDfUt08+gNDyW+zQHmPMuHN6cdm0x6vV2g+D5Xp1+f3vSwDCbufq/KJpCq1Ev9vt97sYw7oWi/m00e1isbBjcgKRUoo5NAqDpqm0wR4fbDabosyVaj2fd7u96dnMwuS9Xs+2W/omO9LCR+AFgwDHcSCsl8vl1mTbHlf6/X5dtWXZtG1bFFWel0YDzj3PCwghEOC6zPM89wIfY+x5AXUcqY3nB7u7u/PVerlJ0rIyAAqhqraBEBpAXqz42zX+hWo2v1Df1+37DZRpv3LLLSPWYmqz2USBB41qqoIx4nEMNO1144uLBQZNr+NnGDiO6MZeka9GI7K3v93rDT76+PPPn0y3t6P51RVCGGgjqrrKcqgN9TxKGMXA9R0AdNNWTYUWTZHliZGSuqzf70ehH3oud5ww9LtRTAhp2/bDTz6VUjqu2yqttWqkUosVsFkAShdFlec5Jc6wN4jj2EDQKm2kKsqiqirm8DCK+/1hFMej0aRtW5slHwQBs7uD6+Y1S9O8LEt7VK3rRivFGO92u5RioYHjOJWQSbrGhA3Go8V00bZtWeZCCI+7Sosir+bz6fZkUhQFAqYTdzFB6XqzWCx++tOPHr3+GkC4ktJxI6HV9t5uGHXrSupWnB6fVOvV/mg8HPSq1dLzPCCF7W4JIa7LV6sV1MZiu1rrui4dziFCmJBbhk/QiT9+7y/DuPPw/oOnR6eXq+XuwR3f96+uLghFEEJCsJSyrUpktFLq8mr67Nkz3wtDz7fKPQCsArWlDIeRX1X5wcEBY1i2dbbJ7JBVa2054QAAO2dYrVa26PFNYCMhhFKqTL7ZbCzBZLVace65rut57W2idVlUdd1iTKMoCoKgSNuyrm7dkCDEEOi411eQGEiPTi5Ozs+CMOJ+YLeaW8Ov29X9xTr+q9dtq/Piwn/DqzEAAFJVRRD4CKGmKnq9TlWmvseyrA598uYbLxv5w08+a6Ca9fucMdnt0u3x9vn5+e/8L/7ex59+JlUdd/y6UVmKqlJo2RKEHUKVlJ7Dx4Oh7/uVU7ZtC7WpmypPk6qqKMYIUO5Q33d9zwfWt3qTWDK9zFYvvfSoOxgKbSBEeZ6dnC6lapWQjuMwxl3X7cRdHoRpWSVJkpWZ53kAQUwoY8z3w8FwOJlMlps1hJBgNhyP7L4shMIQLteJbFuEEGWOxKqq6jzPlcrCqKuMybO0qAXQWoimKEvXdTqdyEYJGKV917PnNquodx2n240hRqKViJIgDP0oTMuGe37dSjcimyTp9XokiFxPH33+xezq8qMf//gT7ky6MYTQKDDsj7gX29tPyLWzlZ3faa2b5hoCl1Jen0R97/Jq1gg5CsPx1sRQp5uNw05XQ0Ao8l0XAmGUTtbLpi46kWftDwghom4qiK6BSwOMUa7njAb98Xi8WqHJZNLrhLPZ1dHRkRVrWxaN7ccsm8iGBltYxv4vO5MB0GxNtm3s18XFVZFX4/HWZpMkSYIx5ZwTTJMku7g4sxZU0c52Xdfj8RYiRAMohGiuXbnRaDLe2dmZLhaWygYhbIVC6EvxfbfX7Tz1dsP5BYaw/pKb9gsVD5FZrRcEAs65yymh5q03v/Lg3p2ffvD+b3z7m4EjT559f2cL/ca3f8X3/U43hsxbLtZRBEej4PHjbz17dhLHw//2v/3vMEBltoqCOPB5WRQUg07sdTrxSkrtkKZp6qparRcMIwxZ3RjOnLatYeAxQuu6XC6XyIAwDAe7e5PdXa31+fQcQSNEk+Q5RCBwPUhI2Ikno8m1sXLdGEwa0bapQIggRIIwtg1l1QqlVLfbhQBbgme327V6xaZpHMeBGmZZ1lStHSyUZV1VJSJOnuebvPCD0He9ul5dTS+2JntKqTiOjZZ1U5ZlKbWyo8cwDKWU0+lUKdXpdIajcafbM5S32khjGPckQBADADUAEhi1u7f1xYfkow8/GHzjlzzPW61Wk+Go3+kWRdG2LWfXaCBjrGxqhFCr5Hy1vJxN4ziOe91+vw8w+uzZs63t7VbJd3/0nht0iMuzLOG+J9sWh95kNKAEFsmqyOVqsVRKZJvEc7hWwB4PuOMghDbJatDrxp0QACOaZnZ50daxpfFYm3ZbT1mWLRYLa41kV43bWbKdyWCMIVLdbrcoKgiztpV5nne7LcY4CILlcm1M1e/3HcdZr5PNZnV+frq/15dSL9frKOpEndhgUm+S4+NjN4z8INrZ2bmYTueLVdu2DvcQ+sXZ6m1lmxsePLwBLl+s+Ntav637n1e877vr5Wx3d+dv/Sf/CURK62o0jMfjztfefjVw0f1722+/Ce/e3X/j9YeMkcgPDHc+Ndnd/YEU5e7eDiXw5PQKQbW1O3r65LJC68lwQgBhuK2r9cn6aqVTS8/QUihRhd2R73pKKd/1OGNaa6GEUtIaUQVx2O/FyyTdJKvFbIYwiKIg6HQR0HYhbIScrzfGrEUtAECc84ePHq/X66ZpXNdHCBV1NVuuVkl6584do2Ermul8ZgF4AMBms2HcwQjXos2yrCgq13HDMO71BtPZAhOIMSQQYIwQBp7Hu92u41CjZScOjTE2A4NzjggedDqz2ez58+ec8zt37vRHQ8qdVbLZGu1dXFy0Erhe0BsO7XIj29r1GFLO177+BtWSMUaMqQkrioKWpdUxUhoFrsdcboxpmsb3/TzPLy8vDQTbuztB4GNCLi4v7zx4MBwOT87Or2aLLc77TpQVeTbPKcMEgl6nA4EEsq5zcnU5bZpqNl3Y9rdpGiUlwdhxqGjqKA4wRmcnR1VVJInaJGsIIQKQMTYYDJRSdops6Rj2T8t+tVuQPVsbYyBAGNM4ZlXVWDmoXSAmk4kx0Frf9Lr9OI7rut1sNtwxhJC8LJUB2OHMgYyxZbK4mq81gHldSZsgnxbaWA0Guy3uFxfyW9URurnspxafvV3mbyoe/ryPf/vN1x2KRsP+nbvbZ6cnezujne1BW2dvv/Xq6cmzQc//5W++FQWeS3WeL5Ep51eZHVneORhIXV1dPn38+OX/4r/4XyabXMnvAgXu3dsCWkIDhGguL44rCgKfUuJoJbVSGBltRJFnceRTSqQUVSUcxxmPx9bVbbWYnZ+fSildzyEQMu6EUZBmGy0FpTSry+V6gyDx/ZBzntcVTGHZtIRQ4rCmaWxRxlF3ejVfLTeU0rwsDg4O7FRlPp8zBKqmFVJwP9AaSKkghP1+Ny8LiJnv+zYbsK2qKAzefustqeBHH300n8/tsMH6txRFsdqsEcFbO9tBEARRqA30g2hvb09QdzpfN62k3Ll79y6EBgANjTBGffrpx689egTfeP3Zp5/7hG3t7iCE5/O5LRGrd77pRIG1MVtt1oPB4P79+4v1cpVsTk5OXn/76waTR6+8vP/gQZbnGkDHcYoi25mMtZEA6jJLqzK3NYEQ2tnZWa/X69VKK6WUUEoEfsSdrTt3DhhBz59eWrNiBJCSEhGyXq/tnNUYY8uaEGIxkBviA7GLvd0eKaPGQEpZmqZ11SqlptPpzg6llN67dzeKouPj0/Vm9eD+w/GYT6fToqru3r1LqQMQnM1mAKLh9vZoNHnyzrvTxRJRGkad0WjUtBJj3EpF/jpBE/iyB9NfW/EvdvO3rjYAAPTKyw+3t/pSVZ9+8lG6md29s5usZ71ukGfrrfFAtOWv/PI3PJc8ffbp3u7o8uJE6bLbdTfpdLW6/OD9dyaTztXF8dnp53fvTP7z3/mfDoc+pfXeXn//Tv9bv/a1r755HwKhVfvWm6//57/z91995V7bFG1TYAz73biuy6apCEG9Xs913ePj4/fff3+xXg3GI4Pg9u7u3/17v00YTbK0qms/DCBGjsvTPJdGe2GwWK+ysriazutG1I2Yzhaz+bIVqijro5Pjq9nUcXlZV4HnB55fl1VVlFvjSVW3ddMAAC4uLhbrVbfbRQRbX6e6KChBgedrLTvdyKH4e9/70/ff/8u2rbWWVi1uoyIsFy2Konv37h0cHFBK0zRfrTZSakp4WTQPHz4ihF5cXACjQVNjRgkyZZV98cXnX33zq5iSVbLJ8kIDaPkq1irZ5gAjhHq93iZNnj17Jo2+/+jhKtkYCNI8q5r606dPZ+v10dn58ckJIljK9vj4eVUVSos0WV2cnZZlURRFmm0YI1rruqosHbeuyzAM4ygQoiUEp5tVkqwHg4Hv8e2trf39/b29/cPDQyvsJIREUWRbLDtztekSNhzgllCUZVlZ1m3bnp+fB35kjKnr1vO8y0srIi0RQnEctm273qxcj99/cM+qL6qmHo+2HMc5uzj/7LPPPvroI4CgfcnFxUVZ1BhjZcAtMvNiD2Prm91ct6qrW+3VLUBp13hLALHQbdM0hBKztdX/8MMPCZZBHJ8cP33zq1/xA/fs7CgOPULRRz/7kDPquvwHP3zn8M6do+lxGPoec+ez+fbORBs6X6wfP36YpIvhcPTa64/e/8v3RqOg24kdV7388t7OgwdnZ2d1lWjV3Lt/EARekWVV2TRNZYACEGitW9n4YbCzs7O3t+d45PLycnd/Z29/l1K6tbMzX0zD0McYY0L2dnc363T/YG+12qzXa0vTg5hCTJTUZd02Va21tn2kPQXarrSqC7u31aLFAEqlBsOhw5jDnKpspFGEObfEDQSAVNJAALRMkrXrulEU+H44GAzscLGqquF4RIlTVk2Wl47jhJFPKC2r6tPPftw2enq1bNtr8ZRsKtG0g0k/jsMvPv0MA+i4Tq9zoBtVaw0M7MSxPRgIIbwwoJTWbfPDH/6wVfLOnTsO54vF4vLqYpMkQoi9w3vD0SjLMoOJNDotcmOUAUYJoaUwALVa58lms1o3TdXUVZYJ25b4vh/4LueO1hJDVRQZIchorRVO09TGbnajeDwep6nlzAKr4y6Koq5r25ramrMHR1uOURgXRZFsMoTQaDQxBq7Xa8dx7GDVikWt7Ycd0yJEoihQRh+fnTrcPTi4m5VF0bR13QohldYAE8Ko47gAQcaYEvIXjqe/0N78Qvv+1yM4177yyBhDuAN2t4dPPkcPH95r6nJ+Rfb3d2eziyTZMGIur66Gg76WDfd8ZbQC6OGDl88vZ2ki4rj7wx9+cHw61QaFQbeu65deeunu4cFycS5V0elOWpEFIR129mRbZVm2nF+4Dh72Y86IjPVysayq2vM8x7GjYEMYxRg/efL51tZ4NBppI5bLed2Up6fHf/Nv/sqPf/QjCOFLjx91e/He3t58Pm9EzY3T6fVsBIPUGiGMCEEAEIRsZpA1n0izjTVJNMZwlzLGklVCKe3E3duMISEEwgBphDBECGAEgUEYQ6SBklIaAyFMU6KUAQBAjFar1d079zCjl5eXVdvsHtw5OLzn+376wQUhdL3c7Gxvx0HY1mVdl9FooNNse2f00U/e/7O/+F7Ig8f3HwloEESUkL29PQBAkm0sHyHLsourcwPhYDDo9nppmjaiFVJy3+MAXC0W452drf3dyA/KMt9sVq7naK20kQYoKVXbFMvVfLWYG2OA0VJqrXVT1aJpm6bxPNfj1HFor9chGFlLmbYVWsi2qldSFXXZ7Xa73W5Zlufn53bycEuwseVu112LLFkFoFLKetYGQTCdzgihlsqmtVaqMcYoJYRoKKWNaHWeQYC9kMRxPF+unh+dGIhd1xXGeAAqAzHGGhijtFAaf7nWb+sbfdlfEtxQaP69FQ+MMaSpk6ZOo9Dp98OT58v9/d2mrf7kT/6kP+j1eh1pwNb27rNnz0Ajnj4/26QldV0I6ff+7M+/8tobEHmPH311nSTHR6ej0Wg6nYWB9+rrX/nen/zhaBwTbLjrgDINA9bUcLWcOo7b78XWjMDCXkIIhIjdfaqqVko9eHCvrivr9vH82ecvv/zS1772NncZY8Q6KY/HozTbGGM6nWh7e2tnd//q6irZTOum1Fq3UtZlKYQgZKtpGtd1p9Npkq4xxlabLJTpBYPNJhVKKnMdFO66jhACQkgQAIS63AEQGoQA1BHxLDZXbeqyLBljEF8Ln3/4o/cODw+/8pXXhZIGgiRLl+tVnlaDQY9T9vKjl6JuIJq2bSpQFHVdbW9v7d/Z+8v3ftw0olSKMJZWNVTa7htCtb7vt0pKpaSU4/E4iHzO+ZNnT9dpstms+/2+53lVK9zQ39vbZ2FwdfSsEW3YiRiC0OgGQimaKi+yJK2qKvA91/UxNEoLrVxKMWOUEeT7vudxKVoprkMZGG4Yc1zXbRpR13WWZZb1rbW+9dq/9o6GEN7o9y2J8Ooq4ZwHQXRxcfX06dMoio0xRVHYqUKn07EyKEKY7/ue5xFGm1pE3U4QhIwxSLBSCmKErSeKBspAhCkAQJm/vrLhC17Bv1Di/6E1HgAAyKAXZ8nqzsHW+enz0bhPCDk7O7HC1qKqo7j/Zz94lzNnPB4fnU5/+W9+O0vlF58/efTgjb3tx+9/8LPlYhVE3cN7X8EEAqAgontb4/39fStub0VFuVs3VdOWVVlHkWnbtiqbum62J2OMcV21QoiqLuo6AAA4jqO1evTo0fnFaZGlg0EPAFM3pUMGL730MEmSwHP9g70/+qPvFkXZ63R3tie2gV6uV0opgrBUAiDEOd/a2QkDr6qqo2fP66Y8ODhwCG3bdrPOJuNtz/OqvLDHMoKJRakt+wIRaCC/zg4mGLPQWkI3TSOkMsZAAKSUQqvhcPjW194+PLz/3nvvVU3T6Q3KsmR443G/bouri+nR8y8OH+xvb4+1FsxBpdD7dw8AQFXedof9LMmPnp7dHW/P5/PlckkdUtd1UVcIY9/3/TCEGCRZutysOef7dw4mkwmEcPf1rz949AgQBKQ4Pz/P87S7u8MJlKIpC1hXbStqpQSj1BpdzU2utIiigBCEoSYUMEYANBjBsiw3m5UWEkJIKTPm2mtoNptZO4lOp2P7eGst/yIIeNvV2OXg2ufi8kprwxjL8/zs7CzwI+uI3+l0NptNWeYYwyjsFKjgnG+SZLHeRN3OnTt3jk7O8jwX1hMAI0wJwZQiCAAQVfXXVjx+IaPgP1juN6+CxhgShs7OzrDb9T/77LNv/tI3Ts5Ol8vla199vSzL+WLpuv5imb7yyivS4Fdff+v47Aqpbl0z1+v/7OOz/+ibv/mn3/v+/+W/+b1OCBACDx5u7e0Oul3n4M4dKTIEIYCqyJK6qlxGgZJlnpyeXyllGHW1BsYozjkAjc2GBwD4fsg9fnT8DBo92Ro9efL5+cXJg8O7Fxdn2sgw8JQWw+GwqcumqkCnU1VVWrYKGO4HyIC2rZVSUeT3uz3r21qWpVRtHMdxHGdZtlotBrsj68lhtYuhH1CMlTQIWf8FYyDCGFKCMCEMEw2v+aFa67KutDKIiKYRve5gtVp997t/PJ8vGee7u/sAgHfeeWd/8vW2rcqkmF1Ntak3q3AyHlCHzc+usiwbTYZ3Du7NZqtsndertFFKS3V1ddU0TQC8jdqs0wQTEsTBKAyUEnXbOI4jlRoOh49efhwEgb93D1AGgBZNAzEaj8ecs8XVZRz5SkglGqM0pZRgZEdFGOO2bQHQCIGmKRHWEGlHk+07e03TUEQdx0GQGAOS9SZNU+azMAy3trb0TYqqJS+laQpvmVs3x0GlFMbk4uLYdV1Kr1HLKIqEEIyxoszklfR9v9/vW0GCtSm+ms/KpgYQaQCdWjDGhdKEEowwwAhBAAAQWllzAvRlJ/jbukc3MQX//5Q7eNGv5r33fnD37r0w9Pv9blkVi/nMYrFV1UCMuRd99c2v93q95Wo1nOz9k3/yT/7Bf/a/nQwdQt2f/eydf/L5P3/z7a//H/93/+VnX3za7YadDhcyPz35tN+PmzqTsoBQM9aF0PT63ap0i6KKAo8wjpFTVZVsleNS6+xjT0uUJru7rzZNc3F1LmUbx1FTQaVUpxudHB3zwWCxmHHmvPHG6ycnZ524V5aF7+1Yz3IppUpEI1rcQHtLmqqyTp9RFIm6mU4vIYSj0agoilYIRIl1JWjrWitx66iogVJCaq2hFFVdAgqbptIaWEjbaEAAlVIWRVG3Dcqy3f39x49fOT4+fn58FMYR0KatW0LYoNvfP9wSsvz0048ZI1K1YRju7OwAP/b8+JxdaUCY664/P8qK3FKAhJKe5zmc94d9Y0zUiTu9rgLmJx98YEeeg93dVGlYVdx1hNae5x0eHrZNefTkM4aApUIgBBzHkaK1WK3WoKoqTIyWOM9TTAx3qUOJPa2Gnh8EEXe8pmmzJHddVwBhYU1r8G3nd5YwfFvrdgp7o3KS6/X66urKWl3bea11DLdOq3me9/t9a2fgOI4BZNDUi8WSOZRRtlqtiqpmjEGEEcQQQGWA1Eqoa+MWj7F/T1dze6j4D9b9z7mT7/zgL/Z2d4eD3uGvf+v09NwYM5lMzs7OWimH3X632y+rerlaP3786mw2+0///n/2+NFXP/viyXvv/ujxo9f+u//b/z3NxK99+9cJdobDrTSbex7f3t4ty3rQ76WZaZsiTZO2tVQ7EUfdx48fI8KOj86Hw9FqmdatsMdChJFSSqn63XffjaLo0UsPpGxFU0Ij/MBt2/b+/Xuu656enl1cnL399tu+H/q+f3l5+eTZ0Wq1akXtui4ywI4GqcPquk6TZLVaZWlKCElW66LIX3nlFcdxLucLG2O0PZyEfnB6fJxlmcev8zksj0oLYyDI89wJHACAVVdIrUQrAYJCqLKqfvM3fzNJspOTk+FwHHc7iOCiKDjk7tCZz6+Oj4/vHm4jx3l6NCvK5PXXX98/PAReBAxyhsPDwfjOpthskk8aM51OO72ulG2RFtz3bPsLEFwul40Uo9HoV3/1V9/42pvOaASaJoqs/6GazWaz2WxrMoicqN/v58mqqiotBUKIUSJFa0e5rtODEPq+F4c+c6BSjeM4mMAkSTyHt4SWZUkwQwBa/sw6X1tU0Tq/2m7eTqP0jZdoWZa20W/bdrVaI4RWq5XVelucnlJ6dna2u7urtZ7OLglFh3fvI4Tm83m3N3rw4EGeF0+ePoWYCGUgJmVZGQAhZRBTgDCE0EpSICI2gOzfj9X8tWSyf+ca/5u/9Q8hiz55Oh/nXlHS2aZlDpHI6Q47EphNnmlt1tMkiAaL+bJpmr/45E9ns7npqvePf3TwxsHp9PT//P/4b6Ko85OnPwt8tx+H6/nVvbu7bQUXM5EmRSZmvu/7abO7u8ODkHPuOM4mXQMoh5Pu9vbOH/3hH3c6AyH02Sdnnud5cfeL48+goyiGGIIg9LUWFxdzjOnB3ftO0L1KytWPPkHE/exi3gpwuanLGkwvVpzzne0JcznhHiTh5SKbT+cEIaGcs7PF9vb24f196kRSax4GGCLH9y+X86Qol2lGmSMhTNN0Z2sXGTCTM98NhBBODdq2jj0XAEAI7k2Gz0+OL86vHNebdDtd362K8vnz4/Orxa/++rejzujyZ0+iHdG2rdcN5sv1X37w7Jd+6Zs7E+eLZ0/nM3d3b5QuNkHoFvWSEBQMe72B+43R37PRYovFqt+2nPM4jp3A4y6VS9c3TX8Y7d6/06SLunrCow5oYla1dVP+yb/+QwyRKkXou1rzPAdC0DRJRVUYLREwRkos9VX6mUOoEhFQphd4UlDSGobp9va2QRAZBjFrgNEUlKq5mm0m/S2feZTSVspknRhjhIHT2QIoaR2dDg4OAADPnz93XTdN01YAQkgrDMKUMt40TVHWvu8SSgml4zimDs2K7PTqtN/vR/2o0KZNi917DzR3n3zxTOiWEoodjTBWACpttBYQYnjttAcjL3qRRvZltsyXqvxWIXX7bS928JTS64pvG/Xd7/5bY/Qbb37l8vI8jLyrq4v1eokJ3N3Z73WHl5fzo+fnR88v33zz7fOz+dH5R2EY33/4KIxG9OlxUYiqUUZD5vI8K8+PjlwGD3a3GtEeHR0rJfvbvuM4tpO2GqLDw0MI4WQy2dneS9Pi61//+qeffu55Xn/Qfemll+I+S7Pk8vLS42xvZ9t13dVqdXp6+uDBI0IIpbDT6fzu//gv8rLtxP2r2bytgOOwUX/g+76dz4u6Yg7KknS1XDKClWwxMBhbfxF0cXEBIRyPtsIg1tyvy6ooCiWysihUK6qqskicEE1d11VTUt+3VNuiKCCEnucNBgOAcFFVT548qaXZ39//+t/45e39gyQrLKwGENyss7wovvjiKQBovL0Vx/F0Ov38889Ho0HbivnVdDjqg7Zt65qhqBd3Ij84PDiEN96GCMPT0+fDfh9AEYYuqGrHD1WViTSh7v58Pv/LH783mUwIwg8ePLg4O3n29OlifmWkIEBxzh2GMDSibUTd8I4j6kZKuVwugTYYoW4UU0rTNKXcARDKwmRVCTFCjFovbGOM1lIrYVfxNE0vL8+Xs7ntdp4fPet3e1YEyDlnDuGcA2Dj61rXdaWUNmujqirisMFodCvp4JwX64JS6bquVQ5sNhvu+o7n6X/HCv0LTEm7ov+1GPyLT8K/Z8knn3/+ZLlIRqPBp588Vao9OLi7s73//vt/ORqN1uv1558dt42+d/jKf//f/7M8VUmSnVxOs6L+4KMvXC/aJDkh3HNDCPHR81OtWiUbPuienJ0/fHD48quvDQa97gBfXl4WRVZkhZAtRqjf67mO2+v19nZ30ySPww7QZjqdP7h/987+3rq8evDgXqcTNVWhpLi6uvAc/tJLL5Vl82/+zR92uoO4M3YcNy9lUVQOc5PVcrPJKcJZnhilfY8bo1pR52mqRNPrxJRihKABuhGVUFwbjAyEEKdpjhBarza1kASiLM/7vZ4y0hhFKU7KUklpeySbfSdVixDq8z733LKq86tFliY8irvdOAz9L774Qhk4GAwAQgZiDUHc6+d5fnZx+fClx3fvHP7Zn3/v048/o5iMxoM0zW/7hE5EKaXMCwClAEKgFGhbrUS/3/c6vhFF0xSnx8eTrYEBpq4bKNKLiwshxOHhIUGIu+z4+PlsdtXUBTYaYICkxAAro4VspWjiOGoI1UpBbWQrlJRW8dPr9QC+nk0yxrjnOi4njIFW13UrBbQduZTtaj47evpMa729vY0w3KzWvU43DMP5fB4EgQE4DMMoCq6urmzKECGk2439KGyaRicJhB3GqDHG6kiiKDo7u6iqyiDo+l5HdoTURVF4vm/lS9AAAH/euL9Yxy+W+20zA17o5l/8ALzANrvNOgYAkPUmW2+yMOp8+vkXb7zx+u/+7nfefOsNPxiMxgerVf3s2fnp6fnf/Tu/LSX+/POzX/3VXzX06RdfPF2vciFo25hBf1g1Yrlcujy8urxwGJAKbJICIjocj2eXF47nQ4gBQFLqfm+wu7cTBMFwOCyLCgAdhJ7jOEoddLvd8/NLAJUQjQV0A4+Phrtay7ooB4PR++//5Ojo9NfvPX73Rz8ZjHYI9U9OLu7dfygaXRelNlII2FQld/DOzlYU+GWRBr4/ngwA1KKppWmzfE0ZXCS567oDqZumZIReXk6vLi4RAAd7uzvb201ZCSU1BEI0nHM/9BQhlGHmEOYMIIRSa4iRNmB/f1cCvJzNu73RYjafzZZC6qptXNxfbdYGoCAMhVR126w2SRRFO9u7H3/ysz//8+/fvXswX1wePz8a9DrD4ZCTTosEqVpyk+hkb7vHXQCRUWB6dXV6eoIRGAx6WpofvPeD8/Pzre3x+enZgwf3T54fPXv6BcEo7HVUXTd1UZe1gIpRwinhQUAoJtglhDiEtk1T5gXUxhgNMCQEU4cR7jDuMJe7vscYa1RZSdG0LQAAaoUBlFLmRSal7NadThRXVZUkiWXXQAgZc4wxVm1jSb9ay7jXvdVJWdspTInM89lioZFfljVm9JalgzBElILrHv16JUc3Bapf9Cy46eNv6/6vciT1zwMAb1ua69dd+066rh9FUafT/Yu/+Itf+9a3hTDv//ijb33rWx9+8LmUqtuZ/Nmf/mi1LL7963/7D//gj/717/9bt9uVioZeFPjdoli1jSqLpqllVeQIYpe7cdT/ylce7uzuhL7X1LIpV+PBOHC9xWJWUNwJ46Oj5w8fPmyqkiBQlNVwOD569uxrb72erJe+x+LhvcViUZTZYNB/+eWXKKUff/hRnuda6/v37m1tbZ2c/KGBfLy1u5inH3/8aZOXvX4niiLXdZLNinN27/5hL446sQugcRmtq0I6mGDYyDorU0wDA3GaFpvNhhF6en65nM897tx3OHOcqqqMFIhA4hDu804UtIAWRQGNsSZKVdMYJRklTdkw19FaGmOSdON5PC+rZlOVvLmYzT3PE8aURaWU+sEPfnBxcfHK45cP9u989snHWuh+Zzi9vLiqZ5tVUpXXPsyWeu55nus6jJEk3TCGhKyfP3mutWjKZr1Y//TDn/yrf/3hvXv3ANTL+fylxw9Ojp/XVWmkUIho1WoloBEY48Dl3W438N2szoQQyACjNYTQUmXiINxsNl7gB5RApaqqaoSwIT+yaaq6zPO8yHLbyBGMdra2nzx5cnVx6TqMMVKWeafT2d6eGGOUBKJpa4QYI+Px0Pf95XJ5i9YDBAmjhNG6rufz+Wq1YuGQMd7pdCBCnHPH5W0jZ8vldWEaYACwBjsYQgR+8VT6C8fWF/uZW0uBm6+AF17ywhq/2iyrphJKJJk8Ojl+4823f/d3f3c82f7GN35pejXPsmK90X/+F+/8rb/1d776xub73/9+2hgIoTYYQUaw47mRVoh0ybQVXt/dJMvL2ewV8/jDn33KCByPx4fbu91udzq9ujg7l62CBrR101Q1QVgJ4XK2Wc+bOm+bcjTsRVE0L+YvPX7o+x6BCABd1zWlNAzj87OryVZvtdo8fHg3LxWE+NGjx3/6vb+I4iCOQ9flGIEoCrqdmDFCKHj51ZfTZJ0ly6JsXY85Di2KAhF4sHu/aaqiKJbrjGGkASDMGYzG0/kcY4gAZBS7Du/0YwwRJNhz+Gq9uI2rttZWjDGZZV1vEIcRAma9XG3t7hsDn2yeEG8bEEyZI7XyAh9CXORFlhZSmZdffhUBEIdh01aBF0rZruYb0R6BG5kfY8xxKOeMUIQQdD2qtVzOV0HAT47Oj4+ff+c7v5fVnd/4jd9o6/Lx48e9uDObXam2mU3PPcYINhQbjCDUQKq2baoaQ9FUSikDIKIUQwApdhzKXOZit5UizTZceXG34zisaess3cBWlmWZpen5+fnldOr7/tbW1p07+0myTtNUCBHHsbVv6ff7aZoKoa3H/HKZQAjDMBxtTQAAhJDletW2bRiGjDtlXbVSAATtZHc2nxtjGOOD0ZB7KK+qpm2xgQYCaBfkW4H2jVX1v6fc9Zevm6+/+ISgn6/x3Z5X1RuH4//53/8NIYTDMSHo5ORksVgqaYqiijv48vLyu9/9I9f1h8Ph8eXS98OmFm0rMEJAGysa2J5sX1yeFJWEJj87vej1o8nOzmg4yLNTCLDj8K2tnU4nKopqZ2fXCpCth9tisdRafvrZx0EQcc7WZ2vHcSAEBCKjZbfbjaJIKeO67p07d6tav/7aG589OTp6frK9vffVr36VYSllG4bhbHrp+97ewW5RZHHHK6scAE0cwlzHcSillKk2jIN1khpj0rQwABmEHR5Mr+ZZUQIA5sv1sN/FlFBOKY/LPGtlSxA1xgCg27Y2xtigi7yoDg/uQMoqIQkCvU60t7OdZPnvn57Vpru1tRUEIVDQ47xtJKOc+8Fmk/qeF/jR6enpB++/7/D/X2dv+htJmp8HvnfcGXkfPItFsu7uqr57ekYzI81oJFnyyLJ12Mba2N0PiwX2v9nFflnsF8OA4dsWBMu2Vh5ppO5W39XddZLF4pnMTOYdGXfEe+yHYLHZPT3WYl8QRDAZmVVg/N7f+/yu56Eba6tVt8p0WxTT0mkmcs4znKeEMgwhWHgiihZZknenk/2DvS+++OL5872f/PR/WlpZ1ihhCE2n4/lsGvieEjyJU8ughOkMIwhkGkdzweMogFhhjE3bdiwbQli0iHHOl1dXfN+PkphiTBCmlCqlBMKjaa/IP6ZJwNNQ6QQqQTGtVdwkCoLFvNZsYELn83nB/CqEsiwzSVKg1GQywRh3VpYNwzBtC2IUJxkhBGJi2qVSOZUAJVmqFGSMpWl6NhouAr/VWe50OodHR+CFmwfnyO6cLPsb3v3C4r+B4y+6fX7Rr19eZH//8Y0bN65fX63Xmv/5P/9nt2T843/8+//1v/wZggJj+sEHz1eWydbm2ulpd319o1IxTkdE02ieZbPpJArjZr1h6VqjWqEUa4wut2rlcukv3v10Y722vr4+nc232hWMsa6zCZucnp4+evzgxz/+tULwDGP87NmzdrsznU4Nw1JKYYyvbmwxjaRpykVGCbJt+wyA09NewenMRXJ4eLhxZTPN9sejaa3RHA/3pJSrK0un3aMkVQiBQb+/ura0u/ukXq+6ZQdCIBXnPAMYOY6zu+9leXJ0cJimsUYpI2Qym9uO2Ww2JFBEYwjjomvPDxZS8CwJMYZFIghCWK1WEEJhFGVZ2q43NzavQ8LMUkXXmG232836g2e761c3ECEQq1yI4XAIJOR5HniLYOFvbqx7s3m3e6rrmms7zWazEEYVXBU8ibqul0q2YWqHhwez+WQ6HVcq7sHByc//8r3j4+M7d2792o9/NBpOrm1vfPHZxypPkjBI46BVr2SRbxnMtgxCEFDnAEbTtCyPKKWmoVm2AQCASEkpKSNZlriuU6mVwzCcTEdgCqrVarvV6O4/jeOY57mpa61G3XJsBMVsOnZs07ZNKblrO6VS6VAeOyXLLTv7z4+LalStVhVKxnE8Go0QQq1O23Zcy0ZRmmCMdcOKk6zXP6MGW/ihruulUqmKSZJl0+n0ArcjAAQAUAEEICp8/TkNwdfWN8LWy9imeExKKaAunwmXUM1v/Ob3nz592u64tq29/c4rUZhc3bx2fLJnma4QKo796XT607/363me/4t/8S8hhFfWOkIICFGe5xo1LYOEvpI8DuK84lpHRwd3bm2/fPdm9/T4/Q/fv3nz5nan7XnewcF4ND6rVMr1WvPsbKRpNAyjk5MTKVWSpBDiKEw0ZnjAw7ZR0NJWXJfn2UcffUIRxhgvra9Vq1Wm5a1W68svvwSI2Y45n08NTaMM6wb90Y9/9fnzZ7rO1tfXnjx5VKtX5v6Ci0xK4bouRIhpxuFJ98Gjs3K5XG+0jk8OD46OqmX36vZWp9kQSkmpnFLZMvU0ChVAtlMSQozHY4QRhqgglxwOh57nW5Zj2+be892GH1TqLQVxGMQp5+WSM/OOPG9W3aie9Qa6ZnqBnyd5q94AQvq+P5lMtre3166sP/zywebGhpTA8xZBENi2RTDTDVYohxWyHFEc3L9/v9VqpWk8Hs0Mw/rJT/7Om995R+bZ4wef93q9pWYVI0AQBDKzDEawAoobzDBNp2ijyLKkWa8WRHF5EhONNRo1gGCSJAt/LpRdwN+SZaZpOh0NI3+hU1KyaoPBoNOqLxaLo+5pq9XCEHZWlpIkynIxHA5GozMh1MHBwcrKynKnleeppjFd15MsLUqzTNdOTrsry4ho7Oi4OxwOTcduNBovv3Jvb/+kWtWklHEccwmKhLJSIOccAFRIlMkXDckAQEzxxTAKfPH65Tj14sfCvi9QTcE7+WIhjPH51N+t2xuU8Waz5DguzxsnJ6e93v6Pfu1XPvjgo3a78dKdv+v7/vp6I47jt9++43neyak4ODj4wz/8w5/97C+86YyghKCk4KPKhbBM+tHHH1Srpa3r1+Ze7C3mH3/S3d/fZxr51V/9AQAy59lkOqcU9/v9arVaLpdH4/n6+sb+/n4UZ9Vac5FGQZAIMU3jWGcUKOg4pWazdXLcf7r7/OCwdzacK8Rsx2aMIkybNefk5CQM/VrN3d19urLauXnzpu8vcZFBCKfTsW3btVoliqLhYKAAmnrz/aNDivCdO7fW1taePHoYRglm2vhs0Gk3x9P5YJC0mnUKESaMaZjzAWMMIMBFLpXgnEOoMIaWZZgL7fT05Gw02bp+k2pWq730B7//+9xe3t3dkVJuX90eDoaEoM7aCs+EQhAgSDQmlLy6sbW7u7t/eBglCaV6tVqN4wQAFcVBFAWdTqtg0O/3+5bl7Ow8Gwx606n/j/7RH/7wBz8aDocYKAkUY6xeqwWhJ0WaxwISCRGSUHGKBCVQEaUEADKJQwgkIaSgGYVQYYI1jeYi4yIr6qO2bTKKBc+yNEYyD70AqNybT9M0rVdLUAov8HWjUB1FYRzxXBBCIKFC5CWrHMdxxHkxziKl1DRWqVRMy1mEgQygbduQ4MUiOBuOLcuSECgAJATylzT2QggRgED9ElDyC27+cgMC+BrK/+oceHEUKAAAWWq6MmuHi9Gwf+zNw2dPH3/80ad/9Ef/6Mpq8+jwuF62llrlLJ4iIL/z1h1CyJePh5QkPJ/Np0e/9Zu/TTHtdXee73lXN6zBMLx2Y4krmeV56E8PDw/a7ebmze3xbEopVggeH59EUajrer1Rtd1ykvPj7qDX6xtWuVxpKaUePXneWmkChZM4j4PYNLTBoHd0cMCovr9/aDnlzc2Nt76znObw4Kj7fO9oMpuvLG1fv7GVZVn39OStt9+8cePafD6bzWZFH9V4NJ9O5zs7z4ouEarBztLS1c3Np08effHwwdrKUppnCsEvHzwY9PuvgpejKBJ5blnOSbdHManValKej9MXBOIIQ8oIIUhKaZrmaDJnun3rxs0046PpDGP8937vp//n//5/vPfXPxdZXnGrrUZNSilkTjBLkijL8zhL1zbXHbd0cHLkhf6t6y97i8UXXx5ykZqWXqm4GU8fPV0kSXx8cpJzPp3Nev3R7Tsv/c7f/b12Z7XrR5nkeZ7rOqvXq1CKcsm2GEqChQJcCaUEUoJIBICUQIosTjCAStcwxkVyGyFENaaJc7pgQohGGQKQIBwlqRRZmsSWps1TT2RppV7LcxGEaj6fYkyZxuI4FjIngAAAfN83NRNCBaWM4xgRbBhWMTCVjKemaRKqZYKnQiIcx2mSeR6A+L9jxN+4/kU8c/mGX1zgReUVvIhcL2z9K4sfD/sYgvGwPxpO6/Xm+upS4C2ubV0JwziN/XrNMQwWRfMkiYUQUvHptH/33hWRe3durayvuh/+zUcrS27Jxttb1z7+9LNySbu6tZkK2R+cXd1c2b62HiXx8upKq9UKwrjeaEGk2u02IThJ0jAMTcMuV5offXzftkqOU4qi6NnB/tbW1srq0vHh3ulJdzgaMIza7fbW1hYiGqFsPp+FMc/z1ClZiMDRqL+0tLS83Op2uz/4wY/r9fr9+/fffff9zc3N6XQ6m80s03727Blj7J133qlUKs2l5nwyDeOIZznEOOO5VOrq9rV79+6lSdLvnmCIPD+azv1GtZZmAlOECcyyLOfCsqySZSaYAAgD30sTHichIlRjpN1Z1kwrz/NHX9zHCKRxdHS4HzXCpeZSmmZAQi7hSe8EUbS+uqqAKterJ71ulEZno+Hy8nJneWk2nwSBl2TxIvA8b2ZaRhgnnh8Yll1vNH/v7/+Da9dv+UEcZ7k/Gz99+tTRyXQ6ztK4ZFBdw1gyrDihiGCEIEBAAiAhKrQFBJQSUaKUzPIUYkgYpTrDAEopoFKc5zzPeJaKPBM8w0gyCituCSqJgHIcS0ruhxGEinNOCNahDoASSR7HseKi3V5ijE29ueSwUqk4jiOBwowyXUOE8RQWFMRcyoxzBUHBl6cAUPDFlwIIwnPkrQB8kbEBCqhfbvGFcV+Ye8HnfsFVVpwRL9oNLlm8P/cIITzNRJYrLhgit2/cgFIF3vzOzRvr62uPHz+czsamqSOogJLf+5WXA2/x6NGT3/iNd7Y2rmys1ly3/N67HyZJ9vYbd/YPj9PEby8v27aum9bhyQFKgkqlMp3Pd3afXLmy1mg09g+PwzAcDAaDwXDjymans1KutKIoOTo5wxibpjGbLebzxd7u4yvrq/fuvpolke/7uq7v7u2fdPtMtzsra5rhEAKyPInC4KU7P6aUdk+PG41ar3f6wQcfJEni2CVvHhi63Wwtu+X6z3/+7l/+/G+2t7exaewd7KU8X1luX716VdOZoRvb165laTrsD9xKA0j+bG8/WPiG7swXg3YdQ4SKvCQhxDEtjIMgiJI8ixNu6XoaJz//+V+aVskwbUq17ZffajVq3/vOd05Ouu+/95E3na0ur1mmvbq60usNhOJurSwF/+73f2V5bVkppUGn5Nq6zvb394YjhBCYzUcpz7yzBYQwShIF0e2X79577XWqGZ4fUkrTjI/H4/WXb/EsW1lZ0hR3DJQEEEoOoaKUUooJIVwIAIBOKaNMY6yo8sRJIiEwEEzSpCj1E4QhAEkYeZ4Xh5EGMwTkdDpuNtuoVvYXYblczjJDN60wjtM0d12XMBpFsQ/9PMzns1mtVnNdx5FOFKdcyYznBMF6vX7cPfHD2C1XddOc+X6a54zpGc//+z7+Gyjll61v2Ld6cXxdvCK/Vnm9ZPHe1AMAWJa9vrKu66ati0qlWq/Xr21uSSmjKJxNRv5iHgVQKdls1ilOmi0rierVMgmDwcb6WpJkr9zd3D/s3ry1ibDIZCJ4nGehUzK7x/tvvXKv3W4Ph0NMyNFxN06yvb29er1OiHb33usbV66enp7dvPXyp59+/uzZE8MwHEdjTF9dXe5qx/PZol6vOi8kCSCEUnGIlBA8yxK3bLeWWuP+k7/54N3bt+68+fprDx99CRRaW1vLMv4nf/KfWu0lz/O7p8Pf+e2ffudt+Mknnwz6k+uv3FjfWNd1LUnTs/HZysqKzPlkMumdngKhOq02RXhnZ6eztFqpNnZ3dkqmphsMY5gCoZSgDBf0i61WI83ky80lqplpJru9M6WgYcJg4emMCZ6lcby9dZXncrGYu647nU49b+aHi/ZSmzHm1tzr1s08T1cb29PpJAgWGc9zwZECo8k4ikJCSJqmEGPLsX/r7/ydztKKH0aj8XyY+P3uyXQ+c11nOOw7lh3NzkKeO4YGJVJKUEooZZgSoqgQwiAYEcIYIYykgnORoxxqpjafT6UsmZrOKIZQ5XkaBgvP82omUEqNzgYl23YrtTRNpeSS5+VqDWO8AFG5XLZtO4giy7K02cybLfIsU0o1Go04jqMsD8OwrGme5wGFAILzhZcLmWUZpkxBIOHXQ8rL5q6+BmMwgABC/v/Lx0spz2UTXhj9VzNQjLAwjKmj26azWAQa0/f3DrrHpxDCg4PnURwOh71WuwGAiOLA0AmrUEN363WTc982kJTRwps2m7W11TcFoHmePT865UrMZiNEyVtvvX6493wym9q23Vle8n0/FxwR3Oos1aqNPOf9wbg/GN679+bmVvLhh5+f9qY3r1d7vUGr1VpeXqlWSqtrnTyNFos557zZbDquiwjjCvlhwjkHCG5ubiil0iyBsMwYGw0nz549i6NsdX1te+vmZDK9/9mDZ88OOsurze4gjmOMoabRjKeNZi2Koul8ZpsWIlg3zF73dDab6cyYTuev3ntNKTgcTQyGnJLFGIuiKI7jSNPyPJdSDodDISCElBm2bjimpbc7naWlpWHONWZWy65560anvfLX773//nsfzGYzt1xljCVecnBwsHl9Ewhg2AYT7Pj42LatWq1248YNuAP2D3aLfpuCAa/d7mxc2Xz99TcxpifHx0EQjL2J53nVanVlZeXB4NgtO5gHKosEz6HKIZAAUEygpmkIEakU5HnReUsp5UApca6JUkgwhAvfNIxquVKYDlIgTkJDtzTKgsCvNRrVciVJ80Llj2o6YwQihRAql92C719nGqWaUsowNF3XYRACADjn8/m8XG84qtrtnS4WC80wDYyLagD42yJXDCBQvyyffmmH/HI0D1/wMYGv1V8VAIAcH3cDP1ISA0DyjF+/drV3+kESZ57nnZycQiSjKCIEtVptqbjjWL43erbzoF5tLHdW0iQ87R1urF4NgiSScjz2y5VSZbGAVJ/OZ4NB7+7du3x97eDgoFyrIoqWK2Xf969ub1XqtXKl+vTJM8OwXn/zrTBJu73BZJ60lpylpRXOM9ettBq1smuWXHM6GhLChMiTJDnpdv0wtkoV0y7Npotu7/T1u+sIkeVlIKXc2r4WWdbW1hZQeGd3/+DgwLHLtm3//K/fe+ed7zYaTYzxhx9/tLF+xbbt7e3tQrtUKTUYnNWrNVM3HNMBSn3ifeQHURSGtl2aTo/X1tYsw4QQxnEcECIFAABgjEslN4qixzt7lJlcqTDKEEJ6c82fe1tbW1nGnzzZ2XnytJi+29ndvXr16txf7B/vb2xvzGYT07YAAApShaAX+PVWkxmaWdI3ttaHo7MoiqqN+tbm9ttvvyOAmo3HvbPBlSsbXx7tzefzqmsghObzuaMpCCHBMAlTqHKCIaEcA0gxIYwCiBM/BwAgADHGWOKL4m4hqz2fTDXGEIAEIsMwRJYn82nB3R4lMZDSdd1kOHZd5/HObmdpufgjYETdStk0Lc/zCDr/TM65rpvlcjnNeJIkrVaLA8gz7rou1fQ050URBohf5rW/JXL9W9cvJmq+NeRVl9otyfqd5nQ69xaD/c+fbG3c6Pb3uQw1ov3ar35nZ6e88KeQXilXrNFkoLD0M98sdV57fTuLk/7ZUKN6GmeGXauU60IC3ZGDo+5f/tVfrm1slCvl7evb7Xa7YdCbq42zYT8KF9tL1X5vIhVfbuRPnv7c1Zhp5s/3/ur27VedUrx6hXz/h29RNOccjWYP79y4udQ2eZpF3iicTUejSbOxdJzkIkrm0VnqpHGa/JM/+iPEtI8++kizWnGefXL/yd2Xbnt+sLu722q5jUbLthzHIh988EkajE9P+8vLyypO4tlstVHbWGptLjd3dp6srdZ3Hj+quVCJ/Gxw6s395eXyZHo0ncxNw7DyK+PDPCslaU7CaMFrtN1uagYYjc5sW8ymPUPLl5as4XA86T185ebS2eFer9eLJlua4YxPT955+w2zVF5b3/y3//4/lsvl/f39Ub/XcN3ZeMQo3dhYX1tZxjKTPIkC5vt+vdG5+8qbo8msoPhDGEBs5hycnHY1jT54+Nm4e8wo/J1f/3HkzTQkRRRBmeoaYZBFYZJlOQACMUhNqlEKoeS6LSAkzNSIhoSCWSx4koG5mQmYZEpKvpiPQs/QdEsjjsu0+m0ppTCVLeTcT1EmoWkGQjbXr+YKASDSjDtIiwPROzo0DCPMMsvSmV0xHXe+WAgJOiurCoDe2XA29+Iko1QDiEohMTIMx836Yym5EgoKoIDAAFAMIIFKEYQQggQhChSSEgghlVLUKAgRRCEqUaCXIj1/0SN5UW2VUhYianmewxcszcUsSPF2AADZvHoTwUPhCEuvWJZTrVbhJsqTvGCRNkxNYY6QtCx36o1n04UW6VmOvvz8i5vXbgiJo5h/9tnDGzfufPThxzkHL71099d//TdzAS3b6fXPvvj8z5dq1SBc2IZuWk6lUqOMHBw8L1car73m9vrD4dR7+aV7cy94srvzw1/7VcuyyyVTCYkRyrnY3z8o2U6c5c+eHZScsuk4v/07PwUI7x+f3P/iwT/5H/5pLuS/+jf/rtNp9U4HCojr1699/NGnf/3uz9vttqGZrltJSYoxXl1dppQyRh4/frx8pdlut0slu9s9vba9RanWbDZ5ms1ms/5pT2TCMCxN0ymljQat12rjvV4cxwpKpc4rHVmWZCJzXZcyUm/UZnPv9PQ0SbJyuXzaO6m2X5rqbG93Z+3q9p2XbumWu3n95tlw+vt/8Pf/y3/+M6fshr73X//sz9qtFhA8SdP5ZEo0VnIrTrkSxhEXKkqTdrtt2hZCqOw6k+Ho+fM9xthyZ+ls2E+S6O7Lr928ef3Dd39Wq9VG3ZlrWVhmQmDGdAAAxAgCrFTBSUaKHjWMYTGZihDEBBYd0ZwRQogSuJCayzIJIVQCKAAKyUEkVSKFkoASjTBTKiAliIJQCCHyJE6TwqfO/QWXwK2US6XSaDwNgqBSrdeqdYSZHwRSgjQXnPOCKOES0lAKnNdHv+GSC09d4PLLcOUCtf8yT/+Lv30BaC5nJ8fhdBxWSpWyq0spoyhJ07x/ejqdarVarVqtBnEw82ZAarXKSqMO9vvJ/v6YS+voZHb3pZdn4+MHDx6c9YPvfOd7cZL1B5Neb/D+Rx9PJ3GzVas3Gx/tf6bpdKndjuKFZVmvv3EvjhLTKs3mp45bmy3Sw+OTtbWtl+68kmYi4+Dhw6c//OEPTd1YzL2ZN4+jnDLzd//BHxwfdZ8/PwgfPTs+7em2/U/+6f/4F3/5V71ezzTt0Wi2vr6BEHjvr971/cWrr7x+2u0WmomUEMMwXNedTGbtdtu27VLVqVUbCggI1fr6uhJcCDGdToOFP5/PHdMpl8uWZSkJF7PwcHFsIxqnUS4STCAmQEqeJEmURoapJ2lsWZausX6/5zilonJ0dLjHhaQYvPP261Em3GrLKTnlerPX67/x5muWbXzx2f1qtVyrVHunJ493nk7G1V7/rNHuXL9xq1KtY8Z6/bN6XZxNxwyT/f38YH+PYby1tZXx/ODweOPK6muvvgygiALPMKiuM11nJjX8WYoggBACBDEmUoA8F5gRCBVjBCGQJFEcRxDIQsC66PLAFHEBoURCFfUolUOOCcGUmYaBpQq8eZbllk0ppRBhQhgCmHOeZ3mWZRBioLNqpSylnEymBQX+cDjsD4aGZfthFMUpAIBLUDQ2Ft+/0SAAz3VsLuFyABGC54TAvwDQv2HWlyPXy4jocg4HXK5A5SnByF4EebwIIFA6MQU/l0Q9PNyXUgqgWp22abi5FJPJxA/IZDhbW9vaefp0aSlbv3L7wcOjTz55Ypqtt978zp//tw8DP95av/354iFQmqmV3/jJPQXEbDYZPDp7/PT5rTsvubU2QKzWWD4+6XaW189G86kXtDsrp4Ozp092bUv9t7/4q5XO0vXtG3GmDMOwHTsI8mqtE2fQ8xdrWzdW1ta7p2dOufKj2y9/+un9P/3T9z/79ODaVq3ZrPf7A0rZjRs3JpPJ48eP8zR3XbderxqGoRGt4pY0x6jVan7gYQg+/OCjJI5c19nY2KSYlMtVIACGGCFUqzccqzSZTNQiynMFoESIKMXzPE05EZKHoV8o8TJGqhXXdSslx84zXi07T3Z37r3y+qeffLh98/ZwcJJkKST6bDJeWmqOx8Nmp/nOO+88efhIM/SnT5/uH5+8+urrr7/xxu7e8/tffrGytoYIm3qLs+Gw7LqTyWgxn37nrbfSNO2eHruu+5OffH+p3fib9/5CyNQP/Gq1orKwVLLDYE4pBQgKLglhEsA8U4hAKTmESgEVRWEUBRpjFEHBJYYwlzkAAGOskMAACSEUkHGSMR1qSiHCsBJxHM+DUEgASazpRq1m2radxBkQESZMASCF1Ayj0HbVDct2WRJnceAvgrM05zmXCBFECEEUUCSlzFX+DUN80eT4FckeBAgAVEyDfM3Jf5txX/z4i5tBXZr7/sriuycTQow8TZJUlF0rjuOFN0EYDPsDSmlneVVKgJE2HC2q1erS0tYnuzuptB8+Ph2ehf/+3//57/3u35NS/+x+RPFnr9777ttv/qDbPb26uX1t+6UoyZrN9rOjzw1DY8z+yW/9lGCY5VBKsrt7vFgsMiG7p3t+kLi1hh+mumEzzTRNa3V1VXCOkLG8cnU6nt7//LON9XWMqBdmo3Fgl+DDxz/bfb4Xp0nJKTOiXbvWDhfeF19OXrojq9X66GxYKbu6rutMKxjfe/0uw4yW4O0718NM7O/vz6bjWq0iRG7oms4IVCoKwt5JN01zDLFbqmjEJISZpq24hEhQSiCBaRanPNUEIwRpGs2yLM9Ty7JWVlaUUtPpWCl43J8td5YrZWs0nf+3/+dP660VolturdHtD4MoNQ37e9//7sbG5gcffRhFkSJo4+rWcDI+7Q900zZt+9GTnTBK3nnnHU3T5p6n6/rSrVud5aXRcEAp/Y3f+smtG52z09OHDz67stwOwnmt0xA4T/MMIaTpTEKQZZwyXQGUS6kDIlUqJC8Y8dMsVpJDmQOolJA8TyXPAFIMMwghkYJznsSJgrDgfAQQpmk+nc6zXKU5t5ySrtmGYVENAICsUi6lqrQaGNFYpSW3Ui5XR9MJl8K2HZRkVPCcSyGUBEApqAS/kD+4QDXgRXG0YO0ozBdBXIxiK6VyCC5s+iLjDi91kl3eABf5ygtzf9E/fAnVfPn5zuraMqOo0D30Y68/7ALFb9y4MZ8tonghJCFUzzLZH8yydMSFlaTy0ZMdhoAS/JNPHm5u3ak37l+/+fLnXz66c/POk8d7//Zf/wfLLpXLle2r1wQkQcQ5jyzb6fdOd589v7qx/sWDpzNvvrK8Nh77H3588Gs/Lq+sXRmeTVfXrzCSjyaLJIwgNA6eHy612rlEP/v5B9PJ/A/+6A///GfvpXn+/NAvu6BSLwVx8trtG71+98rtuzdupKPxmc40jTLBZf+0J0Su67pt2KtLS5ubmwV50H/6sz8dDs7u3ntJ1/UozA8ODmS+2qhXfd+fzxc8y8vliq5phfxnvV5PCUABRAhgAhXIFRBScgghwpRQlOUJ46RSrqVp6nm+Uqpkl8dn3SyPCTO+/913Hu/s16vtvYO9Rnt5a2ur0eoAiKhuvPO97/3sZz/7lR/84J/9X//3xtZmt997/GRnOJ402x1N1yez6fe///0//uP/UK1UVldXXdelBLm25bruZHja7T43NcSzkGKQprFjGJOzvlKKMZ1zKSQiVMuEUFxhypAIpcwwhJRhnEDOs0RxQkgShUpyCKFGMaaEICQEUhACxAnTuJRJllFDL8oCQnphnPhhVHLKlYpCiFCmWbaTZRmAFFMGMfGCME5FkqWcC88PTdOE8DxCEEpBiHmWJ1GMIJVACaAEeOHmASiaGyGECkEFIcAIAAQVBEohpC6SLZd9/EV+/bKPB6BQsfyaj5dflxUhllPhOciSiOd+GE50TVVrDoLSdmi1ujKdLjwvvv/lFzzDk+mCc5WV7h0d94XAmGnrG500k61W58c/+tHS0tLOzk6z1tzcWD85OVlbXYYQv/fX7z48fcI53766QXRHAAqEaLXWCd1VMvziyyeNVkcC8P4HH/3+6tVqrfHhBx9CmP7kxz/JStnZaPb06X4QcADQK6+/M597H3/24O6rb/zJn/zX737vdrfbff7c275W39t7XqmUHz16xBhZ6jSuXd88Ojro9045z7a3t9dWVgAAQognTx9BgGfTaZaki0X8/PlzxzJb7UYhWEAJWlteCRdh/7TneR5BFCjk2m6zVrfq1VzkPEuLRL6QivMsy7lUuVIKShV4nuLCcRzXsYIgEHmkMXRysHvv9bd2dx4gqKWxd/f2dS+M263q3Jt0B6NyteaWHbdSshz7d373pzs7Ox98+GGYpM1Wq1SyISKmqXc6rUa9Wio5EEmIRKfTQAqcHO9n/tM49KsVS+W5rpMsj1JicCWBAhARTBjiAFGKFRJIUKrpkmAIi9Y3yXM/WORSUIgLzSkCMUAIYgwRAkoqCBRGhDEJQJplZsktOWVdM9M8R4hEYTKZzHIBNU13XRcSCqXqDYaVSiXJeBiGEoBqteq4lfkimHs+pbRQAYGYUooKHr9vIOzL3vrrMSgqKlXyvH34vOMXAlg0Ep+fDAAWrhtCVJwY4lL3/HnxVUp1XvRSAACEMfUCP+OphHI6HcbJwrKJQkkUzyHO/HBWqZY6nfZ3f+W7zWYzSRLP8wdnozwXmJKTk5MgXPyLf/nPR+PB0fH+rRubls3Wr6w4llZxLccx/s1/+H+Ybp90BwqzlbWNRrPjh3maScuqzOfR6vrmaDSrVmi1Wnvy5InrurVa42wwHpxNcg4Q1iZe4IdZFIvj0yHARsZRkoFbL9/u9Uf7h97SsjUYjAskmqfZ9e1rjLEHDx6cdo91Xb927VrFdabT8Wh0BoD0ZtPVlfbqaicIglqtVJSTxuOxpmnj0RkAIAxDt2SXy2WoAOc8S5LBYLC3t2fbNsYwF5lQElNS1G6KXlHFBSEkjuPT09Mkii1D51k+OjvlebKy3O539/d3H5saOHz+9Iv7fzOfDD549y+e7z3ptKutRjVNo6ubV95996+2tzfb7aZbdtrtum0ZSRK3O42f/MaP4sj/zd/69b//e7/badWQzNPQn0z6eRaPBic8CZDKKJEEK6iU73uWbXMlIUYAYoUQRgXrC4YYF2FrodhsWkbhDjHG5zaAYMEPIwHgUuVCAoQQpQqAXCpCNavkmqaFEbUsBwDkh/F87s0XXpxkAigJwfLqKqaUalq11tSYEcapEMqyS5qmFZpQuq4bTCu4zQo5nW/LpXy1vjXx8o3r/85bvnHD5Zjh3MfP51OEpd1wrl7dPO0KIYKpN65X3ak3RATpBtEtfXNrfXX1ymnv7IOPPoa1DV2j42HftlEWLXyvV3ZM02q8fHd7qd1GCAX+6M23XzYN5+OPP726wX7+7tP/7X/9w1dfuXvaG3z56HGepLt7B0mSu2611VzavHrt4OhYKNjt9Xd2dt566w2NEcOwlMSj4bRcrvlR2u8dlUolQthLL71k2ybTtVu3bq2u7oeRv1jMTU2/eeOaY+uz+eTq1XXbZ2++cS/Lknq1bFmG53mrKysPHjwwTE0q3ut3r25eGQ7Obt26t7P7ZPvq1TSLW62W5FnJtYFSoR94MwKlQAhYrr203B5PJksry0q1J+NhHIeabsZhEASBYei27URRpGuabdoFCStjLM/i0J8ByQEiQIInX963SlWdkpPDZxtb14eTkcrXXUs3NLzUab791usl2/jp7/52mmbD0cT3/TjNXdcNFzMpZaNW0alqVsuBP6OQyyzqHu2hxJ8H3LYMAlESxxgBBOCwP2g0GrOF55Yqmm0hSIhhBH40m82ybFJQp8xm0ziObdv2fX/uLzqdTqF9qYCQADLKZJZrhjkLFk92n7XbbU2h9957zyq5jUajPxjWW87y8rKCGGKk6SamjOoawAQgQjUEEMuyjBlmmmWDszMpgWEYQkklIKM6ACBP0iiOhBASqPNYEkGgCjJ4ACEsWsokUFwKBVEBeZRSmcgL7F6IxFwkfL7qn7kkfKmUWgS+ekH2fWmrwK9wfL1V8eaTMPSlbDSbjTAEi8XQW8hGo1GvV3ee7q+sWrN5vL+/12o3Xn313s6Q1KvO4LR7fNC/c7u1vrJZc8133nkdKckYhxDqurx5ayNJMqYL38v+4T/8dd0ynzx9uvfsWff4tF6pPn9+0O+eYoxd2x1NJ/1+HzNqm8aXX9xv1KuM0Eq5xph2eHgiJBJxugij0cTjHBydnG5urK+uLhOCOkutKLJs08B5wjR0ZWMljiOC1ct3b0vJJadx4iMsa9VyIfUYRUEUBdPROAfG8nIHYfDW66/fvnOz1z3pdrsUw9HZwLZLV66sMcbyJGeUEgShktPZ1Pd9QlExxB2GEee567oaoRhj9IJdmkAEBEAK1GoVxnSMUZqlaZwKiTjP0ix2ytUs9HiysDUMZPrdt9+YL/xb17Z5nDLGFoHfalTTPBdCFVTuWZZQjLNojqSkgBuMTrMw8ScWyglQGoZRFOZpCgEol1zTsef+giLqlquYUko1QkgYRRBCk5hSyjiMeMYhQBCBouMgyTnABctsIiRQAAkJsjyL02QR+HjMKhWlEOa5IBQ2m23dsAHCuZBKIQkRIJhpBmJakpyLTnKhhATFVAdCSgFUdEFeOF2kAFLf7q1/mYcGANCCogydszxIJYvBQCAVUKroDf3q+99CPgkAAKTX662sdGybRklsG+zqxnYU1aLYp0SPojSIMiEUBFhBQCmpNWv1DO7vnlRKgGDQbthvvHG7XXc1xk1dS5I5xpjpLElmf/XX73MR/c//y99dffnHX3xx/9HDx08ePxZ5ZjAtjoI4DF3XvX///muvv/LBB5PrN2+cnp6WXev+Z59UK03L1JuNzhNrR9f1KMndUsWHYcF1OFt44ijbf56vrrRb7SajaNY/3n326Iff/8H+wa5u6M/3d8qOvbq27J1Mm43qwp+dnKirVzd4ls7GE8sy9o6Hr75278qV9Uatcv/+p9PJaKnV9DxPAYGg0JhhG3pOqKGZec69xWw4HmOMKMUYKiFyjJRp6bZpQCUwJgTTPM+hkAAjKQFUqOyUIISc84jnPIm5VBBIBOQ8S/M0W17buLLcxExDloZmY5lFSAkgJJZZ2TE4pwrAZrOeZolIMp0xLtMsiY72dg0Nx1FQL2kgQ5RSQ6PBPI1CHwBQKMdzzgVUmFFMCKaIUJzlCcbYpDiOYqgAxrgQzYyjBEKYpTnBlOl6xoVQCGImAY6SxLRLzA+jNMFhJIUKgijLlWFYQgJGqWEZRNOtkmM6JQVhnmRBmF/4WimVVBAiAi7Ry3wrFIEQQgCV+oqx4xfAzAVPPP5GfkZ9fapVfX397RYfBEGr1arX3IV3RhkruVWEUBRyb5H6gddsLEuFpEStZmd//4gxtrFaG3brW9uvI5CWbGpqAKhoeDbWGOl0OkJkOc/MUvXGzc005Xap9OkX9x8+fDiZDK9d27JNKwnCwJvrui5FnibRzpOn17Y257Npp90aDM/SNM6TOPKDyA6TJMnzfDKZYEQL/qCSbVVrJYrBeNT/7P6nr7x8u+Ta3/veG93uiR9MR+Peq6/eoyRPkvjsrNeol13XyfOUi6xqlznnz/Z2Z9NgeW393r2XxsPBl18eACU2NzfKJadWrezs7GSaZmo604iSXIE8DP35fBInwrFNznkY+gjIWt01dIsxBiSHEBPCRCYUgAhgyUWRRS74GRXPMQSUYkOnhsaEkrk/1xQ/evYkzkWSSd2yAz+qVctI15DMiQQL35NSxgaaTqeOaZ51u4P+CZJiPOw3qhWexDKNXNOyLKsYTykG5GezGee8VqtxzhHGQnAphVIySgJKKVE4DGOESCE1FUWRlDMheNGYbVhWkuVKKUwZpkzB2LTtmmj53iJOUoQQRMVYkw6E0nVdt23DsnXbobqe5nnGeRCEF74ZIQQhepFZR0oVQ9Zfy50rBBSACkCloFJQQgARBEWWBkGAkUIQFByRCgClCEKXs5OXq1dfj02/Rrn6i+tiF5E0491uP88yjcKy2zL1kqmVKqXOgwdfEGKUnCpG1sLrUxooSFdX1588Hb56986tm5sLb2SZKInnkzi+ffPa2VkfQz6ajSvVBkQSEzg5G88W8y8fdPf29ob96Pvfqzbr1d3xiDGmazRPs5JjHx4eMI20Os3xsIeRWl1p7+2e/sXP/hxAfNofEmrIPMMapRQzxnSDDXqnjXp5qdM+PZpgJJfarf/4x//mpz/9HUrF5tZaGi/W1jt7e7tpFl65cuvs7KxScW3DPj7utlqtGzduBH64deN2t9ttNusv3701HAz2D/YGg26/1/M8T9dwaWWJMXrWPwuCKPS9LMsQLeVcEoI0zcBQQICzLAdKmRqTAmBMIcwQgBhTKQG80JSTiiBsaowQYhqGrpFcgSTNuvt7cRgNp/M4E9dvveT7fuidYYwFV1TXhBCGYYVzMj07nUo+GY2C+cwymUr8LFBACQY4kFKjeDGPMURQgVKpXIjLttptIWUYF/TCSBc6QoBSDAASQmUZz3OhaQBCDCGWSiKAENYoMShJhBAYaYyaGuMSItd1pVTBwtc0w7FdSjWECIAIazqkLBcK8hwJpiDElMZpDl/0umBwLpOIwNfwyXnu5ZLdwxe9wZcTjpcvLnw8viTFU0D74ksV9q2UkhJcev1v9/Ery1d0zQ78dOfk4OnjZ1W31KhXCIZvv/3rnPODgyPbrDtOpiS9cf22pmlLrTz0542mG0cV3x+N+SLwk97pkZS8exr2TgduqTwcDp8+fZJxcOPGrXfeWXFM4+fTDwPfiyIXQ1VyHI2yhfLSNJYibdZbeZokcbC8sqJr5NrW1ed7B092x9QAKyslTdOiNOKRajablOJudzadzN5849Y739l+6fYtjGHJNaRKJ9NA0+ja+lqlUlaK905PABRc5L1uF2Pc741M05RcNJutf/7P/9m161uNZuX+p5+6ZUcjeJGEpqkzgjnPgmBBMTMtQymVJXoSI4DMJIkNQ6vXG5SiKFjMZp7OKK1WoAKMMYJzBCGjmhQCKIQxUgIghCghAAJCMFYc8MzUDALReDxYXlqKfY9p5uDkYDqduxU7DMM0zSUEjXpraWnpYNLrnXSBFEkcVsuOzRAzSLyYmoZmMzKbe6ZuJFGcpQkhxDAMwzBkocun5Hg2BUBSShXILVtjjBKOi+L/bOqlSU4IwYgyhqVUec6FkBJACWAupILItF1OJEFEAogg0RhzXRchkmUcE4o1DRAqIIIA5YLHae6HEZcKIagUQC+QDIL4HNAo/nW7RwicnwAXTvfiGn5dsu+ctObrTr0IGIp12btfvvjbfTxCFCjsOGWnFBCgSk5leWld5Hw48D3Pe/hwr9+fj8ZTt1qZzkIhhD8NZ9ORabJa1UySuVNiJdsa9LphGNabTULIfD5vd9Z/8IMfpDncfbZnm2u379xCEFBMKmVXwzhPsySOKyXn+OTwV3/wg8ViXq5V/GD+g++/c3h4eP/T3SxPMAZry61Gu1Gp1XXTaXc677//vlKqXtccW9Mp+f73v4cAPz05/uEPvzf3pkKI48NnUTjzff/mzeuMkZ/97M8bjdZoMKpWa8vLHULYZ5/cbzSav/ajH/7rf/2vnjx5vLqyRCnuHh+urq5cvbIRheHx8XGv162Wa5SyilvCEGRZvohYlmVZxrlQmkYQIimPEimSJMUQmppOCCUI68yIoggAkCSJ5KKogxBCCIZYScGzpXZnOJ1rGAXzSR75lm74sylWsuxYPI2zlM9GY53AuKTv7++PRqPbN29Ozo6xiGFuLbeaszzEKp9PZlxKkeWapvUGfUy1KAhN04QIJXlGKfV9zzAMAKUXZI5pZlkKpUEwU0qFYZjnuW07EgApFec8ChOIaZ4LIUQcp0JAXTdSmBVihvV6HSHCKEOIKAUBRBhjSAiESAGQZyKIwtnCK9gHIIQA4SLRWSz5CyKs8AVl0gsnDy9SKfBbVrGDgLqkYFzYeqHU8I3pJ3Vp5uNv8fH93tnRwfHt2zdv3Li93GyH/gICGAbx872HeZ7rhtM9GRwendy8c/vw4AtCSKfavnvnpf2Dp6cnXdOABOWLYOSUjEajznRD0zPGmKZpUy/iHBwdHX2x/8XKypppmt3jk8V0VitX8jQtBE/efPNNTaM3b944HZz+7k9/x7T03/ytn+zvna2vr29eXTiV+uFxfzCctJdwo16/dfPm8+e7jmPdvL4VhzODaWEQ37p1azJ7Nh6PNI02W3VC0Esv3dY0+uDLz8tuFSmAEMrz/OHDh45VGo1GWZb5aXT37t3FYn5yclSvV69d2261WpPpKIlif+5ZuqEbTElYNHOXSnomUWqmceiPx+O8ZBkaNXQrS+M8zwEmECKMMcGkKK8oBf1FAJSEClAMESP0/LQH3mwyHAwbrSV/Pjc1JngmM27Y1nDQC4JAAhT6fl6tEoQwhM16nSBAINA1moTBfAK6J8fLS23LoFGuMMaO4wQLv1xh0+m03mxQSgVQuq4vFglESikVRSGlJIkCG51rnCCECz/IOY+jFCGUZzGiRIgi35dBCAkhE286n89N3WjVW0XfGGPMsXGac4lwlOVhGnEEIWVSSkJIDsGFY4YQFozVL/w6AuBFZfTrzrdANZe87zfzNhd3XnjuS/GxLHoqv3ED+P+gFAIAIFme1JvVznIbE9KfDkN/IWTeOzmGQNx7+VaWx7kcvfmdK6/e25rOyrrOegefLvznuhluXVv2PG8+7zNNWY5JGQcqXu5UgyheTI+ub27PZt61VYdDfnWj9sH7nzZso1Kp5ZlKebK81g6jabONdCNbWSOZyCtOCmG+//SD3/zh23kmkpTnAnrD4dFspBxjsPfo1tXl7TVrb/fB8jLUtHK3/26vf3jjxjZMeKuCFoupYZZeeflaEASffPReq1kjmKxfXZeIfPTxg9X165pdZRX40aMBAt7m5uZw5M8WeZLMCSmF0dAwNAVQpbbGJT46mZXL5UqpgWhKCGH5XsvAgc+kwIxpQZiKPKtWKnEeUh2lKsAmJARnKMYWSoLEYAwgOJ1OK5UKZOzgtGdaVqfTAYaT46kkyDS0zPNsAwCRDI6Otq/d0wAYj8crtUpFJ9PjAxR7Is9yDZoEIJFahgEAsJ3SzrP91bUVjZkHB0dZlmmEahgFc3+SZa7rVstlDVMuIJ+Gq6urUitNJhNT0zVGFVZJknARQwmTFFAGuJAIokUY4wT7fowJMwwrS3POg4wrAi3DqACtkgCo6Zay3SyXcZrnQgKKTBtGUTQej8MwBgpKhgGAEGOJsIAIIAQglgAKACBASikpJFBKKkJ0x9ZsIuJCdgFwpJRiGBWCrBAohBBGmCIJYQ6KrneglO4UCnnnFKoISgS5UAqcWz8X/MLxK6Wy/OJMgBhThEixDdI0Pc/Hb25udjqdVqsV+kHOM4xxperaJkMAOI7DBbt+/XrOk+Pj491nT6vVcrvqUoohIgBApYBdcvM8H4/Ha6vriLJcCEo1Sul0Oo2TrLO85K5shkH627/9G892j91Sw2D64eFBve7m/Vmex7qhJ9HCsTSEpeM4AChvnDSaTcsuT2YL26QlRyNYDc66lZrBGK5UXUOnugGzbNFu1HVGFl4chvHm5pauawf7R7Va7e7deyfd3nQ+931fKZhl/PT0lODpzu4BhHhzo8oYQwgZhmEbZiGDkWVJ2SmFkQ8hpIhBqHChkkWIrutJkCqlCi6/RR6IPEcImaap64wQAtH58V0M1wFJEMGO4xiGAQAwTdM0zQJlVioVSmnxeHzfL3Rhj46OdIMVtN2apsmcK/VV13iSJAbTijYSQkie54aONE0rJgPRCyFf27YvaN4KxbY8zwt3LiFglCqlggCFYSCltBy7VCoFfqRpWpqmxQw4hLD4qMlipBRM8sxRqlKtOaUqNcycq+NePwmTJM4AAHmeJ0kShiHPU6NSRgBepn1U6NwBQ/kCbPwC4L7szs9D1a93zqgLxqVvc9vfyM9cPgcuHyOXfywKWAAAcuPGjTAM9/b2vNlcN7Q0jkxLtwyaxEG/d8B5apk6JiD0F3EcG0YnTuIgTKUUjqSY6JpGIIRx2oeE8lwGoefYLkBwPJ0AhXRdOz7pM6b7SdKolRCSAKQbG+3h6JQyoGuwUjYgygwDJ/Gi7Fq2Tc+6Qwgd0yxPpiFj8vatq2tXrgZR6AfTctkpuwYhQGMIAdS5ckWjRMVoPJpOp/OlpaVWawlCeDY8HY1m12/eKbm1KEWGacdRggmilCJEut3eYrFYW1kt9FsWi0UU+rquu44dx5FpmpiAIPQIAo7jMI0hqCdBWuwQBMhF2PRCChBDpDDCGGMIASHE92LCaCEpU/CMWrZdmHipVJJSpmnKOY+iqHBavu9r+jltWJIkcRAmScIYLRTroygqWbaUMkkSCGEhwVkkGQsqasMwEEK6rhdEkEXO5OLZCyGSJGGsVAS4QbAI44jpmmmaACODsvFoYlpulicIIaZpuq5jTAmjBWi2LMuwrTSTSZ4JIcIwHE/nSikoVRRFURSlWUwdGwH4NX0OKM7t+MIaX6TPwQuRwEvmToqbwYXBAwyhghBexuXFx8AXbTnF51wGORdGf7FbLu+r4nmdW/zZ2VkURcPhYHQ2XFruUAKETPMU51lSqziG4VACCMVAipynYRhKir2Fb5omYiZI8zjOLNvQdJsy0w+muVAVjSkEESGUaovFIgwnjfpm92S4unI1DBLbMJM0wiirlQ3bIgRzjWJGaCCzOPLiOF1eqmCULBaD6bSLUbK0VGs1S2qYlMu1arWUZoEUsRARkIIA5c0mlDrLy6tSSoy0klPNsqxeW1pdvyYFms0Wo+GUc5llHInU1HTDdkSupFTNZpNzjoAs/KJlmVmWScmdklGynfl8TqiyHa1UMqaLiDEGFMAYi1wyxgRUWZZJJSlRGjUIxpRQQkieC6WU53maoRcEvGmamqalaVqSJL7vOWW36CNXShXRoWVZplWrVMoAgPl87vteuPAxgY1GfT6fYwLTNC3aeObzeSHMlmVZwexQtKlwzouzAkJ4YQRJkhRnAsY4SRLTNHXDdBwnSsIoigq6ZoyxYZicnzHGwjBGEGuaoWnaysqKphuZkE6p3Gw2Nas0Gs9lkgRBVIhCc86RAnmeKyCK4teF0z2/Bi962i9Z/MUNvJgkA+d9v8XfHyGkpEQvFoQQwBe08eqbzJLFdTGgXJj75S4DAL6qVV3skMuxAcmybGVlxXWdwF8EwYJRnCRBFPgbV1Ysy6QMZkmMELJt27KNPM8t00HMtG0TIj1KZotFwCX0/IiOJqPRqNFs5VyMxme2bUNMjrsnayttgtTGesebTzVq6Dr65JPPCFXlpSpC+WIR2EbTMA2KTd9fLOaLVpWlaVi12a1bV5eWW1KS08HZaXdvdXUVKpMgxXQt58KsmARhycU7b35nd3f36dOn49HzwI9v3Lpdqy0/2z94+Ojpwf7JZBZwAQ3dRhgIIXXKqFUeDoeTyWwwGNimXi6XoihCCOqMSMUxhobJILLLJdspMYh4nufFLFWeqTznpmkqQZMklnFCibIMpiFKKcUIF0kPwzCYrlmWVUBPhFAhjncxBFR4OM45QqjQCzJNs9gJi8Ui8gPT0gEAi8XCtPTiLXmeFhI0EMI4jk3TLBS0i3Mmy7LJZFKtVoubCx3CQtGAMSZUJoTIUg4R0jWzEDII49RxHMYYYRohhBBGCEEEQ4w0rOu6jjggTKNUo0QTUoZBvFgsoiQ7HzkVAkiu67plWTk8p0S9MC/1wiK/FdUUYygQQoQBvhjEQkB9s7wKi/54xb8KW7/6J5QqYNvlcPbinm+cBvBFJ8i5xU8n8yiKTFO/cuVKuVwSPDFMxjBCUJQcUwEBldR1DUhRrZWFEJNpUq52NI3OF16UCAUZonrGwWS+yLmqVGpSAs/zDMNK01QpVauUk4RjRPzF/OpLG0+ePLEtPQ5nvjfRtTJGHCieJmHgRzwTFcd2S3p/MDztHiDMHLdRr9chUlK+9MUXXyiZlCsu0WipVC25ehyF1XLDMZ3XX3vTMt3j7gkl2ml3SDWjXG6W3QnT5whmukZct6IkjEBsGtryarsYvIcQ1mq1K1fW9oHkPOc8wxhwkSbpQje0csUCIC9cGoWMMSY4B0Doug4VnafRhdcBX6//dTodTIllWZ7nFdixyFoWk9oF3OeiSAjGpVKp2A/FqASl1DAMSs+DraKWJIQAQBUkOQih4mZSKFwLoet6oaJawIALH69pWvErx9GlFHGaKCUAAAgSrqRSStdNAFGpVMIYa7qOCJZSSgEgJRBiQiBQcOH7Ggeet+j1ekXkAC5o7hDRdd227VkYXvbBEJ73DuR5/q2ohsvzPwKCFEFSOHiEkAIcQlgYPTzPxEOpviYQchmXFz7+MqZ/8R8A3+rjL95I6vX6dDrVNFWpVEyTBX7CGNEZGQ37BAvD0ABUURT0uqfwORwMBqsbL9m2DaGaexOmIUINpjum7Z4cHUKozobj8XgcxzHCdD6fA4AGvbPRaJZnMo5E5Ad7O7vXrm0/984wNJTgBCNvNjN0czQYObZbct0njx5hSg2zJHiGgIzD4KzfDxbz1aXlUqnUajZGwz6BaBBMFvNprVb54vNHmqbtPNvTTWN5ZX0wnO49P84zsbF5nerl3unZbOaZhp3neZ6fW1etVhM5L5VKhc7o8KwfRgulVL1ed10rzxOIuJCWUhJhASHMskxjmqZpPAMQQIwwY8x2bMfWiuJOBjJKEACAEKJpFGKkVEFYRwAAaZpalgUhLlRRi0ixUFMzTbP4/AtJeIZJEfGVSqUw8ouY1bKMCw1hqVSapoVBF2LZ9Xrd87yLI+VCzBoU6Q6IhVIIQkIYIZkA59y8TNPSNCuXy2kmC5LUPM8J5m65SjVNNy3KDF03NdMqlUpUY5hSAGKhJECQIgwhAQhlnHPO4deZlYpEpJTyW1GNUAohVej/YIyL2XOEkFIEnR8W51Uq+YJuCVxaF5Z9MfmhLsWsSn3F/nTZ7gtvcm7xjx8/rdUqhJDd3V3fn5Vda3Vtyfcmo2F/ZanpuqU8ywxD0zStXC6naTr1oqkXZXkMJO90mkmaRXHOmLm8ekUpoZkWANO1tSvtdjsIouXl5Val/vDznc3N6wYVScyvbd60TX3z6vVa1Vz4k9lsniXxzZu3oSSK49Fw7rqu65aFRMcnA6D0ZsuoV+traxtng5FSsOo2dh7tyBx4s3GWxu3GSve4m2WZppu2Udl/foKpUXLqf/wn/+njz55UKrWi+aRaqZddl+d5oTe2uroKFajXq0vtdqez3Ds9SRJnPhu02u1azR0MjqNoEQSaYWolV18ssjgNMTJMw8qZSpMcY6hpWr1e0xhEQOQ8zWQGQeEaSRAEECOMcRiGhZCOUsq27SCIptNpqVTSNKPoVk+SxHVdAC0uskJECWNICJGKSyld1w0jv3hIpmnWarX4hV57oYhdEPkWKthKqTiOi9RNsc2Kx5zneZxnhBDDsDWNcSWBN8+yTAFECInjxDDtLPcZ0xAiSZZhwb25z4ycaSZjjBDmOI4AuD6e+WEKkC+KrI7OEIBS8TgJC4u/vL6qNH2bxUslC10w8FUrDj7Pzquv8vqXHPO3oJpvfL988YuR67mhv4hcUSFJXiqVyuXy8kpn/cpas1XNeYIxTJKYMVYulxBClmW5rqtpGtOsW7fvSgEXQaIZ9nwRnBx3B2cjXTeXl1chQDdv3gIANputmzdv1Wp1XSttXr2Vp2ipvT6fBKVS5eaNl169+7rGTH8RyRyurmw+3zsens0YMdeWt65t3iTYBBLlmTo8OJrPgjTN33v3w/3nJ4KD99/7+N/92w92Hj1fXb52ejL9/LMdAgkEeH19YzA4q9Vaz54dBGH+0suvlSuNk26/e9pPk9xbzNrtZrtZBbKg2J7mee44ThAEn376qVJQ1/WyW+WcT2cTQohbLq2tr9TrFbdsl8tlIcRsNisIT0qlUgEh5vN5v98Pw1ApVeg3FcFiAdyLnRbHcSEjUxCA1Wq1iyeBMS7UwyGEhbA1ISSKomq1Whz04/G41Wo5jlPsUs55u90mhNTr9QLHSylrtVpBTli03FFKC7FsKWXxuqZpUZgwxhAhcZZGUWSatgLIdV0IkVMqJ0nCGIMEx2lqWRYAaDSdnp0Nz85G80WQ5gICVK/XX3755ddee+3OnTudTqdIsAIEAQAF1LkohRYCl8W6kIK6jLAvYo8CvgOACm6ZJMnOIwH1VceYUkBKBS+adjAuovPiSEQvOsy+cVGQlBQHupTygo7qAnb+v5Ps3ERtD8rrAAAAAElFTkSuQmCC\n",
        "metadata": {
         "tags": []
        },
        "output_type": "display_data",
        "text/plain": "<PIL.Image.Image image mode=RGB size=251x201 at 0x7F0653CA5A90>"
       }
      ]
     }
    },
    "25c8af20218d4de89426ee92c0bc4011": {
     "model_module": "@jupyter-widgets/base",
     "model_name": "LayoutModel",
     "state": {
      "_model_module": "@jupyter-widgets/base",
      "_model_module_version": "1.2.0",
      "_model_name": "LayoutModel",
      "_view_count": null,
      "_view_module": "@jupyter-widgets/base",
      "_view_module_version": "1.2.0",
      "_view_name": "LayoutView",
      "align_content": null,
      "align_items": null,
      "align_self": null,
      "border": null,
      "bottom": null,
      "display": null,
      "flex": null,
      "flex_flow": null,
      "grid_area": null,
      "grid_auto_columns": null,
      "grid_auto_flow": null,
      "grid_auto_rows": null,
      "grid_column": null,
      "grid_gap": null,
      "grid_row": null,
      "grid_template_areas": null,
      "grid_template_columns": null,
      "grid_template_rows": null,
      "height": null,
      "justify_content": null,
      "justify_items": null,
      "left": null,
      "margin": null,
      "max_height": null,
      "max_width": null,
      "min_height": null,
      "min_width": null,
      "object_fit": null,
      "object_position": null,
      "order": null,
      "overflow": null,
      "overflow_x": null,
      "overflow_y": null,
      "padding": null,
      "right": null,
      "top": null,
      "visibility": null,
      "width": null
     }
    },
    "47cd3d7cdfc6483cbc3c58732306a50e": {
     "model_module": "@jupyter-widgets/controls",
     "model_name": "LabelModel",
     "state": {
      "_dom_classes": [],
      "_model_module": "@jupyter-widgets/controls",
      "_model_module_version": "1.5.0",
      "_model_name": "LabelModel",
      "_view_count": null,
      "_view_module": "@jupyter-widgets/controls",
      "_view_module_version": "1.5.0",
      "_view_name": "LabelView",
      "description": "",
      "description_tooltip": null,
      "layout": "IPY_MODEL_25c8af20218d4de89426ee92c0bc4011",
      "placeholder": "​",
      "style": "IPY_MODEL_71c13e5e6d644d0d8710d2ab9d542c3d",
      "value": "Click the upload button to select your bear for analysis!"
     }
    },
    "4c8449839f594c85afff4be4dbbee98b": {
     "model_module": "@jupyter-widgets/controls",
     "model_name": "DescriptionStyleModel",
     "state": {
      "_model_module": "@jupyter-widgets/controls",
      "_model_module_version": "1.5.0",
      "_model_name": "DescriptionStyleModel",
      "_view_count": null,
      "_view_module": "@jupyter-widgets/base",
      "_view_module_version": "1.2.0",
      "_view_name": "StyleView",
      "description_width": ""
     }
    },
    "546fae3a1a5049449845aa9ffffb6727": {
     "model_module": "@jupyter-widgets/base",
     "model_name": "LayoutModel",
     "state": {
      "_model_module": "@jupyter-widgets/base",
      "_model_module_version": "1.2.0",
      "_model_name": "LayoutModel",
      "_view_count": null,
      "_view_module": "@jupyter-widgets/base",
      "_view_module_version": "1.2.0",
      "_view_name": "LayoutView",
      "align_content": null,
      "align_items": null,
      "align_self": null,
      "border": null,
      "bottom": null,
      "display": null,
      "flex": null,
      "flex_flow": null,
      "grid_area": null,
      "grid_auto_columns": null,
      "grid_auto_flow": null,
      "grid_auto_rows": null,
      "grid_column": null,
      "grid_gap": null,
      "grid_row": null,
      "grid_template_areas": null,
      "grid_template_columns": null,
      "grid_template_rows": null,
      "height": null,
      "justify_content": null,
      "justify_items": null,
      "left": null,
      "margin": null,
      "max_height": null,
      "max_width": null,
      "min_height": null,
      "min_width": null,
      "object_fit": null,
      "object_position": null,
      "order": null,
      "overflow": null,
      "overflow_x": null,
      "overflow_y": null,
      "padding": null,
      "right": null,
      "top": null,
      "visibility": null,
      "width": null
     }
    },
    "5bf3d35882184636a92eff79943be1df": {
     "model_module": "@jupyter-widgets/base",
     "model_name": "LayoutModel",
     "state": {
      "_model_module": "@jupyter-widgets/base",
      "_model_module_version": "1.2.0",
      "_model_name": "LayoutModel",
      "_view_count": null,
      "_view_module": "@jupyter-widgets/base",
      "_view_module_version": "1.2.0",
      "_view_name": "LayoutView",
      "align_content": null,
      "align_items": null,
      "align_self": null,
      "border": null,
      "bottom": null,
      "display": null,
      "flex": null,
      "flex_flow": null,
      "grid_area": null,
      "grid_auto_columns": null,
      "grid_auto_flow": null,
      "grid_auto_rows": null,
      "grid_column": null,
      "grid_gap": null,
      "grid_row": null,
      "grid_template_areas": null,
      "grid_template_columns": null,
      "grid_template_rows": null,
      "height": null,
      "justify_content": null,
      "justify_items": null,
      "left": null,
      "margin": null,
      "max_height": null,
      "max_width": null,
      "min_height": null,
      "min_width": null,
      "object_fit": null,
      "object_position": null,
      "order": null,
      "overflow": null,
      "overflow_x": null,
      "overflow_y": null,
      "padding": null,
      "right": null,
      "top": null,
      "visibility": null,
      "width": null
     }
    },
    "71c13e5e6d644d0d8710d2ab9d542c3d": {
     "model_module": "@jupyter-widgets/controls",
     "model_name": "DescriptionStyleModel",
     "state": {
      "_model_module": "@jupyter-widgets/controls",
      "_model_module_version": "1.5.0",
      "_model_name": "DescriptionStyleModel",
      "_view_count": null,
      "_view_module": "@jupyter-widgets/base",
      "_view_module_version": "1.2.0",
      "_view_name": "StyleView",
      "description_width": ""
     }
    },
    "7ebc3f7020544ac6b0a470fe009a5354": {
     "model_module": "@jupyter-widgets/controls",
     "model_name": "DescriptionStyleModel",
     "state": {
      "_model_module": "@jupyter-widgets/controls",
      "_model_module_version": "1.5.0",
      "_model_name": "DescriptionStyleModel",
      "_view_count": null,
      "_view_module": "@jupyter-widgets/base",
      "_view_module_version": "1.2.0",
      "_view_name": "StyleView",
      "description_width": ""
     }
    },
    "a4d904e04679445aac8ba9c483425a4b": {
     "model_module": "@jupyter-widgets/base",
     "model_name": "LayoutModel",
     "state": {
      "_model_module": "@jupyter-widgets/base",
      "_model_module_version": "1.2.0",
      "_model_name": "LayoutModel",
      "_view_count": null,
      "_view_module": "@jupyter-widgets/base",
      "_view_module_version": "1.2.0",
      "_view_name": "LayoutView",
      "align_content": null,
      "align_items": null,
      "align_self": null,
      "border": null,
      "bottom": null,
      "display": null,
      "flex": null,
      "flex_flow": null,
      "grid_area": null,
      "grid_auto_columns": null,
      "grid_auto_flow": null,
      "grid_auto_rows": null,
      "grid_column": null,
      "grid_gap": null,
      "grid_row": null,
      "grid_template_areas": null,
      "grid_template_columns": null,
      "grid_template_rows": null,
      "height": null,
      "justify_content": null,
      "justify_items": null,
      "left": null,
      "margin": null,
      "max_height": null,
      "max_width": null,
      "min_height": null,
      "min_width": null,
      "object_fit": null,
      "object_position": null,
      "order": null,
      "overflow": null,
      "overflow_x": null,
      "overflow_y": null,
      "padding": null,
      "right": null,
      "top": null,
      "visibility": null,
      "width": null
     }
    },
    "a8653ed4a53d4048933e0be554b4d969": {
     "model_module": "@jupyter-widgets/controls",
     "model_name": "LabelModel",
     "state": {
      "_dom_classes": [],
      "_model_module": "@jupyter-widgets/controls",
      "_model_module_version": "1.5.0",
      "_model_name": "LabelModel",
      "_view_count": null,
      "_view_module": "@jupyter-widgets/controls",
      "_view_module_version": "1.5.0",
      "_view_name": "LabelView",
      "description": "",
      "description_tooltip": null,
      "layout": "IPY_MODEL_546fae3a1a5049449845aa9ffffb6727",
      "placeholder": "​",
      "style": "IPY_MODEL_7ebc3f7020544ac6b0a470fe009a5354",
      "value": "This is a simple online bear type classifier"
     }
    },
    "acaa99e04ca34ce1ae3e0899684d5087": {
     "model_module": "@jupyter-widgets/base",
     "model_name": "LayoutModel",
     "state": {
      "_model_module": "@jupyter-widgets/base",
      "_model_module_version": "1.2.0",
      "_model_name": "LayoutModel",
      "_view_count": null,
      "_view_module": "@jupyter-widgets/base",
      "_view_module_version": "1.2.0",
      "_view_name": "LayoutView",
      "align_content": null,
      "align_items": null,
      "align_self": null,
      "border": null,
      "bottom": null,
      "display": null,
      "flex": null,
      "flex_flow": null,
      "grid_area": null,
      "grid_auto_columns": null,
      "grid_auto_flow": null,
      "grid_auto_rows": null,
      "grid_column": null,
      "grid_gap": null,
      "grid_row": null,
      "grid_template_areas": null,
      "grid_template_columns": null,
      "grid_template_rows": null,
      "height": null,
      "justify_content": null,
      "justify_items": null,
      "left": null,
      "margin": null,
      "max_height": null,
      "max_width": null,
      "min_height": null,
      "min_width": null,
      "object_fit": null,
      "object_position": null,
      "order": null,
      "overflow": null,
      "overflow_x": null,
      "overflow_y": null,
      "padding": null,
      "right": null,
      "top": null,
      "visibility": null,
      "width": null
     }
    },
    "bc3cc6f8c1a64736b61770f5ed641176": {
     "model_module": "@jupyter-widgets/base",
     "model_name": "LayoutModel",
     "state": {
      "_model_module": "@jupyter-widgets/base",
      "_model_module_version": "1.2.0",
      "_model_name": "LayoutModel",
      "_view_count": null,
      "_view_module": "@jupyter-widgets/base",
      "_view_module_version": "1.2.0",
      "_view_name": "LayoutView",
      "align_content": null,
      "align_items": null,
      "align_self": null,
      "border": null,
      "bottom": null,
      "display": null,
      "flex": null,
      "flex_flow": null,
      "grid_area": null,
      "grid_auto_columns": null,
      "grid_auto_flow": null,
      "grid_auto_rows": null,
      "grid_column": null,
      "grid_gap": null,
      "grid_row": null,
      "grid_template_areas": null,
      "grid_template_columns": null,
      "grid_template_rows": null,
      "height": null,
      "justify_content": null,
      "justify_items": null,
      "left": null,
      "margin": null,
      "max_height": null,
      "max_width": null,
      "min_height": null,
      "min_width": null,
      "object_fit": null,
      "object_position": null,
      "order": null,
      "overflow": null,
      "overflow_x": null,
      "overflow_y": null,
      "padding": null,
      "right": null,
      "top": null,
      "visibility": null,
      "width": null
     }
    },
    "c23b242608e1480081629d766cd4d21d": {
     "model_module": "@jupyter-widgets/controls",
     "model_name": "ButtonModel",
     "state": {
      "_dom_classes": [],
      "_model_module": "@jupyter-widgets/controls",
      "_model_module_version": "1.5.0",
      "_model_name": "ButtonModel",
      "_view_count": null,
      "_view_module": "@jupyter-widgets/controls",
      "_view_module_version": "1.5.0",
      "_view_name": "ButtonView",
      "button_style": "",
      "description": "Classify image",
      "disabled": false,
      "icon": "",
      "layout": "IPY_MODEL_bc3cc6f8c1a64736b61770f5ed641176",
      "style": "IPY_MODEL_ccfaeb6971934904b77423d4d2d49769",
      "tooltip": ""
     }
    },
    "c6fb44fa24704191bb0f7ae9020ba388": {
     "model_module": "@jupyter-widgets/controls",
     "model_name": "FileUploadModel",
     "state": {
      "_counter": 2,
      "_dom_classes": [],
      "_model_module": "@jupyter-widgets/controls",
      "_model_module_version": "1.5.0",
      "_model_name": "FileUploadModel",
      "_view_count": null,
      "_view_module": "@jupyter-widgets/controls",
      "_view_module_version": "1.5.0",
      "_view_name": "FileUploadView",
      "accept": "",
      "button_style": "",
      "data": [
       null
      ],
      "description": "Upload",
      "description_tooltip": null,
      "disabled": false,
      "error": "",
      "icon": "upload",
      "layout": "IPY_MODEL_a4d904e04679445aac8ba9c483425a4b",
      "metadata": [
       {
        "lastModified": 1600134056733,
        "name": "grizzly2.jpeg",
        "size": 10584,
        "type": "image/jpeg"
       }
      ],
      "multiple": false,
      "style": "IPY_MODEL_f353f631cfe242c7b90175e6f9c0f633"
     }
    },
    "ccfaeb6971934904b77423d4d2d49769": {
     "model_module": "@jupyter-widgets/controls",
     "model_name": "ButtonStyleModel",
     "state": {
      "_model_module": "@jupyter-widgets/controls",
      "_model_module_version": "1.5.0",
      "_model_name": "ButtonStyleModel",
      "_view_count": null,
      "_view_module": "@jupyter-widgets/base",
      "_view_module_version": "1.2.0",
      "_view_name": "StyleView",
      "button_color": null,
      "font_weight": ""
     }
    },
    "e21e78619c0e4e88809560224e89b1d3": {
     "model_module": "@jupyter-widgets/base",
     "model_name": "LayoutModel",
     "state": {
      "_model_module": "@jupyter-widgets/base",
      "_model_module_version": "1.2.0",
      "_model_name": "LayoutModel",
      "_view_count": null,
      "_view_module": "@jupyter-widgets/base",
      "_view_module_version": "1.2.0",
      "_view_name": "LayoutView",
      "align_content": null,
      "align_items": null,
      "align_self": null,
      "border": null,
      "bottom": null,
      "display": null,
      "flex": null,
      "flex_flow": null,
      "grid_area": null,
      "grid_auto_columns": null,
      "grid_auto_flow": null,
      "grid_auto_rows": null,
      "grid_column": null,
      "grid_gap": null,
      "grid_row": null,
      "grid_template_areas": null,
      "grid_template_columns": null,
      "grid_template_rows": null,
      "height": null,
      "justify_content": null,
      "justify_items": null,
      "left": null,
      "margin": null,
      "max_height": null,
      "max_width": null,
      "min_height": null,
      "min_width": null,
      "object_fit": null,
      "object_position": null,
      "order": null,
      "overflow": null,
      "overflow_x": null,
      "overflow_y": null,
      "padding": null,
      "right": null,
      "top": null,
      "visibility": null,
      "width": null
     }
    },
    "e2772dec3b0a4b55b0ff3a922426d93b": {
     "model_module": "@jupyter-widgets/controls",
     "model_name": "VBoxModel",
     "state": {
      "_dom_classes": [],
      "_model_module": "@jupyter-widgets/controls",
      "_model_module_version": "1.5.0",
      "_model_name": "VBoxModel",
      "_view_count": null,
      "_view_module": "@jupyter-widgets/controls",
      "_view_module_version": "1.5.0",
      "_view_name": "VBoxView",
      "box_style": "",
      "children": [
       "IPY_MODEL_a8653ed4a53d4048933e0be554b4d969",
       "IPY_MODEL_47cd3d7cdfc6483cbc3c58732306a50e",
       "IPY_MODEL_c6fb44fa24704191bb0f7ae9020ba388",
       "IPY_MODEL_c23b242608e1480081629d766cd4d21d",
       "IPY_MODEL_0c4103c8a1b048fca9560cc46917e675",
       "IPY_MODEL_e71960be600d400cb29a8dca752249ae"
      ],
      "layout": "IPY_MODEL_5bf3d35882184636a92eff79943be1df"
     }
    },
    "e71960be600d400cb29a8dca752249ae": {
     "model_module": "@jupyter-widgets/controls",
     "model_name": "LabelModel",
     "state": {
      "_dom_classes": [],
      "_model_module": "@jupyter-widgets/controls",
      "_model_module_version": "1.5.0",
      "_model_name": "LabelModel",
      "_view_count": null,
      "_view_module": "@jupyter-widgets/controls",
      "_view_module_version": "1.5.0",
      "_view_name": "LabelView",
      "description": "",
      "description_tooltip": null,
      "layout": "IPY_MODEL_acaa99e04ca34ce1ae3e0899684d5087",
      "placeholder": "​",
      "style": "IPY_MODEL_4c8449839f594c85afff4be4dbbee98b",
      "value": "Prediction: grizzly bear; \nProbability: 0.9830"
     }
    },
    "f353f631cfe242c7b90175e6f9c0f633": {
     "model_module": "@jupyter-widgets/controls",
     "model_name": "ButtonStyleModel",
     "state": {
      "_model_module": "@jupyter-widgets/controls",
      "_model_module_version": "1.5.0",
      "_model_name": "ButtonStyleModel",
      "_view_count": null,
      "_view_module": "@jupyter-widgets/base",
      "_view_module_version": "1.2.0",
      "_view_name": "StyleView",
      "button_color": null,
      "font_weight": ""
     }
    }
   }
  }
 },
 "nbformat": 4,
 "nbformat_minor": 1
}
